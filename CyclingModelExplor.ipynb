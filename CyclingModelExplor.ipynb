{
 "cells": [
  {
   "cell_type": "markdown",
   "metadata": {},
   "source": [
    "This jupyter notebook is modified based Julia DynamicWalking2018 tutorial"
   ]
  },
{
 "cells": [
  {
   "cell_type": "markdown",
   "metadata": {},
   "source": [
    "# Setup"
   ]
  },
  {
   "cell_type": "code",
   "execution_count": 1,
   "metadata": {},
   "outputs": [],
   "source": [
    "# Seed the random number generator so that it will\n",
    "# produce the same set of random numbers. \n",
    "#\n",
    "# You don't generally need to do this, but it ensures\n",
    "# that you'll see exactly the same results we do for\n",
    "# this demo. \n",
    "srand(42);"
   ]
  },
  {
   "cell_type": "code",
   "execution_count": 2,
   "metadata": {},
   "outputs": [],
   "source": [
    "#Pkg.add(\"RigidBodyDynamics\")\n",
    "#Pkg.add(\"Plots\")\n",
    "#Pkg.add(\"MeshCatMechanisms\")\n",
    "#Pkg.add(\"BenchmarkTools\")"
   ]
  },
  {
   "cell_type": "code",
   "execution_count": 3,
   "metadata": {},
   "outputs": [],
   "source": [
    "using BenchmarkTools"
   ]
  },
  {
   "cell_type": "code",
   "execution_count": 4,
   "metadata": {
    "scrolled": true
   },
   "outputs": [
    {
     "data": {
      "text/html": [
       "    <script class='js-collapse-script'>\n",
       "        var curMatch =\n",
       "            window.location.href\n",
       "            .match(/(.*?)\\/notebooks\\/.*\\.ipynb/);\n",
       "\n",
       "        curMatch = curMatch ||\n",
       "            window.location.href\n",
       "            .match(/(.*?)\\/apps\\/.*\\.ipynb/);\n",
       "\n",
       "        if ( curMatch ) {\n",
       "            $('head').append('<base href=\"' + curMatch[1] + '/\">');\n",
       "        }\n",
       "    </script>\n"
      ],
      "text/plain": [
       "HTML{String}(\"    <script class='js-collapse-script'>\\n        var curMatch =\\n            window.location.href\\n            .match(/(.*?)\\\\/notebooks\\\\/.*\\\\.ipynb/);\\n\\n        curMatch = curMatch ||\\n            window.location.href\\n            .match(/(.*?)\\\\/apps\\\\/.*\\\\.ipynb/);\\n\\n        if ( curMatch ) {\\n            \\$('head').append('<base href=\\\"' + curMatch[1] + '/\\\">');\\n        }\\n    </script>\\n\")"
      ]
     },
     "metadata": {},
     "output_type": "display_data"
    },
    {
     "data": {
      "text/html": [
       "<script class='js-collapse-script' src='pkg/WebIO/webio/dist/bundle.js'></script>"
      ],
      "text/plain": [
       "HTML{String}(\"<script class='js-collapse-script' src='pkg/WebIO/webio/dist/bundle.js'></script>\")"
      ]
     },
     "metadata": {},
     "output_type": "display_data"
    },
    {
     "data": {
      "text/html": [
       "<script class='js-collapse-script' src='pkg/WebIO/providers/ijulia_setup.js'></script>"
      ],
      "text/plain": [
       "HTML{String}(\"<script class='js-collapse-script' src='pkg/WebIO/providers/ijulia_setup.js'></script>\")"
      ]
     },
     "metadata": {},
     "output_type": "display_data"
    },
    {
     "data": {
      "text/html": [
       "  <script class='js-collapse-script'>\n",
       "    $('.js-collapse-script').parent('.output_subarea').css('padding', '0');\n",
       "  </script>\n"
      ],
      "text/plain": [
       "HTML{String}(\"  <script class='js-collapse-script'>\\n    \\$('.js-collapse-script').parent('.output_subarea').css('padding', '0');\\n  </script>\\n\")"
      ]
     },
     "metadata": {},
     "output_type": "display_data"
    }
   ],
   "source": [
    "using RigidBodyDynamics\n",
    "using Plots\n",
    "using MeshCatMechanisms\n",
    "using Base.Test"
   ]
  },
  {
   "cell_type": "markdown",
   "metadata": {},
   "source": [
    "# Creating, simulating, and visualizing a Cycling Body `Mechanism`\n",
    "\n",
    "We're going to create a simple `Mechanism` that represents a cycling body model.\n",
    "One way of creating a `Mechanism` is by parsing a [URDF](http://wiki.ros.org/urdf) file:"
   ]
  },
  {
   "cell_type": "code",
   "execution_count": 5,
   "metadata": {},
   "outputs": [
    {
     "data": {
      "text/plain": [
       "Spanning tree:\n",
       "Vertex: world (root)\n",
       "  Vertex: base_link, Edge: base_link_to_world\n",
       "    Vertex: right_thigh, Edge: right_hip\n",
       "      Vertex: right_shank, Edge: right_knee\n",
       "    Vertex: left_thigh, Edge: left_hip\n",
       "      Vertex: left_shank, Edge: left_knee\n",
       "No non-tree joints."
      ]
     },
     "execution_count": 5,
     "metadata": {},
     "output_type": "execute_result"
    }
   ],
   "source": [
    "urdf = \"data/cycling2d.urdf\"\n",
    "cycling = parse_urdf(Float64, urdf)"
   ]
  },
  {
   "cell_type": "markdown",
   "metadata": {},
   "source": [
    "A `Mechanism` stores the joint/rigid body layout, but no state information. State information is separated out into a `MechanismState` object:"
   ]
  },
  {
   "cell_type": "code",
   "execution_count": 6,
   "metadata": {},
   "outputs": [
    {
     "data": {
      "text/plain": [
       "MechanismState{Float64, Float64, Float64, …}(…)"
      ]
     },
     "execution_count": 6,
     "metadata": {},
     "output_type": "execute_result"
    }
   ],
   "source": [
    "const state = MechanismState(cycling)"
   ]
  },
  {
   "cell_type": "markdown",
   "metadata": {},
   "source": [
    "Next, we'll visualize the double pendulum using MeshCat (a web-enabled 3D viewer): "
   ]
  },
  {
   "cell_type": "code",
   "execution_count": 7,
   "metadata": {},
   "outputs": [],
   "source": [
    "vis = MechanismVisualizer(cycling, URDFVisuals(urdf));"
   ]
  },
  {
   "cell_type": "markdown",
   "metadata": {},
   "source": [
    "MeshCat even allows us to embed a visualizer inside the jupyter notebook: "
   ]
  },
  {
   "cell_type": "code",
   "execution_count": 8,
   "metadata": {
    "scrolled": true
   },
   "outputs": [
    {
     "data": {
      "text/html": [
       "<div class='display:none'></div><unsafe-script style='display:none'>\n",
       "WebIO.mount(this.previousSibling,{&quot;props&quot;:{},&quot;nodeType&quot;:&quot;Scope&quot;,&quot;type&quot;:&quot;node&quot;,&quot;instanceArgs&quot;:{&quot;imports&quot;:{&quot;data&quot;:[],&quot;type&quot;:&quot;async_block&quot;},&quot;id&quot;:&quot;scope-16a6baef-6134-4ddb-a88a-221f1ec68282&quot;,&quot;handlers&quot;:{&quot;_promises&quot;:{&quot;importsLoaded&quot;:[function () {\n",
       "    var frame = this.dom.querySelector(&quot;#ifr&quot;);\n",
       "    var doc = frame.contentDocument\n",
       "    var win = frame.contentWindow\n",
       "\n",
       "    // Determine if we&#39;re running on a Jupyter hosting service\n",
       "    // that requires a base URL when retrieving assets\n",
       "    var curMatch =\n",
       "        window.location.href\n",
       "        .match(/(.*?)\\/notebooks\\/.*\\.ipynb/);\n",
       "    curMatch = curMatch ||\n",
       "        window.location.href\n",
       "        .match(/(.*?)\\/apps\\/.*\\.ipynb/);\n",
       "    if (curMatch) {\n",
       "        var base = doc.createElement(&quot;base&quot;);\n",
       "        base.setAttribute(&quot;href&quot;, curMatch[1] + &#39;/&#39;);\n",
       "        doc.head.appendChild(base);\n",
       "    }\n",
       "\n",
       "    var webio = doc.createElement(&quot;script&quot;)\n",
       "    webio.src = &quot;pkg/WebIO/webio/dist/bundle.js&quot;\n",
       "    var parent = window\n",
       "\n",
       "    function resizeIframe() {\n",
       "        doc.body.style.padding = &#39;0&#39;\n",
       "        doc.body.style.margin = &#39;0&#39;\n",
       "        doc.documentElement.height = &#39;100%&#39;\n",
       "        doc.body.height = &#39;100%&#39;\n",
       "    }\n",
       "\n",
       "    webio.onload = function () {\n",
       "        win.WebIO.sendCallback = parent.WebIO.sendCallback; // Share stuff\n",
       "        win.WebIO.scopes = parent.WebIO.scopes\n",
       "        win.WebIO.obsscopes = parent.WebIO.obsscopes\n",
       "        win.WebIO._connected = true\n",
       "        doc.body.innerHTML = &quot;&lt;html&gt;&lt;body&gt;&quot; + &quot;&lt;div class=&#39;display:none&#39;&gt;&lt;/div&gt;&lt;unsafe-script style=&#39;display:none&#39;&gt;\\nWebIO.mount(this.previousSibling,{&amp;quot;props&amp;quot;:{},&amp;quot;nodeType&amp;quot;:&amp;quot;Scope&amp;quot;,&amp;quot;type&amp;quot;:&amp;quot;node&amp;quot;,&amp;quot;instanceArgs&amp;quot;:{&amp;quot;imports&amp;quot;:{&amp;quot;data&amp;quot;:[{&amp;quot;name&amp;quot;:null,&amp;quot;type&amp;quot;:&amp;quot;js&amp;quot;,&amp;quot;url&amp;quot;:&amp;quot;pkg/MeshCat/meshcat/dist/main.min.js&amp;quot;}],&amp;quot;type&amp;quot;:&amp;quot;async_block&amp;quot;},&amp;quot;id&amp;quot;:&amp;quot;scope-ea0b3184-43b4-4e0c-8d93-4871fb64f900&amp;quot;,&amp;quot;handlers&amp;quot;:{&amp;quot;meshcat-command&amp;quot;:[(function (val){return this.viewer.handle_command_message({&amp;quot;data&amp;quot;:val})})],&amp;quot;_promises&amp;quot;:{&amp;quot;importsLoaded&amp;quot;:[(function (mc){var element=this.dom.children[0]; this.viewer=new mc.Viewer(element); WebIO.setval({&amp;quot;name&amp;quot;:&amp;quot;meshcat-request&amp;quot;,&amp;quot;scope&amp;quot;:&amp;quot;scope-ea0b3184-43b4-4e0c-8d93-4871fb64f900&amp;quot;,&amp;quot;id&amp;quot;:&amp;quot;ob_02&amp;quot;,&amp;quot;type&amp;quot;:&amp;quot;observable&amp;quot;},String(Date.now())); return window.document.body.style.margin=&amp;quot;0&amp;quot;})]}},&amp;quot;systemjs_options&amp;quot;:null,&amp;quot;observables&amp;quot;:{&amp;quot;meshcat-command&amp;quot;:{&amp;quot;sync&amp;quot;:false,&amp;quot;id&amp;quot;:&amp;quot;ob_01&amp;quot;,&amp;quot;value&amp;quot;:[131,166,109,97,116,114,105,120,199,64,23,0,0,128,63,0,0,0,0,0,0,0,0,0,0,0,0,0,0,0,0,0,0,128,63,0,0,0,0,0,0,0,0,0,0,0,0,0,0,0,0,0,0,128,63,0,0,0,0,0,0,0,0,0,0,0,0,0,0,0,191,0,0,128,63,164,116,121,112,101,173,115,101,116,95,116,114,97,110,115,102,111,114,109,164,112,97,116,104,218,0,46,47,109,101,115,104,99,97,116,47,119,111,114,108,100,47,98,97,115,101,95,108,105,110,107,47,108,101,102,116,95,116,104,105,103,104,47,108,101,102,116,95,115,104,97,110,107]},&amp;quot;meshcat-controls&amp;quot;:{&amp;quot;sync&amp;quot;:true,&amp;quot;id&amp;quot;:&amp;quot;ob_03&amp;quot;,&amp;quot;value&amp;quot;:[]},&amp;quot;meshcat-request&amp;quot;:{&amp;quot;sync&amp;quot;:true,&amp;quot;id&amp;quot;:&amp;quot;ob_02&amp;quot;,&amp;quot;value&amp;quot;:&amp;quot;&amp;quot;}}},&amp;quot;children&amp;quot;:[{&amp;quot;props&amp;quot;:{&amp;quot;className&amp;quot;:&amp;quot;meshcat-viewer&amp;quot;,&amp;quot;style&amp;quot;:{&amp;quot;left&amp;quot;:0,&amp;quot;right&amp;quot;:0,&amp;quot;overflow&amp;quot;:&amp;quot;hidden&amp;quot;,&amp;quot;position&amp;quot;:&amp;quot;absolute&amp;quot;,&amp;quot;height&amp;quot;:&amp;quot;100vh&amp;quot;,&amp;quot;margin&amp;quot;:0,&amp;quot;width&amp;quot;:&amp;quot;100vw&amp;quot;}},&amp;quot;nodeType&amp;quot;:&amp;quot;DOM&amp;quot;,&amp;quot;type&amp;quot;:&amp;quot;node&amp;quot;,&amp;quot;instanceArgs&amp;quot;:{&amp;quot;namespace&amp;quot;:&amp;quot;html&amp;quot;,&amp;quot;tag&amp;quot;:&amp;quot;div&amp;quot;},&amp;quot;children&amp;quot;:[]}]})&lt;/unsafe-script&gt;&quot; + &quot;&lt;/body&gt;&lt;/html&gt;&quot;;\n",
       "        setTimeout(function () { resizeIframe() }, 0)\n",
       "    }\n",
       "\n",
       "    doc.body.appendChild(webio)\n",
       "},(function (){return this.dom.style.height=&quot;100%&quot;})]}},&quot;systemjs_options&quot;:null,&quot;observables&quot;:{}},&quot;children&quot;:[{&quot;props&quot;:{&quot;style&quot;:{&quot;flexDirection&quot;:&quot;column&quot;,&quot;height&quot;:&quot;100%&quot;,&quot;minHeight&quot;:&quot;400px&quot;,&quot;display&quot;:&quot;flex&quot;,&quot;width&quot;:&quot;100%&quot;,&quot;overflow&quot;:&quot;hidden&quot;}},&quot;nodeType&quot;:&quot;DOM&quot;,&quot;type&quot;:&quot;node&quot;,&quot;instanceArgs&quot;:{&quot;namespace&quot;:&quot;html&quot;,&quot;tag&quot;:&quot;div&quot;},&quot;children&quot;:[{&quot;props&quot;:{&quot;attributes&quot;:{&quot;height&quot;:&quot;100%&quot;,&quot;scrolling&quot;:&quot;no&quot;,&quot;src&quot;:&quot;javascript:void(0)&quot;,&quot;frameborder&quot;:0},&quot;id&quot;:&quot;ifr&quot;,&quot;style&quot;:{&quot;width&quot;:&quot;100%&quot;,&quot;flexGrow&quot;:&quot;1&quot;}},&quot;nodeType&quot;:&quot;DOM&quot;,&quot;type&quot;:&quot;node&quot;,&quot;instanceArgs&quot;:{&quot;namespace&quot;:&quot;html&quot;,&quot;tag&quot;:&quot;iframe&quot;},&quot;children&quot;:[]}]}]})</unsafe-script>"
      ],
      "text/plain": [
       "WebIO.Scope(\"scope-16a6baef-6134-4ddb-a88a-221f1ec68282\", WebIO.Node{WebIO.DOM}(WebIO.DOM(:html, :div), Any[WebIO.Node{WebIO.DOM}(WebIO.DOM(:html, :iframe), Any[], Dict{Symbol,Any}(Pair{Symbol,Any}(:attributes, Dict{String,Any}(Pair{String,Any}(\"height\", \"100%\"),Pair{String,Any}(\"scrolling\", \"no\"),Pair{String,Any}(\"src\", \"javascript:void(0)\"),Pair{String,Any}(\"frameborder\", 0))),Pair{Symbol,Any}(:id, \"ifr\"),Pair{Symbol,Any}(:style, Dict(\"width\"=>\"100%\",\"flexGrow\"=>\"1\"))), 0)], Dict{Symbol,Any}(Pair{Symbol,Any}(:style, Dict(\"flexDirection\"=>\"column\",\"height\"=>\"100%\",\"minHeight\"=>\"400px\",\"display\"=>\"flex\",\"width\"=>\"100%\",\"overflow\"=>\"hidden\"))), 1), Dict{String,Tuple{Observables.Observable,Union{Bool, Void}}}(), Set{String}(), nothing, Any[], Dict{Any,Any}(Pair{Any,Any}(\"_promises\", Dict{Any,Any}(Pair{Any,Any}(\"importsLoaded\", Any[WebIO.JSString(\"function () {\\n    var frame = this.dom.querySelector(\\\"#ifr\\\");\\n    var doc = frame.contentDocument\\n    var win = frame.contentWindow\\n\\n    // Determine if we're running on a Jupyter hosting service\\n    // that requires a base URL when retrieving assets\\n    var curMatch =\\n        window.location.href\\n        .match(/(.*?)\\\\/notebooks\\\\/.*\\\\.ipynb/);\\n    curMatch = curMatch ||\\n        window.location.href\\n        .match(/(.*?)\\\\/apps\\\\/.*\\\\.ipynb/);\\n    if (curMatch) {\\n        var base = doc.createElement(\\\"base\\\");\\n        base.setAttribute(\\\"href\\\", curMatch[1] + '/');\\n        doc.head.appendChild(base);\\n    }\\n\\n    var webio = doc.createElement(\\\"script\\\")\\n    webio.src = \\\"pkg/WebIO/webio/dist/bundle.js\\\"\\n    var parent = window\\n\\n    function resizeIframe() {\\n        doc.body.style.padding = '0'\\n        doc.body.style.margin = '0'\\n        doc.documentElement.height = '100%'\\n        doc.body.height = '100%'\\n    }\\n\\n    webio.onload = function () {\\n        win.WebIO.sendCallback = parent.WebIO.sendCallback; // Share stuff\\n        win.WebIO.scopes = parent.WebIO.scopes\\n        win.WebIO.obsscopes = parent.WebIO.obsscopes\\n        win.WebIO._connected = true\\n        doc.body.innerHTML = \\\"<html><body>\\\" + \\\"<div class='display:none'></div><unsafe-script style='display:none'>\\\\nWebIO.mount(this.previousSibling,{&quot;props&quot;:{},&quot;nodeType&quot;:&quot;Scope&quot;,&quot;type&quot;:&quot;node&quot;,&quot;instanceArgs&quot;:{&quot;imports&quot;:{&quot;data&quot;:[{&quot;name&quot;:null,&quot;type&quot;:&quot;js&quot;,&quot;url&quot;:&quot;pkg/MeshCat/meshcat/dist/main.min.js&quot;}],&quot;type&quot;:&quot;async_block&quot;},&quot;id&quot;:&quot;scope-ea0b3184-43b4-4e0c-8d93-4871fb64f900&quot;,&quot;handlers&quot;:{&quot;meshcat-command&quot;:[(function (val){return this.viewer.handle_command_message({&quot;data&quot;:val})})],&quot;_promises&quot;:{&quot;importsLoaded&quot;:[(function (mc){var element=this.dom.children[0]; this.viewer=new mc.Viewer(element); WebIO.setval({&quot;name&quot;:&quot;meshcat-request&quot;,&quot;scope&quot;:&quot;scope-ea0b3184-43b4-4e0c-8d93-4871fb64f900&quot;,&quot;id&quot;:&quot;ob_02&quot;,&quot;type&quot;:&quot;observable&quot;},String(Date.now())); return window.document.body.style.margin=&quot;0&quot;})]}},&quot;systemjs_options&quot;:null,&quot;observables&quot;:{&quot;meshcat-command&quot;:{&quot;sync&quot;:false,&quot;id&quot;:&quot;ob_01&quot;,&quot;value&quot;:[131,166,109,97,116,114,105,120,199,64,23,0,0,128,63,0,0,0,0,0,0,0,0,0,0,0,0,0,0,0,0,0,0,128,63,0,0,0,0,0,0,0,0,0,0,0,0,0,0,0,0,0,0,128,63,0,0,0,0,0,0,0,0,0,0,0,0,0,0,0,191,0,0,128,63,164,116,121,112,101,173,115,101,116,95,116,114,97,110,115,102,111,114,109,164,112,97,116,104,218,0,46,47,109,101,115,104,99,97,116,47,119,111,114,108,100,47,98,97,115,101,95,108,105,110,107,47,108,101,102,116,95,116,104,105,103,104,47,108,101,102,116,95,115,104,97,110,107]},&quot;meshcat-controls&quot;:{&quot;sync&quot;:true,&quot;id&quot;:&quot;ob_03&quot;,&quot;value&quot;:[]},&quot;meshcat-request&quot;:{&quot;sync&quot;:true,&quot;id&quot;:&quot;ob_02&quot;,&quot;value&quot;:&quot;&quot;}}},&quot;children&quot;:[{&quot;props&quot;:{&quot;className&quot;:&quot;meshcat-viewer&quot;,&quot;style&quot;:{&quot;left&quot;:0,&quot;right&quot;:0,&quot;overflow&quot;:&quot;hidden&quot;,&quot;position&quot;:&quot;absolute&quot;,&quot;height&quot;:&quot;100vh&quot;,&quot;margin&quot;:0,&quot;width&quot;:&quot;100vw&quot;}},&quot;nodeType&quot;:&quot;DOM&quot;,&quot;type&quot;:&quot;node&quot;,&quot;instanceArgs&quot;:{&quot;namespace&quot;:&quot;html&quot;,&quot;tag&quot;:&quot;div&quot;},&quot;children&quot;:[]}]})</unsafe-script>\\\" + \\\"</body></html>\\\";\\n        setTimeout(function () { resizeIframe() }, 0)\\n    }\\n\\n    doc.body.appendChild(webio)\\n}\"), WebIO.JSString(\"(function (){return this.dom.style.height=\\\"100%\\\"})\")])))), WebIO.ConnectionPool(Channel{Any}(sz_max:9223372036854775807,sz_curr:0), Set{WebIO.AbstractConnection}(), Channel{WebIO.AbstractConnection}(sz_max:32,sz_curr:0)))"
      ]
     },
     "execution_count": 8,
     "metadata": {},
     "output_type": "execute_result"
    }
   ],
   "source": [
    "IJuliaCell(vis)"
   ]
  },
  {
   "cell_type": "markdown",
   "metadata": {},
   "source": [
    "Let's first set the configurations and velocities of the joints:"
   ]
  },
  {
   "cell_type": "code",
   "execution_count": 9,
   "metadata": {},
   "outputs": [],
   "source": [
    "set_configuration!(state, [-1.56, -0.4, 1.89, 0.4])\n",
    "set_configuration!(vis, configuration(state))"
   ]
  },
  {
   "cell_type": "markdown",
   "metadata": {},
   "source": [
    "Basic simulation is easy (but see RigidBodySim.jl for a more featureful simulator):"
   ]
  },
  {
   "cell_type": "code",
   "execution_count": 10,
   "metadata": {},
   "outputs": [],
   "source": [
    "ts, qs, vs = simulate(state, 5., Δt = 1e-3);"
   ]
  },
  {
   "cell_type": "markdown",
   "metadata": {},
   "source": [
    "After which we can animate the results:"
   ]
  },
  {
   "cell_type": "code",
   "execution_count": 11,
   "metadata": {},
   "outputs": [],
   "source": [
    "MeshCatMechanisms.animate(vis, ts, qs)"
   ]
  },
  {
   "cell_type": "markdown",
   "metadata": {},
   "source": [
    "Or plot them using e.g. Plots.jl:"
   ]
  },
  {
   "cell_type": "code",
   "execution_count": 12,
   "metadata": {
    "scrolled": false
   },
   "outputs": [
    {
     "data": {
      "image/svg+xml": [
       "<?xml version=\"1.0\" encoding=\"utf-8\"?>\n",
       "<svg xmlns=\"http://www.w3.org/2000/svg\" xmlns:xlink=\"http://www.w3.org/1999/xlink\" width=\"600\" height=\"400\" viewBox=\"0 0 600 400\">\n",
       "<defs>\n",
       "  <clipPath id=\"clip5800\">\n",
       "    <rect x=\"0\" y=\"0\" width=\"600\" height=\"400\"/>\n",
       "  </clipPath>\n",
       "</defs>\n",
       "<polygon clip-path=\"url(#clip5800)\" points=\"\n",
       "0,400 600,400 600,0 0,0 \n",
       "  \" fill=\"#ffffff\" fill-opacity=\"1\"/>\n",
       "<defs>\n",
       "  <clipPath id=\"clip5801\">\n",
       "    <rect x=\"120\" y=\"0\" width=\"421\" height=\"400\"/>\n",
       "  </clipPath>\n",
       "</defs>\n",
       "<polygon clip-path=\"url(#clip5800)\" points=\"\n",
       "55.25,360.121 580.315,360.121 580.315,11.811 55.25,11.811 \n",
       "  \" fill=\"#ffffff\" fill-opacity=\"1\"/>\n",
       "<defs>\n",
       "  <clipPath id=\"clip5802\">\n",
       "    <rect x=\"55\" y=\"11\" width=\"526\" height=\"349\"/>\n",
       "  </clipPath>\n",
       "</defs>\n",
       "<polyline clip-path=\"url(#clip5802)\" style=\"stroke:#000000; stroke-width:0.5; stroke-opacity:0.1; fill:none\" points=\"\n",
       "  55.25,360.121 55.25,11.811 \n",
       "  \"/>\n",
       "<polyline clip-path=\"url(#clip5802)\" style=\"stroke:#000000; stroke-width:0.5; stroke-opacity:0.1; fill:none\" points=\"\n",
       "  160.263,360.121 160.263,11.811 \n",
       "  \"/>\n",
       "<polyline clip-path=\"url(#clip5802)\" style=\"stroke:#000000; stroke-width:0.5; stroke-opacity:0.1; fill:none\" points=\"\n",
       "  265.276,360.121 265.276,11.811 \n",
       "  \"/>\n",
       "<polyline clip-path=\"url(#clip5802)\" style=\"stroke:#000000; stroke-width:0.5; stroke-opacity:0.1; fill:none\" points=\"\n",
       "  370.289,360.121 370.289,11.811 \n",
       "  \"/>\n",
       "<polyline clip-path=\"url(#clip5802)\" style=\"stroke:#000000; stroke-width:0.5; stroke-opacity:0.1; fill:none\" points=\"\n",
       "  475.302,360.121 475.302,11.811 \n",
       "  \"/>\n",
       "<polyline clip-path=\"url(#clip5802)\" style=\"stroke:#000000; stroke-width:0.5; stroke-opacity:0.1; fill:none\" points=\"\n",
       "  580.315,360.121 580.315,11.811 \n",
       "  \"/>\n",
       "<polyline clip-path=\"url(#clip5802)\" style=\"stroke:#000000; stroke-width:0.5; stroke-opacity:0.1; fill:none\" points=\"\n",
       "  55.25,353.422 580.315,353.422 \n",
       "  \"/>\n",
       "<polyline clip-path=\"url(#clip5802)\" style=\"stroke:#000000; stroke-width:0.5; stroke-opacity:0.1; fill:none\" points=\"\n",
       "  55.25,297.604 580.315,297.604 \n",
       "  \"/>\n",
       "<polyline clip-path=\"url(#clip5802)\" style=\"stroke:#000000; stroke-width:0.5; stroke-opacity:0.1; fill:none\" points=\"\n",
       "  55.25,241.785 580.315,241.785 \n",
       "  \"/>\n",
       "<polyline clip-path=\"url(#clip5802)\" style=\"stroke:#000000; stroke-width:0.5; stroke-opacity:0.1; fill:none\" points=\"\n",
       "  55.25,185.966 580.315,185.966 \n",
       "  \"/>\n",
       "<polyline clip-path=\"url(#clip5802)\" style=\"stroke:#000000; stroke-width:0.5; stroke-opacity:0.1; fill:none\" points=\"\n",
       "  55.25,130.147 580.315,130.147 \n",
       "  \"/>\n",
       "<polyline clip-path=\"url(#clip5802)\" style=\"stroke:#000000; stroke-width:0.5; stroke-opacity:0.1; fill:none\" points=\"\n",
       "  55.25,74.3281 580.315,74.3281 \n",
       "  \"/>\n",
       "<polyline clip-path=\"url(#clip5802)\" style=\"stroke:#000000; stroke-width:0.5; stroke-opacity:0.1; fill:none\" points=\"\n",
       "  55.25,18.5093 580.315,18.5093 \n",
       "  \"/>\n",
       "<polyline clip-path=\"url(#clip5800)\" style=\"stroke:#000000; stroke-width:1; stroke-opacity:1; fill:none\" points=\"\n",
       "  55.25,360.121 580.315,360.121 \n",
       "  \"/>\n",
       "<polyline clip-path=\"url(#clip5800)\" style=\"stroke:#000000; stroke-width:1; stroke-opacity:1; fill:none\" points=\"\n",
       "  55.25,360.121 55.25,11.811 \n",
       "  \"/>\n",
       "<polyline clip-path=\"url(#clip5800)\" style=\"stroke:#000000; stroke-width:1; stroke-opacity:1; fill:none\" points=\"\n",
       "  55.25,360.121 55.25,354.896 \n",
       "  \"/>\n",
       "<polyline clip-path=\"url(#clip5800)\" style=\"stroke:#000000; stroke-width:1; stroke-opacity:1; fill:none\" points=\"\n",
       "  160.263,360.121 160.263,354.896 \n",
       "  \"/>\n",
       "<polyline clip-path=\"url(#clip5800)\" style=\"stroke:#000000; stroke-width:1; stroke-opacity:1; fill:none\" points=\"\n",
       "  265.276,360.121 265.276,354.896 \n",
       "  \"/>\n",
       "<polyline clip-path=\"url(#clip5800)\" style=\"stroke:#000000; stroke-width:1; stroke-opacity:1; fill:none\" points=\"\n",
       "  370.289,360.121 370.289,354.896 \n",
       "  \"/>\n",
       "<polyline clip-path=\"url(#clip5800)\" style=\"stroke:#000000; stroke-width:1; stroke-opacity:1; fill:none\" points=\"\n",
       "  475.302,360.121 475.302,354.896 \n",
       "  \"/>\n",
       "<polyline clip-path=\"url(#clip5800)\" style=\"stroke:#000000; stroke-width:1; stroke-opacity:1; fill:none\" points=\"\n",
       "  580.315,360.121 580.315,354.896 \n",
       "  \"/>\n",
       "<polyline clip-path=\"url(#clip5800)\" style=\"stroke:#000000; stroke-width:1; stroke-opacity:1; fill:none\" points=\"\n",
       "  55.25,353.422 63.126,353.422 \n",
       "  \"/>\n",
       "<polyline clip-path=\"url(#clip5800)\" style=\"stroke:#000000; stroke-width:1; stroke-opacity:1; fill:none\" points=\"\n",
       "  55.25,297.604 63.126,297.604 \n",
       "  \"/>\n",
       "<polyline clip-path=\"url(#clip5800)\" style=\"stroke:#000000; stroke-width:1; stroke-opacity:1; fill:none\" points=\"\n",
       "  55.25,241.785 63.126,241.785 \n",
       "  \"/>\n",
       "<polyline clip-path=\"url(#clip5800)\" style=\"stroke:#000000; stroke-width:1; stroke-opacity:1; fill:none\" points=\"\n",
       "  55.25,185.966 63.126,185.966 \n",
       "  \"/>\n",
       "<polyline clip-path=\"url(#clip5800)\" style=\"stroke:#000000; stroke-width:1; stroke-opacity:1; fill:none\" points=\"\n",
       "  55.25,130.147 63.126,130.147 \n",
       "  \"/>\n",
       "<polyline clip-path=\"url(#clip5800)\" style=\"stroke:#000000; stroke-width:1; stroke-opacity:1; fill:none\" points=\"\n",
       "  55.25,74.3281 63.126,74.3281 \n",
       "  \"/>\n",
       "<polyline clip-path=\"url(#clip5800)\" style=\"stroke:#000000; stroke-width:1; stroke-opacity:1; fill:none\" points=\"\n",
       "  55.25,18.5093 63.126,18.5093 \n",
       "  \"/>\n",
       "<g clip-path=\"url(#clip5800)\">\n",
       "<text style=\"fill:#000000; fill-opacity:1; font-family:Arial,Helvetica Neue,Helvetica,sans-serif; font-size:12; text-anchor:middle;\" transform=\"rotate(0, 55.25, 373.921)\" x=\"55.25\" y=\"373.921\">0</text>\n",
       "</g>\n",
       "<g clip-path=\"url(#clip5800)\">\n",
       "<text style=\"fill:#000000; fill-opacity:1; font-family:Arial,Helvetica Neue,Helvetica,sans-serif; font-size:12; text-anchor:middle;\" transform=\"rotate(0, 160.263, 373.921)\" x=\"160.263\" y=\"373.921\">1</text>\n",
       "</g>\n",
       "<g clip-path=\"url(#clip5800)\">\n",
       "<text style=\"fill:#000000; fill-opacity:1; font-family:Arial,Helvetica Neue,Helvetica,sans-serif; font-size:12; text-anchor:middle;\" transform=\"rotate(0, 265.276, 373.921)\" x=\"265.276\" y=\"373.921\">2</text>\n",
       "</g>\n",
       "<g clip-path=\"url(#clip5800)\">\n",
       "<text style=\"fill:#000000; fill-opacity:1; font-family:Arial,Helvetica Neue,Helvetica,sans-serif; font-size:12; text-anchor:middle;\" transform=\"rotate(0, 370.289, 373.921)\" x=\"370.289\" y=\"373.921\">3</text>\n",
       "</g>\n",
       "<g clip-path=\"url(#clip5800)\">\n",
       "<text style=\"fill:#000000; fill-opacity:1; font-family:Arial,Helvetica Neue,Helvetica,sans-serif; font-size:12; text-anchor:middle;\" transform=\"rotate(0, 475.302, 373.921)\" x=\"475.302\" y=\"373.921\">4</text>\n",
       "</g>\n",
       "<g clip-path=\"url(#clip5800)\">\n",
       "<text style=\"fill:#000000; fill-opacity:1; font-family:Arial,Helvetica Neue,Helvetica,sans-serif; font-size:12; text-anchor:middle;\" transform=\"rotate(0, 580.315, 373.921)\" x=\"580.315\" y=\"373.921\">5</text>\n",
       "</g>\n",
       "<g clip-path=\"url(#clip5800)\">\n",
       "<text style=\"fill:#000000; fill-opacity:1; font-family:Arial,Helvetica Neue,Helvetica,sans-serif; font-size:12; text-anchor:end;\" transform=\"rotate(0, 49.25, 357.922)\" x=\"49.25\" y=\"357.922\">-1.5</text>\n",
       "</g>\n",
       "<g clip-path=\"url(#clip5800)\">\n",
       "<text style=\"fill:#000000; fill-opacity:1; font-family:Arial,Helvetica Neue,Helvetica,sans-serif; font-size:12; text-anchor:end;\" transform=\"rotate(0, 49.25, 302.104)\" x=\"49.25\" y=\"302.104\">-1.0</text>\n",
       "</g>\n",
       "<g clip-path=\"url(#clip5800)\">\n",
       "<text style=\"fill:#000000; fill-opacity:1; font-family:Arial,Helvetica Neue,Helvetica,sans-serif; font-size:12; text-anchor:end;\" transform=\"rotate(0, 49.25, 246.285)\" x=\"49.25\" y=\"246.285\">-0.5</text>\n",
       "</g>\n",
       "<g clip-path=\"url(#clip5800)\">\n",
       "<text style=\"fill:#000000; fill-opacity:1; font-family:Arial,Helvetica Neue,Helvetica,sans-serif; font-size:12; text-anchor:end;\" transform=\"rotate(0, 49.25, 190.466)\" x=\"49.25\" y=\"190.466\">0.0</text>\n",
       "</g>\n",
       "<g clip-path=\"url(#clip5800)\">\n",
       "<text style=\"fill:#000000; fill-opacity:1; font-family:Arial,Helvetica Neue,Helvetica,sans-serif; font-size:12; text-anchor:end;\" transform=\"rotate(0, 49.25, 134.647)\" x=\"49.25\" y=\"134.647\">0.5</text>\n",
       "</g>\n",
       "<g clip-path=\"url(#clip5800)\">\n",
       "<text style=\"fill:#000000; fill-opacity:1; font-family:Arial,Helvetica Neue,Helvetica,sans-serif; font-size:12; text-anchor:end;\" transform=\"rotate(0, 49.25, 78.8281)\" x=\"49.25\" y=\"78.8281\">1.0</text>\n",
       "</g>\n",
       "<g clip-path=\"url(#clip5800)\">\n",
       "<text style=\"fill:#000000; fill-opacity:1; font-family:Arial,Helvetica Neue,Helvetica,sans-serif; font-size:12; text-anchor:end;\" transform=\"rotate(0, 49.25, 23.0093)\" x=\"49.25\" y=\"23.0093\">1.5</text>\n",
       "</g>\n",
       "<g clip-path=\"url(#clip5800)\">\n",
       "<text style=\"fill:#000000; fill-opacity:1; font-family:Arial,Helvetica Neue,Helvetica,sans-serif; font-size:16; text-anchor:middle;\" transform=\"rotate(0, 317.783, 397.6)\" x=\"317.783\" y=\"397.6\">Time [s]</text>\n",
       "</g>\n",
       "<g clip-path=\"url(#clip5800)\">\n",
       "<text style=\"fill:#000000; fill-opacity:1; font-family:Arial,Helvetica Neue,Helvetica,sans-serif; font-size:16; text-anchor:middle;\" transform=\"rotate(-90, 14.4, 185.966)\" x=\"14.4\" y=\"185.966\">Angle [rad]</text>\n",
       "</g>\n",
       "<polyline clip-path=\"url(#clip5802)\" style=\"stroke:#009af9; stroke-width:1; stroke-opacity:1; fill:none\" points=\"\n",
       "  55.25,360.121 55.3551,360.12 55.4601,360.117 55.5651,360.112 55.6701,360.106 55.7751,360.097 55.8801,360.087 55.9851,360.075 56.0902,360.061 56.1952,360.045 \n",
       "  56.3002,360.027 56.4052,360.007 56.5102,359.986 56.6152,359.962 56.7202,359.937 56.8252,359.91 56.9303,359.881 57.0353,359.85 57.1403,359.817 57.2453,359.782 \n",
       "  57.3503,359.746 57.4553,359.707 57.5603,359.667 57.6653,359.625 57.7704,359.581 57.8754,359.535 57.9804,359.487 58.0854,359.437 58.1904,359.386 58.2954,359.332 \n",
       "  58.4004,359.277 58.5054,359.22 58.6105,359.161 58.7155,359.1 58.8205,359.037 58.9255,358.972 59.0305,358.906 59.1355,358.837 59.2405,358.767 59.3456,358.695 \n",
       "  59.4506,358.621 59.5556,358.545 59.6606,358.467 59.7656,358.387 59.8706,358.306 59.9756,358.223 60.0806,358.137 60.1857,358.05 60.2907,357.961 60.3957,357.87 \n",
       "  60.5007,357.777 60.6057,357.683 60.7107,357.586 60.8157,357.488 60.9207,357.387 61.0258,357.285 61.1308,357.181 61.2358,357.075 61.3408,356.968 61.4458,356.858 \n",
       "  61.5508,356.746 61.6558,356.633 61.7609,356.518 61.8659,356.401 61.9709,356.282 62.0759,356.161 62.1809,356.038 62.2859,355.913 62.3909,355.787 62.4959,355.658 \n",
       "  62.601,355.528 62.706,355.396 62.811,355.262 62.916,355.126 63.021,354.988 63.126,354.849 63.231,354.707 63.336,354.564 63.4411,354.419 63.5461,354.272 \n",
       "  63.6511,354.123 63.7561,353.972 63.8611,353.819 63.9661,353.664 64.0711,353.508 64.1761,353.35 64.2812,353.189 64.3862,353.027 64.4912,352.863 64.5962,352.698 \n",
       "  64.7012,352.53 64.8062,352.36 64.9112,352.189 65.0163,352.016 65.1213,351.841 65.2263,351.664 65.3313,351.485 65.4363,351.304 65.5413,351.121 65.6463,350.937 \n",
       "  65.7513,350.75 65.8564,350.562 65.9614,350.372 66.0664,350.18 66.1714,349.986 66.2764,349.791 66.3814,349.593 66.4864,349.394 66.5914,349.192 66.6965,348.989 \n",
       "  66.8015,348.784 66.9065,348.577 67.0115,348.369 67.1165,348.158 67.2215,347.946 67.3265,347.731 67.4316,347.515 67.5366,347.297 67.6416,347.077 67.7466,346.855 \n",
       "  67.8516,346.632 67.9566,346.406 68.0616,346.179 68.1666,345.95 68.2717,345.719 68.3767,345.486 68.4817,345.251 68.5867,345.014 68.6917,344.776 68.7967,344.536 \n",
       "  68.9017,344.293 69.0067,344.049 69.1118,343.804 69.2168,343.556 69.3218,343.306 69.4268,343.055 69.5318,342.802 69.6368,342.546 69.7418,342.289 69.8469,342.031 \n",
       "  69.9519,341.77 70.0569,341.507 70.1619,341.243 70.2669,340.977 70.3719,340.709 70.4769,340.439 70.5819,340.167 70.687,339.893 70.792,339.618 70.897,339.341 \n",
       "  71.002,339.062 71.107,338.781 71.212,338.498 71.317,338.213 71.422,337.927 71.5271,337.639 71.6321,337.348 71.7371,337.057 71.8421,336.763 71.9471,336.467 \n",
       "  72.0521,336.17 72.1571,335.87 72.2621,335.569 72.3672,335.266 72.4722,334.962 72.5772,334.655 72.6822,334.347 72.7872,334.036 72.8922,333.724 72.9972,333.411 \n",
       "  73.1023,333.095 73.2073,332.777 73.3123,332.458 73.4173,332.137 73.5223,331.814 73.6273,331.489 73.7323,331.163 73.8373,330.835 73.9424,330.504 74.0474,330.173 \n",
       "  74.1524,329.839 74.2574,329.503 74.3624,329.166 74.4674,328.827 74.5724,328.486 74.6774,328.143 74.7825,327.798 74.8875,327.452 74.9925,327.104 75.0975,326.754 \n",
       "  75.2025,326.402 75.3075,326.049 75.4125,325.694 75.5176,325.337 75.6226,324.978 75.7276,324.617 75.8326,324.255 75.9376,323.891 76.0426,323.525 76.1476,323.157 \n",
       "  76.2526,322.788 76.3577,322.417 76.4627,322.044 76.5677,321.669 76.6727,321.292 76.7777,320.914 76.8827,320.534 76.9877,320.153 77.0927,319.769 77.1978,319.384 \n",
       "  77.3028,318.997 77.4078,318.608 77.5128,318.218 77.6178,317.825 77.7228,317.431 77.8278,317.036 77.9329,316.638 78.0379,316.239 78.1429,315.838 78.2479,315.436 \n",
       "  78.3529,315.032 78.4579,314.626 78.5629,314.218 78.6679,313.808 78.773,313.397 78.878,312.985 78.983,312.57 79.088,312.154 79.193,311.736 79.298,311.316 \n",
       "  79.403,310.895 79.508,310.472 79.6131,310.047 79.7181,309.621 79.8231,309.193 79.9281,308.763 80.0331,308.332 80.1381,307.899 80.2431,307.464 80.3481,307.027 \n",
       "  80.4532,306.589 80.5582,306.15 80.6632,305.708 80.7682,305.265 80.8732,304.821 80.9782,304.375 81.0832,303.927 81.1883,303.477 81.2933,303.026 81.3983,302.573 \n",
       "  81.5033,302.119 81.6083,301.663 81.7133,301.205 81.8183,300.746 81.9233,300.285 82.0284,299.822 82.1334,299.358 82.2384,298.893 82.3434,298.425 82.4484,297.957 \n",
       "  82.5534,297.486 82.6584,297.014 82.7634,296.541 82.8685,296.066 82.9735,295.589 83.0785,295.111 83.1835,294.631 83.2885,294.149 83.3935,293.667 83.4985,293.182 \n",
       "  83.6036,292.696 83.7086,292.209 83.8136,291.72 83.9186,291.229 84.0236,290.737 84.1286,290.243 84.2336,289.748 84.3386,289.252 84.4437,288.754 84.5487,288.254 \n",
       "  84.6537,287.753 84.7587,287.25 84.8637,286.746 84.9687,286.241 85.0737,285.734 85.1787,285.225 85.2838,284.715 85.3888,284.204 85.4938,283.691 85.5988,283.177 \n",
       "  85.7038,282.661 85.8088,282.144 85.9138,281.626 86.0189,281.106 86.1239,280.585 86.2289,280.062 86.3339,279.538 86.4389,279.012 86.5439,278.485 86.6489,277.957 \n",
       "  86.7539,277.427 86.859,276.896 86.964,276.364 87.069,275.83 87.174,275.295 87.279,274.758 87.384,274.221 87.489,273.681 87.594,273.141 87.6991,272.599 \n",
       "  87.8041,272.056 87.9091,271.512 88.0141,270.966 88.1191,270.419 88.2241,269.871 88.3291,269.321 88.4341,268.77 88.5392,268.218 88.6442,267.665 88.7492,267.11 \n",
       "  88.8542,266.554 88.9592,265.997 89.0642,265.439 89.1692,264.879 89.2743,264.319 89.3793,263.757 89.4843,263.193 89.5893,262.629 89.6943,262.063 89.7993,261.497 \n",
       "  89.9043,260.929 90.0093,260.36 90.1144,259.789 90.2194,259.218 90.3244,258.645 90.4294,258.072 90.5344,257.497 90.6394,256.921 90.7444,256.344 90.8494,255.766 \n",
       "  90.9545,255.186 91.0595,254.606 91.1645,254.025 91.2695,253.442 91.3745,252.859 91.4795,252.274 91.5845,251.688 91.6896,251.102 91.7946,250.514 91.8996,249.925 \n",
       "  92.0046,249.335 92.1096,248.744 92.2146,248.153 92.3196,247.56 92.4246,246.966 92.5297,246.371 92.6347,245.776 92.7397,245.179 92.8447,244.581 92.9497,243.983 \n",
       "  93.0547,243.383 93.1597,242.783 93.2647,242.182 93.3698,241.579 93.4748,240.976 93.5798,240.372 93.6848,239.767 93.7898,239.162 93.8948,238.555 93.9998,237.948 \n",
       "  94.1048,237.339 94.2099,236.73 94.3149,236.12 94.4199,235.509 94.5249,234.898 94.6299,234.285 94.7349,233.672 94.8399,233.058 94.945,232.444 95.05,231.828 \n",
       "  95.155,231.212 95.26,230.595 95.365,229.977 95.47,229.359 95.575,228.74 95.68,228.12 95.7851,227.499 95.8901,226.878 95.9951,226.256 96.1001,225.634 \n",
       "  96.2051,225.011 96.3101,224.387 96.4151,223.762 96.5201,223.137 96.6252,222.512 96.7302,221.885 96.8352,221.258 96.9402,220.631 97.0452,220.003 97.1502,219.374 \n",
       "  97.2552,218.745 97.3603,218.115 97.4653,217.485 97.5703,216.854 97.6753,216.223 97.7803,215.591 97.8853,214.959 97.9903,214.326 98.0953,213.693 98.2004,213.06 \n",
       "  98.3054,212.425 98.4104,211.791 98.5154,211.156 98.6204,210.52 98.7254,209.885 98.8304,209.248 98.9354,208.612 99.0405,207.975 99.1455,207.337 99.2505,206.7 \n",
       "  99.3555,206.062 99.4605,205.423 99.5655,204.785 99.6705,204.146 99.7756,203.506 99.8806,202.867 99.9856,202.227 100.091,201.586 100.196,200.946 100.301,200.305 \n",
       "  100.406,199.664 100.511,199.023 100.616,198.382 100.721,197.74 100.826,197.098 100.931,196.456 101.036,195.814 101.141,195.172 101.246,194.53 101.351,193.887 \n",
       "  101.456,193.244 101.561,192.601 101.666,191.958 101.771,191.315 101.876,190.672 101.981,190.029 102.086,189.385 102.191,188.742 102.296,188.099 102.401,187.455 \n",
       "  102.506,186.812 102.611,186.168 102.716,185.525 102.821,184.881 102.926,184.238 103.031,183.594 103.136,182.951 103.241,182.308 103.346,181.664 103.451,181.021 \n",
       "  103.556,180.378 103.661,179.735 103.766,179.092 103.871,178.449 103.976,177.806 104.081,177.164 104.186,176.521 104.291,175.879 104.396,175.237 104.501,174.595 \n",
       "  104.606,173.953 104.711,173.312 104.816,172.671 104.921,172.03 105.026,171.389 105.131,170.748 105.236,170.108 105.341,169.468 105.446,168.828 105.551,168.188 \n",
       "  105.656,167.549 105.761,166.91 105.866,166.272 105.971,165.633 106.076,164.995 106.181,164.358 106.286,163.721 106.391,163.084 106.496,162.447 106.601,161.811 \n",
       "  106.706,161.176 106.811,160.54 106.916,159.905 107.021,159.271 107.126,158.637 107.231,158.004 107.336,157.371 107.441,156.738 107.547,156.106 107.652,155.474 \n",
       "  107.757,154.843 107.862,154.213 107.967,153.583 108.072,152.953 108.177,152.324 108.282,151.696 108.387,151.068 108.492,150.441 108.597,149.814 108.702,149.188 \n",
       "  108.807,148.563 108.912,147.938 109.017,147.313 109.122,146.69 109.227,146.067 109.332,145.445 109.437,144.823 109.542,144.202 109.647,143.582 109.752,142.962 \n",
       "  109.857,142.343 109.962,141.725 110.067,141.108 110.172,140.491 110.277,139.875 110.382,139.26 110.487,138.646 110.592,138.032 110.697,137.419 110.802,136.807 \n",
       "  110.907,136.196 111.012,135.585 111.117,134.976 111.222,134.367 111.327,133.759 111.432,133.152 111.537,132.545 111.642,131.94 111.747,131.335 111.852,130.732 \n",
       "  111.957,130.129 112.062,129.527 112.167,128.926 112.272,128.326 112.377,127.727 112.482,127.129 112.587,126.531 112.692,125.935 112.797,125.34 112.902,124.745 \n",
       "  113.007,124.152 113.112,123.559 113.217,122.968 113.322,122.378 113.427,121.788 113.532,121.2 113.637,120.612 113.742,120.026 113.847,119.441 113.952,118.857 \n",
       "  114.057,118.273 114.162,117.691 114.267,117.11 114.372,116.53 114.477,115.951 114.582,115.374 114.687,114.797 114.792,114.222 114.897,113.647 115.002,113.074 \n",
       "  115.107,112.502 115.212,111.931 115.317,111.361 115.422,110.792 115.527,110.225 115.633,109.658 115.738,109.093 115.843,108.529 115.948,107.967 116.053,107.405 \n",
       "  116.158,106.845 116.263,106.286 116.368,105.728 116.473,105.171 116.578,104.616 116.683,104.061 116.788,103.509 116.893,102.957 116.998,102.407 117.103,101.857 \n",
       "  117.208,101.31 117.313,100.763 117.418,100.218 117.523,99.674 117.628,99.1314 117.733,98.5901 117.838,98.0501 117.943,97.5114 118.048,96.9741 118.153,96.4382 \n",
       "  118.258,95.9035 118.363,95.3703 118.468,94.8383 118.573,94.3078 118.678,93.7786 118.783,93.2508 118.888,92.7244 118.993,92.1994 119.098,91.6758 119.203,91.1535 \n",
       "  119.308,90.6327 119.413,90.1133 119.518,89.5953 119.623,89.0788 119.728,88.5637 119.833,88.05 119.938,87.5377 120.043,87.0269 120.148,86.5176 120.253,86.0097 \n",
       "  120.358,85.5032 120.463,84.9983 120.568,84.4948 120.673,83.9928 120.778,83.4923 120.883,82.9932 120.988,82.4957 121.093,81.9996 121.198,81.5051 121.303,81.0121 \n",
       "  121.408,80.5206 121.513,80.0306 121.618,79.5421 121.723,79.0551 121.828,78.5697 121.933,78.0859 122.038,77.6035 122.143,77.1228 122.248,76.6435 122.353,76.1659 \n",
       "  122.458,75.6897 122.563,75.2152 122.668,74.7422 122.773,74.2708 122.878,73.801 122.983,73.3328 123.088,72.8661 123.193,72.401 123.298,71.9376 123.403,71.4757 \n",
       "  123.508,71.0154 123.613,70.5568 123.719,70.0997 123.824,69.6443 123.929,69.1905 124.034,68.7383 124.139,68.2877 124.244,67.8388 124.349,67.3915 124.454,66.9458 \n",
       "  124.559,66.5018 124.664,66.0594 124.769,65.6186 124.874,65.1796 124.979,64.7421 125.084,64.3064 125.189,63.8723 125.294,63.4398 125.399,63.0091 125.504,62.58 \n",
       "  125.609,62.1525 125.714,61.7268 125.819,61.3027 125.924,60.8804 126.029,60.4597 126.134,60.0407 126.239,59.6234 126.344,59.2078 126.449,58.7938 126.554,58.3816 \n",
       "  126.659,57.9711 126.764,57.5624 126.869,57.1553 126.974,56.7499 127.079,56.3463 127.184,55.9443 127.289,55.5441 127.394,55.1457 127.499,54.7489 127.604,54.3539 \n",
       "  127.709,53.9606 127.814,53.569 127.919,53.1792 128.024,52.7911 128.129,52.4048 128.234,52.0202 128.339,51.6374 128.444,51.2563 128.549,50.8769 128.654,50.4994 \n",
       "  128.759,50.1235 128.864,49.7495 128.969,49.3771 129.074,49.0066 129.179,48.6378 129.284,48.2708 129.389,47.9056 129.494,47.5421 129.599,47.1804 129.704,46.8205 \n",
       "  129.809,46.4623 129.914,46.1059 130.019,45.7514 130.124,45.3985 130.229,45.0475 130.334,44.6983 130.439,44.3508 130.544,44.0052 130.649,43.6613 130.754,43.3192 \n",
       "  130.859,42.979 130.964,42.6405 131.069,42.3038 131.174,41.9689 131.279,41.6358 131.384,41.3046 131.489,40.9751 131.594,40.6474 131.699,40.3216 131.805,39.9975 \n",
       "  131.91,39.6753 132.015,39.3548 132.12,39.0362 132.225,38.7194 132.33,38.4044 132.435,38.0913 132.54,37.7799 132.645,37.4704 132.75,37.1627 132.855,36.8568 \n",
       "  132.96,36.5527 133.065,36.2505 133.17,35.9501 133.275,35.6515 133.38,35.3547 133.485,35.0598 133.59,34.7667 133.695,34.4754 133.8,34.186 133.905,33.8984 \n",
       "  134.01,33.6126 134.115,33.3286 134.22,33.0466 134.325,32.7663 134.43,32.4879 134.535,32.2113 134.64,31.9365 134.745,31.6636 134.85,31.3926 134.955,31.1233 \n",
       "  135.06,30.856 135.165,30.5904 135.27,30.3267 135.375,30.0649 135.48,29.8049 135.585,29.5468 135.69,29.2905 135.795,29.036 135.9,28.7834 136.005,28.5326 \n",
       "  136.11,28.2837 136.215,28.0367 136.32,27.7915 136.425,27.5482 136.53,27.3067 136.635,27.067 136.74,26.8292 136.845,26.5933 136.95,26.3592 137.055,26.127 \n",
       "  137.16,25.8967 137.265,25.6682 137.37,25.4415 137.475,25.2167 137.58,24.9938 137.685,24.7727 137.79,24.5535 137.895,24.3362 138,24.1207 138.105,23.9071 \n",
       "  138.21,23.6953 138.315,23.4854 138.42,23.2773 138.525,23.0712 138.63,22.8669 138.735,22.6644 138.84,22.4638 138.945,22.2651 139.05,22.0682 139.155,21.8732 \n",
       "  139.26,21.6801 139.365,21.4889 139.47,21.2995 139.575,21.1119 139.68,20.9263 139.785,20.7425 139.891,20.5605 139.996,20.3805 140.101,20.2023 140.206,20.026 \n",
       "  140.311,19.8515 140.416,19.6789 140.521,19.5082 140.626,19.3393 140.731,19.1724 140.836,19.0072 140.941,18.844 141.046,18.6826 141.151,18.5231 141.256,18.3655 \n",
       "  141.361,18.2097 141.466,18.0558 141.571,17.9038 141.676,17.7537 141.781,17.6054 141.886,17.459 141.991,17.3144 142.096,17.1718 142.201,17.031 142.306,16.8921 \n",
       "  142.411,16.755 142.516,16.6198 142.621,16.4865 142.726,16.3551 142.831,16.2255 142.936,16.0978 143.041,15.972 143.146,15.8481 143.251,15.726 143.356,15.6058 \n",
       "  143.461,15.4875 143.566,15.371 143.671,15.2564 143.776,15.1437 143.881,15.0329 143.986,14.9239 144.091,14.8169 144.196,14.7116 144.301,14.6083 144.406,14.5068 \n",
       "  144.511,14.4073 144.616,14.3095 144.721,14.2137 144.826,14.1197 144.931,14.0276 145.036,13.9374 145.141,13.8491 145.246,13.7626 145.351,13.678 145.456,13.5953 \n",
       "  145.561,13.5144 145.666,13.4354 145.771,13.3583 145.876,13.2831 145.981,13.2098 146.086,13.1383 146.191,13.0687 146.296,13.0009 146.401,12.9351 146.506,12.8711 \n",
       "  146.611,12.809 146.716,12.7488 146.821,12.6904 146.926,12.6339 147.031,12.5793 147.136,12.5266 147.241,12.4757 147.346,12.4267 147.451,12.3796 147.556,12.3344 \n",
       "  147.661,12.291 147.766,12.2495 147.871,12.2099 147.977,12.1722 148.082,12.1363 148.187,12.1023 148.292,12.0702 148.397,12.04 148.502,12.0116 148.607,11.9851 \n",
       "  148.712,11.9605 148.817,11.9378 148.922,11.9169 149.027,11.8979 149.132,11.8808 149.237,11.8656 149.342,11.8522 149.447,11.8407 149.552,11.8311 149.657,11.8234 \n",
       "  149.762,11.8175 149.867,11.8135 149.972,11.8114 150.077,11.8111 150.182,11.8128 150.287,11.8163 150.392,11.8217 150.497,11.8289 150.602,11.8381 150.707,11.8491 \n",
       "  150.812,11.8619 150.917,11.8767 151.022,11.8933 151.127,11.9118 151.232,11.9322 151.337,11.9545 151.442,11.9786 151.547,12.0046 151.652,12.0325 151.757,12.0622 \n",
       "  151.862,12.0939 151.967,12.1274 152.072,12.1627 152.177,12.2 152.282,12.2391 152.387,12.2801 152.492,12.323 152.597,12.3678 152.702,12.4144 152.807,12.4629 \n",
       "  152.912,12.5133 153.017,12.5655 153.122,12.6196 153.227,12.6756 153.332,12.7335 153.437,12.7933 153.542,12.8549 153.647,12.9184 153.752,12.9837 153.857,13.051 \n",
       "  153.962,13.1201 154.067,13.1911 154.172,13.264 154.277,13.3387 154.382,13.4153 154.487,13.4938 154.592,13.5742 154.697,13.6564 154.802,13.7406 154.907,13.8265 \n",
       "  155.012,13.9144 155.117,14.0041 155.222,14.0958 155.327,14.1892 155.432,14.2846 155.537,14.3818 155.642,14.4809 155.747,14.5819 155.852,14.6848 155.957,14.7895 \n",
       "  156.063,14.8961 156.168,15.0046 156.273,15.1149 156.378,15.2272 156.483,15.3413 156.588,15.4572 156.693,15.5751 156.798,15.6948 156.903,15.8164 157.008,15.9398 \n",
       "  157.113,16.0652 157.218,16.1924 157.323,16.3214 157.428,16.4524 157.533,16.5852 157.638,16.7199 157.743,16.8565 157.848,16.9949 157.953,17.1352 158.058,17.2774 \n",
       "  158.163,17.4215 158.268,17.5674 158.373,17.7152 158.478,17.8649 158.583,18.0164 158.688,18.1698 158.793,18.3251 158.898,18.4822 159.003,18.6413 159.108,18.8021 \n",
       "  159.213,18.9649 159.318,19.1295 159.423,19.296 159.528,19.4644 159.633,19.6346 159.738,19.8068 159.843,19.9807 159.948,20.1566 160.053,20.3343 160.158,20.5139 \n",
       "  160.263,20.6953 160.368,20.8786 160.473,21.0638 160.578,21.2509 160.683,21.4398 160.788,21.6305 160.893,21.8232 160.998,22.0177 161.103,22.2141 161.208,22.4123 \n",
       "  161.313,22.6124 161.418,22.8144 161.523,23.0182 161.628,23.2239 161.733,23.4315 161.838,23.6409 161.943,23.8522 162.048,24.0653 162.153,24.2803 162.258,24.4972 \n",
       "  162.363,24.7159 162.468,24.9365 162.573,25.159 162.678,25.3833 162.783,25.6094 162.888,25.8375 162.993,26.0673 163.098,26.2991 163.203,26.5327 163.308,26.7681 \n",
       "  163.413,27.0054 163.518,27.2446 163.623,27.4856 163.728,27.7285 163.833,27.9732 163.938,28.2198 164.043,28.4682 164.149,28.7185 164.254,28.9706 164.359,29.2246 \n",
       "  164.464,29.4804 164.569,29.7381 164.674,29.9976 164.779,30.2589 164.884,30.5222 164.989,30.7872 165.094,31.0541 165.199,31.3229 165.304,31.5934 165.409,31.8659 \n",
       "  165.514,32.1401 165.619,32.4163 165.724,32.6942 165.829,32.974 165.934,33.2556 166.039,33.5391 166.144,33.8244 166.249,34.1115 166.354,34.4005 166.459,34.6913 \n",
       "  166.564,34.9839 166.669,35.2784 166.774,35.5747 166.879,35.8728 166.984,36.1727 167.089,36.4745 167.194,36.7781 167.299,37.0835 167.404,37.3907 167.509,37.6998 \n",
       "  167.614,38.0107 167.719,38.3234 167.824,38.6379 167.929,38.9542 168.034,39.2724 168.139,39.5923 168.244,39.9141 168.349,40.2377 168.454,40.5631 168.559,40.8903 \n",
       "  168.664,41.2193 168.769,41.5501 168.874,41.8827 168.979,42.2171 169.084,42.5534 169.189,42.8914 169.294,43.2312 169.399,43.5728 169.504,43.9162 169.609,44.2614 \n",
       "  169.714,44.6084 169.819,44.9572 169.924,45.3077 170.029,45.6601 170.134,46.0142 170.239,46.3701 170.344,46.7278 170.449,47.0873 170.554,47.4485 170.659,47.8115 \n",
       "  170.764,48.1763 170.869,48.5429 170.974,48.9112 171.079,49.2813 171.184,49.6531 171.289,50.0268 171.394,50.4021 171.499,50.7793 171.604,51.1582 171.709,51.5388 \n",
       "  171.814,51.9212 171.919,52.3053 172.024,52.6912 172.129,53.0788 172.235,53.4682 172.34,53.8593 172.445,54.2521 172.55,54.6467 172.655,55.043 172.76,55.4411 \n",
       "  172.865,55.8408 172.97,56.2423 173.075,56.6455 173.18,57.0504 173.285,57.4571 173.39,57.8654 173.495,58.2755 173.6,58.6872 173.705,59.1007 173.81,59.5159 \n",
       "  173.915,59.9327 174.02,60.3513 174.125,60.7716 174.23,61.1935 174.335,61.6171 174.44,62.0424 174.545,62.4694 174.65,62.8981 174.755,63.3284 174.86,63.7604 \n",
       "  174.965,64.1941 175.07,64.6294 175.175,65.0664 175.28,65.5051 175.385,65.9454 175.49,66.3874 175.595,66.831 175.7,67.2762 175.805,67.7231 175.91,68.1716 \n",
       "  176.015,68.6217 176.12,69.0735 176.225,69.5269 176.33,69.9819 176.435,70.4386 176.54,70.8968 176.645,71.3567 176.75,71.8181 176.855,72.2812 176.96,72.7458 \n",
       "  177.065,73.2121 177.17,73.6799 177.275,74.1493 177.38,74.6203 177.485,75.0929 177.59,75.567 177.695,76.0428 177.8,76.52 177.905,76.9988 178.01,77.4792 \n",
       "  178.115,77.9612 178.22,78.4446 178.325,78.9296 178.43,79.4162 178.535,79.9043 178.64,80.3939 178.745,80.885 178.85,81.3776 178.955,81.8718 179.06,82.3674 \n",
       "  179.165,82.8646 179.27,83.3632 179.375,83.8634 179.48,84.365 179.585,84.8681 179.69,85.3727 179.795,85.8787 179.9,86.3863 180.005,86.8952 180.11,87.4057 \n",
       "  180.215,87.9175 180.321,88.4309 180.426,88.9456 180.531,89.4618 180.636,89.9794 180.741,90.4985 180.846,91.0189 180.951,91.5408 181.056,92.064 181.161,92.5887 \n",
       "  181.266,93.1148 181.371,93.6422 181.476,94.171 181.581,94.7012 181.686,95.2328 181.791,95.7657 181.896,96.3 182.001,96.8356 182.106,97.3726 182.211,97.9109 \n",
       "  182.316,98.4505 182.421,98.9915 182.526,99.5337 182.631,100.077 182.736,100.622 182.841,101.168 182.946,101.716 183.051,102.265 183.156,102.815 183.261,103.366 \n",
       "  183.366,103.919 183.471,104.472 183.576,105.028 183.681,105.584 183.786,106.141 183.891,106.7 183.996,107.26 184.101,107.821 184.206,108.384 184.311,108.948 \n",
       "  184.416,109.512 184.521,110.078 184.626,110.646 184.731,111.214 184.836,111.783 184.941,112.354 185.046,112.926 185.151,113.499 185.256,114.073 185.361,114.648 \n",
       "  185.466,115.225 185.571,115.802 185.676,116.381 185.781,116.96 185.886,117.541 185.991,118.123 186.096,118.706 186.201,119.29 186.306,119.875 186.411,120.461 \n",
       "  186.516,121.048 186.621,121.636 186.726,122.225 186.831,122.815 186.936,123.407 187.041,123.999 187.146,124.592 187.251,125.186 187.356,125.781 187.461,126.377 \n",
       "  187.566,126.974 187.671,127.572 187.776,128.171 187.881,128.771 187.986,129.372 188.091,129.973 188.196,130.576 188.301,131.179 188.407,131.784 188.512,132.389 \n",
       "  188.617,132.995 188.722,133.602 188.827,134.21 188.932,134.818 189.037,135.428 189.142,136.038 189.247,136.649 189.352,137.261 189.457,137.874 189.562,138.487 \n",
       "  189.667,139.101 189.772,139.716 189.877,140.332 189.982,140.949 190.087,141.566 190.192,142.184 190.297,142.802 190.402,143.422 190.507,144.042 190.612,144.663 \n",
       "  190.717,145.284 190.822,145.906 190.927,146.529 191.032,147.152 191.137,147.776 191.242,148.401 191.347,149.026 191.452,149.652 191.557,150.279 191.662,150.906 \n",
       "  191.767,151.534 191.872,152.162 191.977,152.791 192.082,153.42 192.187,154.05 192.292,154.68 192.397,155.311 192.502,155.943 192.607,156.575 192.712,157.207 \n",
       "  192.817,157.84 192.922,158.473 193.027,159.107 193.132,159.742 193.237,160.376 193.342,161.011 193.447,161.647 193.552,162.283 193.657,162.919 193.762,163.556 \n",
       "  193.867,164.193 193.972,164.831 194.077,165.469 194.182,166.107 194.287,166.745 194.392,167.384 194.497,168.023 194.602,168.663 194.707,169.302 194.812,169.942 \n",
       "  194.917,170.583 195.022,171.223 195.127,171.864 195.232,172.505 195.337,173.146 195.442,173.788 195.547,174.429 195.652,175.071 195.757,175.713 195.862,176.356 \n",
       "  195.967,176.998 196.072,177.64 196.177,178.283 196.282,178.926 196.387,179.569 196.493,180.212 196.598,180.855 196.703,181.498 196.808,182.141 196.913,182.785 \n",
       "  197.018,183.428 197.123,184.072 197.228,184.715 197.333,185.359 197.438,186.002 197.543,186.646 197.648,187.289 197.753,187.933 197.858,188.576 197.963,189.219 \n",
       "  198.068,189.863 198.173,190.506 198.278,191.149 198.383,191.792 198.488,192.435 198.593,193.078 198.698,193.721 198.803,194.364 198.908,195.006 199.013,195.648 \n",
       "  199.118,196.291 199.223,196.933 199.328,197.575 199.433,198.216 199.538,198.858 199.643,199.499 199.748,200.14 199.853,200.781 199.958,201.421 200.063,202.061 \n",
       "  200.168,202.701 200.273,203.341 200.378,203.98 200.483,204.62 200.588,205.258 200.693,205.897 200.798,206.535 200.903,207.173 201.008,207.81 201.113,208.447 \n",
       "  201.218,209.084 201.323,209.72 201.428,210.356 201.533,210.992 201.638,211.627 201.743,212.262 201.848,212.896 201.953,213.53 202.058,214.163 202.163,214.796 \n",
       "  202.268,215.428 202.373,216.06 202.478,216.691 202.583,217.322 202.688,217.953 202.793,218.583 202.898,219.212 203.003,219.841 203.108,220.469 203.213,221.096 \n",
       "  203.318,221.723 203.423,222.35 203.528,222.976 203.633,223.601 203.738,224.226 203.843,224.85 203.948,225.473 204.053,226.096 204.158,226.718 204.263,227.339 \n",
       "  204.368,227.96 204.473,228.58 204.579,229.199 204.684,229.818 204.789,230.435 204.894,231.053 204.999,231.669 205.104,232.285 205.209,232.9 205.314,233.514 \n",
       "  205.419,234.127 205.524,234.74 205.629,235.351 205.734,235.962 205.839,236.573 205.944,237.182 206.049,237.79 206.154,238.398 206.259,239.005 206.364,239.611 \n",
       "  206.469,240.216 206.574,240.82 206.679,241.424 206.784,242.026 206.889,242.628 206.994,243.228 207.099,243.828 207.204,244.427 207.309,245.025 207.414,245.622 \n",
       "  207.519,246.218 207.624,246.813 207.729,247.407 207.834,248 207.939,248.592 208.044,249.183 208.149,249.773 208.254,250.362 208.359,250.95 208.464,251.537 \n",
       "  208.569,252.123 208.674,252.708 208.779,253.292 208.884,253.874 208.989,254.456 209.094,255.037 209.199,255.616 209.304,256.195 209.409,256.772 209.514,257.348 \n",
       "  209.619,257.923 209.724,258.497 209.829,259.07 209.934,259.642 210.039,260.212 210.144,260.782 210.249,261.35 210.354,261.917 210.459,262.483 210.564,263.048 \n",
       "  210.669,263.611 210.774,264.173 210.879,264.735 210.984,265.294 211.089,265.853 211.194,266.411 211.299,266.967 211.404,267.522 211.509,268.075 211.614,268.628 \n",
       "  211.719,269.179 211.824,269.729 211.929,270.277 212.034,270.825 212.139,271.371 212.244,271.916 212.349,272.459 212.454,273.001 212.559,273.542 212.665,274.081 \n",
       "  212.77,274.62 212.875,275.156 212.98,275.692 213.085,276.226 213.19,276.759 213.295,277.29 213.4,277.82 213.505,278.349 213.61,278.876 213.715,279.402 \n",
       "  213.82,279.927 213.925,280.45 214.03,280.971 214.135,281.492 214.24,282.011 214.345,282.528 214.45,283.044 214.555,283.559 214.66,284.072 214.765,284.584 \n",
       "  214.87,285.094 214.975,285.603 215.08,286.11 215.185,286.616 215.29,287.12 215.395,287.623 215.5,288.125 215.605,288.625 215.71,289.123 215.815,289.62 \n",
       "  215.92,290.116 216.025,290.61 216.13,291.102 216.235,291.593 216.34,292.082 216.445,292.57 216.55,293.057 216.655,293.542 216.76,294.025 216.865,294.507 \n",
       "  216.97,294.987 217.075,295.465 217.18,295.943 217.285,296.418 217.39,296.892 217.495,297.364 217.6,297.835 217.705,298.305 217.81,298.772 217.915,299.238 \n",
       "  218.02,299.703 218.125,300.166 218.23,300.627 218.335,301.087 218.44,301.545 218.545,302.001 218.65,302.456 218.755,302.909 218.86,303.361 218.965,303.811 \n",
       "  219.07,304.259 219.175,304.706 219.28,305.151 219.385,305.594 219.49,306.036 219.595,306.476 219.7,306.915 219.805,307.351 219.91,307.786 220.015,308.22 \n",
       "  220.12,308.652 220.225,309.082 220.33,309.51 220.435,309.937 220.54,310.362 220.645,310.786 220.751,311.208 220.856,311.628 220.961,312.046 221.066,312.463 \n",
       "  221.171,312.878 221.276,313.291 221.381,313.702 221.486,314.112 221.591,314.52 221.696,314.927 221.801,315.332 221.906,315.735 222.011,316.136 222.116,316.536 \n",
       "  222.221,316.933 222.326,317.329 222.431,317.724 222.536,318.116 222.641,318.507 222.746,318.897 222.851,319.284 222.956,319.67 223.061,320.054 223.166,320.436 \n",
       "  223.271,320.816 223.376,321.195 223.481,321.572 223.586,321.947 223.691,322.32 223.796,322.692 223.901,323.062 224.006,323.43 224.111,323.797 224.216,324.161 \n",
       "  224.321,324.524 224.426,324.885 224.531,325.244 224.636,325.602 224.741,325.957 224.846,326.311 224.951,326.664 225.056,327.014 225.161,327.362 225.266,327.709 \n",
       "  225.371,328.054 225.476,328.397 225.581,328.739 225.686,329.078 225.791,329.416 225.896,329.752 226.001,330.086 226.106,330.419 226.211,330.75 226.316,331.078 \n",
       "  226.421,331.405 226.526,331.73 226.631,332.054 226.736,332.375 226.841,332.695 226.946,333.013 227.051,333.329 227.156,333.644 227.261,333.956 227.366,334.267 \n",
       "  227.471,334.576 227.576,334.883 227.681,335.188 227.786,335.491 227.891,335.793 227.996,336.093 228.101,336.39 228.206,336.687 228.311,336.981 228.416,337.273 \n",
       "  228.521,337.564 228.626,337.853 228.731,338.14 228.837,338.425 228.942,338.708 229.047,338.989 229.152,339.269 229.257,339.547 229.362,339.822 229.467,340.097 \n",
       "  229.572,340.369 229.677,340.639 229.782,340.908 229.887,341.174 229.992,341.439 230.097,341.702 230.202,341.963 230.307,342.223 230.412,342.48 230.517,342.736 \n",
       "  230.622,342.99 230.727,343.241 230.832,343.492 230.937,343.74 231.042,343.986 231.147,344.231 231.252,344.473 231.357,344.714 231.462,344.953 231.567,345.19 \n",
       "  231.672,345.425 231.777,345.659 231.882,345.89 231.987,346.12 232.092,346.348 232.197,346.574 232.302,346.798 232.407,347.02 232.512,347.24 232.617,347.459 \n",
       "  232.722,347.676 232.827,347.89 232.932,348.103 233.037,348.314 233.142,348.524 233.247,348.731 233.352,348.936 233.457,349.14 233.562,349.342 233.667,349.542 \n",
       "  233.772,349.74 233.877,349.936 233.982,350.13 234.087,350.323 234.192,350.513 234.297,350.702 234.402,350.889 234.507,351.074 234.612,351.257 234.717,351.438 \n",
       "  234.822,351.617 234.927,351.795 235.032,351.971 235.137,352.144 235.242,352.316 235.347,352.486 235.452,352.654 235.557,352.821 235.662,352.985 235.767,353.148 \n",
       "  235.872,353.308 235.977,353.467 236.082,353.624 236.187,353.779 236.292,353.932 236.397,354.084 236.502,354.233 236.607,354.381 236.712,354.527 236.817,354.67 \n",
       "  236.923,354.812 237.028,354.952 237.133,355.091 237.238,355.227 237.343,355.361 237.448,355.494 237.553,355.625 237.658,355.754 237.763,355.881 237.868,356.006 \n",
       "  237.973,356.129 238.078,356.25 238.183,356.37 238.288,356.488 238.393,356.603 238.498,356.717 238.603,356.829 238.708,356.939 238.813,357.048 238.918,357.154 \n",
       "  239.023,357.259 239.128,357.361 239.233,357.462 239.338,357.561 239.443,357.658 239.548,357.753 239.653,357.846 239.758,357.938 239.863,358.027 239.968,358.115 \n",
       "  240.073,358.201 240.178,358.285 240.283,358.367 240.388,358.447 240.493,358.525 240.598,358.601 240.703,358.676 240.808,358.749 240.913,358.819 241.018,358.888 \n",
       "  241.123,358.955 241.228,359.021 241.333,359.084 241.438,359.145 241.543,359.205 241.648,359.262 241.753,359.318 241.858,359.372 241.963,359.424 242.068,359.474 \n",
       "  242.173,359.523 242.278,359.569 242.383,359.614 242.488,359.656 242.593,359.697 242.698,359.736 242.803,359.773 242.908,359.808 243.013,359.841 243.118,359.873 \n",
       "  243.223,359.902 243.328,359.93 243.433,359.956 243.538,359.98 243.643,360.002 243.748,360.022 243.853,360.04 243.958,360.057 244.063,360.071 244.168,360.084 \n",
       "  244.273,360.095 244.378,360.104 244.483,360.111 244.588,360.116 244.693,360.119 244.798,360.121 244.903,360.12 245.009,360.118 245.114,360.114 245.219,360.108 \n",
       "  245.324,360.1 245.429,360.09 245.534,360.078 245.639,360.064 245.744,360.049 245.849,360.032 245.954,360.012 246.059,359.991 246.164,359.968 246.269,359.944 \n",
       "  246.374,359.917 246.479,359.888 246.584,359.858 246.689,359.826 246.794,359.791 246.899,359.755 247.004,359.717 247.109,359.678 247.214,359.636 247.319,359.592 \n",
       "  247.424,359.547 247.529,359.5 247.634,359.45 247.739,359.399 247.844,359.346 247.949,359.291 248.054,359.235 248.159,359.176 248.264,359.116 248.369,359.053 \n",
       "  248.474,358.989 248.579,358.923 248.684,358.855 248.789,358.785 248.894,358.714 248.999,358.64 249.104,358.565 249.209,358.487 249.314,358.408 249.419,358.327 \n",
       "  249.524,358.244 249.629,358.159 249.734,358.073 249.839,357.984 249.944,357.894 250.049,357.801 250.154,357.707 250.259,357.611 250.364,357.513 250.469,357.413 \n",
       "  250.574,357.312 250.679,357.208 250.784,357.103 250.889,356.996 250.994,356.886 251.099,356.775 251.204,356.662 251.309,356.548 251.414,356.431 251.519,356.312 \n",
       "  251.624,356.192 251.729,356.07 251.834,355.946 251.939,355.82 252.044,355.692 252.149,355.562 252.254,355.43 252.359,355.297 252.464,355.161 252.569,355.024 \n",
       "  252.674,354.885 252.779,354.744 252.884,354.601 252.989,354.456 253.095,354.31 253.2,354.161 253.305,354.011 253.41,353.859 253.515,353.704 253.62,353.549 \n",
       "  253.725,353.391 253.83,353.231 253.935,353.069 254.04,352.906 254.145,352.741 254.25,352.573 254.355,352.404 254.46,352.233 254.565,352.061 254.67,351.886 \n",
       "  254.775,351.709 254.88,351.531 254.985,351.351 255.09,351.169 255.195,350.985 255.3,350.799 255.405,350.611 255.51,350.421 255.615,350.23 255.72,350.037 \n",
       "  255.825,349.841 255.93,349.644 256.035,349.445 256.14,349.245 256.245,349.042 256.35,348.837 256.455,348.631 256.56,348.423 256.665,348.213 256.77,348.001 \n",
       "  256.875,347.787 256.98,347.571 257.085,347.354 257.19,347.134 257.295,346.913 257.4,346.69 257.505,346.465 257.61,346.238 257.715,346.009 257.82,345.779 \n",
       "  257.925,345.546 258.03,345.312 258.135,345.076 258.24,344.838 258.345,344.598 258.45,344.356 258.555,344.113 258.66,343.867 258.765,343.62 258.87,343.371 \n",
       "  258.975,343.12 259.08,342.867 259.185,342.612 259.29,342.356 259.395,342.098 259.5,341.837 259.605,341.575 259.71,341.311 259.815,341.046 259.92,340.778 \n",
       "  260.025,340.509 260.13,340.237 260.235,339.964 260.34,339.689 260.445,339.413 260.55,339.134 260.655,338.853 260.76,338.571 260.865,338.287 260.97,338.001 \n",
       "  261.075,337.713 261.181,337.424 261.286,337.132 261.391,336.839 261.496,336.544 261.601,336.247 261.706,335.948 261.811,335.647 261.916,335.345 262.021,335.041 \n",
       "  262.126,334.734 262.231,334.427 262.336,334.117 262.441,333.805 262.546,333.492 262.651,333.177 262.756,332.86 262.861,332.541 262.966,332.22 263.071,331.898 \n",
       "  263.176,331.573 263.281,331.247 263.386,330.92 263.491,330.59 263.596,330.258 263.701,329.925 263.806,329.59 263.911,329.253 264.016,328.914 264.121,328.574 \n",
       "  264.226,328.232 264.331,327.888 264.436,327.542 264.541,327.194 264.646,326.845 264.751,326.493 264.856,326.14 264.961,325.786 265.066,325.429 265.171,325.071 \n",
       "  265.276,324.711 265.381,324.349 265.486,323.985 265.591,323.62 265.696,323.252 265.801,322.883 265.906,322.513 266.011,322.14 266.116,321.766 266.221,321.39 \n",
       "  266.326,321.012 266.431,320.633 266.536,320.251 266.641,319.868 266.746,319.483 266.851,319.097 266.956,318.709 267.061,318.319 267.166,317.927 267.271,317.533 \n",
       "  267.376,317.138 267.481,316.741 267.586,316.343 267.691,315.942 267.796,315.54 267.901,315.136 268.006,314.731 268.111,314.323 268.216,313.914 268.321,313.504 \n",
       "  268.426,313.091 268.531,312.677 268.636,312.261 268.741,311.844 268.846,311.425 268.951,311.004 269.056,310.581 269.161,310.157 269.267,309.731 269.372,309.303 \n",
       "  269.477,308.874 269.582,308.443 269.687,308.011 269.792,307.576 269.897,307.14 270.002,306.703 270.107,306.263 270.212,305.823 270.317,305.38 270.422,304.936 \n",
       "  270.527,304.49 270.632,304.042 270.737,303.593 270.842,303.143 270.947,302.69 271.052,302.236 271.157,301.781 271.262,301.323 271.367,300.864 271.472,300.404 \n",
       "  271.577,299.942 271.682,299.478 271.787,299.013 271.892,298.546 271.997,298.078 272.102,297.608 272.207,297.136 272.312,296.663 272.417,296.188 272.522,295.712 \n",
       "  272.627,295.234 272.732,294.755 272.837,294.274 272.942,293.791 273.047,293.307 273.152,292.822 273.257,292.335 273.362,291.846 273.467,291.356 273.572,290.864 \n",
       "  273.677,290.371 273.782,289.876 273.887,289.38 273.992,288.882 274.097,288.383 274.202,287.882 274.307,287.38 274.412,286.877 274.517,286.371 274.622,285.865 \n",
       "  274.727,285.357 274.832,284.847 274.937,284.336 275.042,283.824 275.147,283.31 275.252,282.795 275.357,282.278 275.462,281.76 275.567,281.24 275.672,280.719 \n",
       "  275.777,280.197 275.882,279.673 275.987,279.148 276.092,278.621 276.197,278.094 276.302,277.564 276.407,277.033 276.512,276.501 276.617,275.968 276.722,275.433 \n",
       "  276.827,274.897 276.932,274.36 277.037,273.821 277.142,273.281 277.247,272.739 277.353,272.196 277.458,271.652 277.563,271.107 277.668,270.56 277.773,270.012 \n",
       "  277.878,269.463 277.983,268.913 278.088,268.361 278.193,267.808 278.298,267.254 278.403,266.698 278.508,266.141 278.613,265.583 278.718,265.024 278.823,264.463 \n",
       "  278.928,263.902 279.033,263.339 279.138,262.775 279.243,262.21 279.348,261.643 279.453,261.075 279.558,260.507 279.663,259.937 279.768,259.366 279.873,258.793 \n",
       "  279.978,258.22 280.083,257.645 280.188,257.07 280.293,256.493 280.398,255.915 280.503,255.336 280.608,254.756 280.713,254.175 280.818,253.593 280.923,253.009 \n",
       "  281.028,252.425 281.133,251.84 281.238,251.253 281.343,250.666 281.448,250.077 281.553,249.488 281.658,248.897 281.763,248.306 281.868,247.713 281.973,247.12 \n",
       "  282.078,246.525 282.183,245.93 282.288,245.333 282.393,244.736 282.498,244.137 282.603,243.538 282.708,242.938 282.813,242.337 282.918,241.735 283.023,241.132 \n",
       "  283.128,240.528 283.233,239.924 283.338,239.318 283.443,238.712 283.548,238.104 283.653,237.496 283.758,236.887 283.863,236.278 283.968,235.667 284.073,235.056 \n",
       "  284.178,234.444 284.283,233.831 284.388,233.217 284.493,232.602 284.598,231.987 284.703,231.371 284.808,230.754 284.913,230.137 285.018,229.519 285.123,228.9 \n",
       "  285.228,228.28 285.333,227.66 285.439,227.039 285.544,226.417 285.649,225.795 285.754,225.172 285.859,224.548 285.964,223.924 286.069,223.299 286.174,222.673 \n",
       "  286.279,222.047 286.384,221.42 286.489,220.793 286.594,220.165 286.699,219.537 286.804,218.908 286.909,218.278 287.014,217.648 287.119,217.017 287.224,216.386 \n",
       "  287.329,215.755 287.434,215.122 287.539,214.49 287.644,213.857 287.749,213.223 287.854,212.589 287.959,211.955 288.064,211.32 288.169,210.685 288.274,210.049 \n",
       "  288.379,209.413 288.484,208.776 288.589,208.139 288.694,207.502 288.799,206.864 288.904,206.226 289.009,205.588 289.114,204.95 289.219,204.311 289.324,203.671 \n",
       "  289.429,203.032 289.534,202.392 289.639,201.752 289.744,201.111 289.849,200.471 289.954,199.83 290.059,199.189 290.164,198.547 290.269,197.906 290.374,197.264 \n",
       "  290.479,196.622 290.584,195.98 290.689,195.338 290.794,194.695 290.899,194.053 291.004,193.41 291.109,192.767 291.214,192.124 291.319,191.481 291.424,190.838 \n",
       "  291.529,190.195 291.634,189.552 291.739,188.908 291.844,188.265 291.949,187.621 292.054,186.978 292.159,186.334 292.264,185.691 292.369,185.047 292.474,184.404 \n",
       "  292.579,183.761 292.684,183.117 292.789,182.474 292.894,181.83 292.999,181.187 293.104,180.544 293.209,179.901 293.314,179.258 293.419,178.615 293.525,177.972 \n",
       "  293.63,177.33 293.735,176.687 293.84,176.045 293.945,175.403 294.05,174.761 294.155,174.119 294.26,173.478 294.365,172.836 294.47,172.195 294.575,171.554 \n",
       "  294.68,170.914 294.785,170.273 294.89,169.633 294.995,168.993 295.1,168.353 295.205,167.714 295.31,167.075 295.415,166.436 295.52,165.798 295.625,165.16 \n",
       "  295.73,164.522 295.835,163.885 295.94,163.248 296.045,162.612 296.15,161.975 296.255,161.34 296.36,160.704 296.465,160.069 296.57,159.435 296.675,158.801 \n",
       "  296.78,158.167 296.885,157.534 296.99,156.901 297.095,156.269 297.2,155.637 297.305,155.006 297.41,154.375 297.515,153.745 297.62,153.116 297.725,152.487 \n",
       "  297.83,151.858 297.935,151.23 298.04,150.603 298.145,149.976 298.25,149.35 298.355,148.724 298.46,148.099 298.565,147.475 298.67,146.851 298.775,146.228 \n",
       "  298.88,145.605 298.985,144.984 299.09,144.362 299.195,143.742 299.3,143.122 299.405,142.503 299.51,141.885 299.615,141.267 299.72,140.65 299.825,140.034 \n",
       "  299.93,139.419 300.035,138.804 300.14,138.19 300.245,137.577 300.35,136.965 300.455,136.354 300.56,135.743 300.665,135.133 300.77,134.524 300.875,133.916 \n",
       "  300.98,133.308 301.085,132.702 301.19,132.096 301.295,131.491 301.4,130.887 301.505,130.284 301.611,129.682 301.716,129.081 301.821,128.481 301.926,127.881 \n",
       "  302.031,127.283 302.136,126.685 302.241,126.089 302.346,125.493 302.451,124.899 302.556,124.305 302.661,123.712 302.766,123.121 302.871,122.53 302.976,121.94 \n",
       "  303.081,121.352 303.186,120.764 303.291,120.177 303.396,119.592 303.501,119.007 303.606,118.424 303.711,117.841 303.816,117.26 303.921,116.68 304.026,116.101 \n",
       "  304.131,115.523 304.236,114.946 304.341,114.37 304.446,113.795 304.551,113.222 304.656,112.649 304.761,112.078 304.866,111.508 304.971,110.939 305.076,110.371 \n",
       "  305.181,109.805 305.286,109.239 305.391,108.675 305.496,108.112 305.601,107.55 305.706,106.989 305.811,106.43 305.916,105.872 306.021,105.315 306.126,104.759 \n",
       "  306.231,104.204 306.336,103.651 306.441,103.099 306.546,102.549 306.651,101.999 306.756,101.451 306.861,100.904 306.966,100.359 307.071,99.8143 307.176,99.2714 \n",
       "  307.281,98.7297 307.386,98.1894 307.491,97.6504 307.596,97.1128 307.701,96.5764 307.806,96.0415 307.911,95.5078 308.016,94.9756 308.121,94.4447 308.226,93.9152 \n",
       "  308.331,93.387 308.436,92.8602 308.541,92.3349 308.646,91.8109 308.751,91.2883 308.856,90.7671 308.961,90.2473 309.066,89.729 309.171,89.2121 309.276,88.6966 \n",
       "  309.381,88.1825 309.486,87.6699 309.591,87.1587 309.697,86.649 309.802,86.1407 309.907,85.6339 310.012,85.1285 310.117,84.6247 310.222,84.1223 310.327,83.6214 \n",
       "  310.432,83.122 310.537,82.624 310.642,82.1276 310.747,81.6327 310.852,81.1393 310.957,80.6473 311.062,80.157 311.167,79.6681 311.272,79.1808 311.377,78.695 \n",
       "  311.482,78.2107 311.587,77.728 311.692,77.2468 311.797,76.7671 311.902,76.2891 312.007,75.8126 312.112,75.3376 312.217,74.8642 312.322,74.3924 312.427,73.9222 \n",
       "  312.532,73.4535 312.637,72.9865 312.742,72.521 312.847,72.0571 312.952,71.5948 313.057,71.1341 313.162,70.6751 313.267,70.2176 313.372,69.7617 313.477,69.3075 \n",
       "  313.582,68.8549 313.687,68.4039 313.792,67.9545 313.897,67.5068 314.002,67.0607 314.107,66.6163 314.212,66.1735 314.317,65.7323 314.422,65.2928 314.527,64.8549 \n",
       "  314.632,64.4188 314.737,63.9842 314.842,63.5513 314.947,63.1201 315.052,62.6906 315.157,62.2628 315.262,61.8366 315.367,61.4121 315.472,60.9893 315.577,60.5681 \n",
       "  315.682,60.1487 315.787,59.731 315.892,59.3149 315.997,58.9006 316.102,58.4879 316.207,58.077 316.312,57.6678 316.417,57.2602 316.522,56.8544 316.627,56.4503 \n",
       "  316.732,56.048 316.837,55.6473 316.942,55.2484 317.047,54.8512 317.152,54.4557 317.257,54.062 317.362,53.67 317.467,53.2797 317.572,52.8912 317.677,52.5044 \n",
       "  317.783,52.1194 317.888,51.7361 317.993,51.3545 318.098,50.9747 318.203,50.5967 318.308,50.2204 318.413,49.8459 318.518,49.4731 318.623,49.1021 318.728,48.7329 \n",
       "  318.833,48.3654 318.938,47.9997 319.043,47.6358 319.148,47.2736 319.253,46.9132 319.358,46.5546 319.463,46.1978 319.568,45.8428 319.673,45.4895 319.778,45.138 \n",
       "  319.883,44.7883 319.988,44.4404 320.093,44.0943 320.198,43.7499 320.303,43.4074 320.408,43.0667 320.513,42.7277 320.618,42.3906 320.723,42.0552 320.828,41.7217 \n",
       "  320.933,41.3899 321.038,41.06 321.143,40.7319 321.248,40.4055 321.353,40.081 321.458,39.7583 321.563,39.4374 321.668,39.1183 321.773,38.8011 321.878,38.4856 \n",
       "  321.983,38.172 322.088,37.8601 322.193,37.5501 322.298,37.242 322.403,36.9356 322.508,36.6311 322.613,36.3283 322.718,36.0275 322.823,35.7284 322.928,35.4312 \n",
       "  323.033,35.1358 323.138,34.8422 323.243,34.5504 323.348,34.2605 323.453,33.9725 323.558,33.6862 323.663,33.4018 323.768,33.1192 323.873,32.8385 323.978,32.5596 \n",
       "  324.083,32.2825 324.188,32.0073 324.293,31.7339 324.398,31.4624 324.503,31.1927 324.608,30.9248 324.713,30.6588 324.818,30.3947 324.923,30.1323 325.028,29.8719 \n",
       "  325.133,29.6132 325.238,29.3565 325.343,29.1015 325.448,28.8485 325.553,28.5972 325.658,28.3478 325.763,28.1003 325.869,27.8546 325.974,27.6108 326.079,27.3688 \n",
       "  326.184,27.1287 326.289,26.8905 326.394,26.6541 326.499,26.4195 326.604,26.1868 326.709,25.956 326.814,25.727 326.919,25.4999 327.024,25.2746 327.129,25.0512 \n",
       "  327.234,24.8296 327.339,24.61 327.444,24.3921 327.549,24.1762 327.654,23.962 327.759,23.7498 327.864,23.5394 327.969,23.3309 328.074,23.1242 328.179,22.9194 \n",
       "  328.284,22.7165 328.389,22.5154 328.494,22.3162 328.599,22.1189 328.704,21.9234 328.809,21.7298 328.914,21.5381 329.019,21.3482 329.124,21.1602 329.229,20.974 \n",
       "  329.334,20.7898 329.439,20.6073 329.544,20.4268 329.649,20.2481 329.754,20.0713 329.859,19.8964 329.964,19.7233 330.069,19.5521 330.174,19.3828 330.279,19.2153 \n",
       "  330.384,19.0497 330.489,18.886 330.594,18.7241 330.699,18.5641 330.804,18.406 330.909,18.2498 331.014,18.0954 331.119,17.9429 331.224,17.7923 331.329,17.6435 \n",
       "  331.434,17.4966 331.539,17.3516 331.644,17.2084 331.749,17.0672 331.854,16.9277 331.959,16.7902 332.064,16.6546 332.169,16.5208 332.274,16.3888 332.379,16.2588 \n",
       "  332.484,16.1306 332.589,16.0043 332.694,15.8799 332.799,15.7573 332.904,15.6367 333.009,15.5179 333.114,15.4009 333.219,15.2859 333.324,15.1727 333.429,15.0613 \n",
       "  333.534,14.9519 333.639,14.8443 333.744,14.7386 333.849,14.6348 333.955,14.5329 334.06,14.4328 334.165,14.3346 334.27,14.2383 334.375,14.1438 334.48,14.0512 \n",
       "  334.585,13.9605 334.69,13.8717 334.795,13.7847 334.9,13.6997 335.005,13.6164 335.11,13.5351 335.215,13.4557 335.32,13.3781 335.425,13.3024 335.53,13.2285 \n",
       "  335.635,13.1566 335.74,13.0865 335.845,13.0182 335.95,12.9519 336.055,12.8874 336.16,12.8249 336.265,12.7641 336.37,12.7053 336.475,12.6483 336.58,12.5932 \n",
       "  336.685,12.54 336.79,12.4887 336.895,12.4392 337,12.3916 337.105,12.3459 337.21,12.302 337.315,12.2601 337.42,12.22 337.525,12.1818 337.63,12.1454 \n",
       "  337.735,12.1109 337.84,12.0783 337.945,12.0476 338.05,12.0188 338.155,11.9918 338.26,11.9667 338.365,11.9435 338.47,11.9221 338.575,11.9027 338.68,11.8851 \n",
       "  338.785,11.8693 338.89,11.8555 338.995,11.8435 339.1,11.8334 339.205,11.8252 339.31,11.8188 339.415,11.8144 339.52,11.8117 339.625,11.811 339.73,11.8122 \n",
       "  339.835,11.8152 339.94,11.8201 340.045,11.8269 340.15,11.8355 340.255,11.846 340.36,11.8584 340.465,11.8727 340.57,11.8889 340.675,11.9069 340.78,11.9268 \n",
       "  340.885,11.9485 340.99,11.9722 341.095,11.9977 341.2,12.0251 341.305,12.0544 341.41,12.0855 341.515,12.1185 341.62,12.1534 341.725,12.1902 341.83,12.2288 \n",
       "  341.935,12.2694 342.041,12.3118 342.146,12.356 342.251,12.4022 342.356,12.4502 342.461,12.5001 342.566,12.5518 342.671,12.6055 342.776,12.661 342.881,12.7184 \n",
       "  342.986,12.7776 343.091,12.8388 343.196,12.9018 343.301,12.9667 343.406,13.0334 343.511,13.1021 343.616,13.1726 343.721,13.245 343.826,13.3192 343.931,13.3954 \n",
       "  344.036,13.4734 344.141,13.5533 344.246,13.635 344.351,13.7187 344.456,13.8042 344.561,13.8915 344.666,13.9808 344.771,14.0719 344.876,14.1649 344.981,14.2598 \n",
       "  345.086,14.3565 345.191,14.4552 345.296,14.5557 345.401,14.658 345.506,14.7623 345.611,14.8684 345.716,14.9764 345.821,15.0863 345.926,15.198 346.031,15.3116 \n",
       "  346.136,15.4271 346.241,15.5444 346.346,15.6637 346.451,15.7848 346.556,15.9078 346.661,16.0326 346.766,16.1593 346.871,16.2879 346.976,16.4184 347.081,16.5507 \n",
       "  347.186,16.6849 347.291,16.821 347.396,16.959 347.501,17.0988 347.606,17.2405 347.711,17.3841 347.816,17.5295 347.921,17.6768 348.026,17.826 348.131,17.9771 \n",
       "  348.236,18.13 348.341,18.2848 348.446,18.4415 348.551,18.6 348.656,18.7604 348.761,18.9227 348.866,19.0868 348.971,19.2529 349.076,19.4207 349.181,19.5905 \n",
       "  349.286,19.7621 349.391,19.9356 349.496,20.111 349.601,20.2882 349.706,20.4673 349.811,20.6483 349.916,20.8311 350.021,21.0158 350.127,21.2024 350.232,21.3908 \n",
       "  350.337,21.5811 350.442,21.7733 350.547,21.9673 350.652,22.1632 350.757,22.3609 350.862,22.5606 350.967,22.7621 351.072,22.9654 351.177,23.1706 351.282,23.3777 \n",
       "  351.387,23.5866 351.492,23.7974 351.597,24.0101 351.702,24.2246 351.807,24.441 351.912,24.6593 352.017,24.8794 352.122,25.1013 352.227,25.3252 352.332,25.5509 \n",
       "  352.437,25.7784 352.542,26.0078 352.647,26.2391 352.752,26.4722 352.857,26.7071 352.962,26.944 353.067,27.1827 353.172,27.4232 353.277,27.6656 353.382,27.9098 \n",
       "  353.487,28.1559 353.592,28.4039 353.697,28.6537 353.802,28.9053 353.907,29.1588 354.012,29.4141 354.117,29.6713 354.222,29.9304 354.327,30.1913 354.432,30.454 \n",
       "  354.537,30.7186 354.642,30.985 354.747,31.2533 354.852,31.5234 354.957,31.7953 355.062,32.0691 355.167,32.3448 355.272,32.6223 355.377,32.9016 355.482,33.1827 \n",
       "  355.587,33.4657 355.692,33.7505 355.797,34.0372 355.902,34.3257 356.007,34.616 356.112,34.9082 356.217,35.2021 356.322,35.498 356.427,35.7956 356.532,36.0951 \n",
       "  356.637,36.3964 356.742,36.6995 356.847,37.0044 356.952,37.3112 357.057,37.6198 357.162,37.9302 357.267,38.2424 357.372,38.5565 357.477,38.8724 357.582,39.19 \n",
       "  357.687,39.5095 357.792,39.8308 357.897,40.154 358.002,40.4789 358.107,40.8056 358.213,41.1342 358.318,41.4645 358.423,41.7967 358.528,42.1306 358.633,42.4664 \n",
       "  358.738,42.8039 358.843,43.1433 358.948,43.4844 359.053,43.8274 359.158,44.1721 359.263,44.5186 359.368,44.8669 359.473,45.217 359.578,45.5689 359.683,45.9226 \n",
       "  359.788,46.278 359.893,46.6353 359.998,46.9943 360.103,47.355 360.208,47.7176 360.313,48.0819 360.418,48.448 360.523,48.8159 360.628,49.1855 360.733,49.5569 \n",
       "  360.838,49.9301 360.943,50.305 361.048,50.6817 361.153,51.0601 361.258,51.4403 361.363,51.8223 361.468,52.2059 361.573,52.5914 361.678,52.9786 361.783,53.3675 \n",
       "  361.888,53.7581 361.993,54.1505 362.098,54.5447 362.203,54.9405 362.308,55.3381 362.413,55.7374 362.518,56.1385 362.623,56.5412 362.728,56.9457 362.833,57.3519 \n",
       "  362.938,57.7598 363.043,58.1694 363.148,58.5807 363.253,58.9938 363.358,59.4085 363.463,59.8249 363.568,60.243 363.673,60.6629 363.778,61.0844 363.883,61.5076 \n",
       "  363.988,61.9324 364.093,62.359 364.198,62.7872 364.303,63.2171 364.408,63.6487 364.513,64.0819 364.618,64.5169 364.723,64.9534 364.828,65.3917 364.933,65.8315 \n",
       "  365.038,66.2731 365.143,66.7162 365.248,67.1611 365.353,67.6075 365.458,68.0556 365.563,68.5053 365.668,68.9567 365.773,69.4097 365.878,69.8643 365.983,70.3205 \n",
       "  366.088,70.7783 366.193,71.2378 366.299,71.6988 366.404,72.1614 366.509,72.6257 366.614,73.0915 366.719,73.5589 366.824,74.028 366.929,74.4985 367.034,74.9707 \n",
       "  367.139,75.4444 367.244,75.9197 367.349,76.3966 367.454,76.875 367.559,77.355 367.664,77.8366 367.769,78.3196 367.874,78.8042 367.979,79.2904 368.084,79.7781 \n",
       "  368.189,80.2673 368.294,80.758 368.399,81.2503 368.504,81.744 368.609,82.2393 368.714,82.736 368.819,83.2343 368.924,83.7341 369.029,84.2353 369.134,84.738 \n",
       "  369.239,85.2422 369.344,85.7479 369.449,86.255 369.554,86.7636 369.659,87.2737 369.764,87.7852 369.869,88.2982 369.974,88.8125 370.079,89.3284 370.184,89.8456 \n",
       "  370.289,90.3643 370.394,90.8844 370.499,91.4059 370.604,91.9288 370.709,92.4531 370.814,92.9788 370.919,93.5058 371.024,94.0343 371.129,94.5641 371.234,95.0954 \n",
       "  371.339,95.6279 371.444,96.1619 371.549,96.6971 371.654,97.2338 371.759,97.7717 371.864,98.311 371.969,98.8516 372.074,99.3936 372.179,99.9368 372.284,100.481 \n",
       "  372.389,101.027 372.494,101.574 372.599,102.123 372.704,102.673 372.809,103.224 372.914,103.776 373.019,104.329 373.124,104.884 373.229,105.44 373.334,105.997 \n",
       "  373.439,106.556 373.544,107.115 373.649,107.676 373.754,108.239 373.859,108.802 373.964,109.366 374.069,109.932 374.174,110.499 374.279,111.067 374.385,111.636 \n",
       "  374.49,112.207 374.595,112.778 374.7,113.351 374.805,113.925 374.91,114.5 375.015,115.076 375.12,115.653 375.225,116.231 375.33,116.811 375.435,117.391 \n",
       "  375.54,117.973 375.645,118.555 375.75,119.139 375.855,119.724 375.96,120.309 376.065,120.896 376.17,121.484 376.275,122.073 376.38,122.663 376.485,123.254 \n",
       "  376.59,123.846 376.695,124.439 376.8,125.032 376.905,125.627 377.01,126.223 377.115,126.82 377.22,127.418 377.325,128.016 377.43,128.616 377.535,129.216 \n",
       "  377.64,129.818 377.745,130.42 377.85,131.023 377.955,131.628 378.06,132.232 378.165,132.838 378.27,133.445 378.375,134.053 378.48,134.661 378.585,135.27 \n",
       "  378.69,135.88 378.795,136.491 378.9,137.103 379.005,137.715 379.11,138.329 379.215,138.943 379.32,139.557 379.425,140.173 379.53,140.789 379.635,141.406 \n",
       "  379.74,142.024 379.845,142.643 379.95,143.262 380.055,143.882 380.16,144.502 380.265,145.124 380.37,145.745 380.475,146.368 380.58,146.991 380.685,147.615 \n",
       "  380.79,148.24 380.895,148.865 381,149.491 381.105,150.117 381.21,150.744 381.315,151.371 381.42,152 381.525,152.628 381.63,153.257 381.735,153.887 \n",
       "  381.84,154.517 381.945,155.148 382.05,155.78 382.155,156.411 382.26,157.044 382.365,157.677 382.471,158.31 382.576,158.944 382.681,159.578 382.786,160.212 \n",
       "  382.891,160.847 382.996,161.483 383.101,162.119 383.206,162.755 383.311,163.392 383.416,164.029 383.521,164.666 383.626,165.304 383.731,165.942 383.836,166.58 \n",
       "  383.941,167.219 384.046,167.858 384.151,168.497 384.256,169.137 384.361,169.777 384.466,170.417 384.571,171.058 384.676,171.699 384.781,172.339 384.886,172.981 \n",
       "  384.991,173.622 385.096,174.264 385.201,174.905 385.306,175.547 385.411,176.19 385.516,176.832 385.621,177.474 385.726,178.117 385.831,178.76 385.936,179.403 \n",
       "  386.041,180.046 386.146,180.689 386.251,181.332 386.356,181.975 386.461,182.619 386.566,183.262 386.671,183.905 386.776,184.549 386.881,185.192 386.986,185.836 \n",
       "  387.091,186.479 387.196,187.123 387.301,187.766 387.406,188.41 387.511,189.053 387.616,189.697 387.721,190.34 387.826,190.983 387.931,191.626 388.036,192.269 \n",
       "  388.141,192.912 388.246,193.555 388.351,194.198 388.456,194.84 388.561,195.483 388.666,196.125 388.771,196.767 388.876,197.409 388.981,198.05 389.086,198.692 \n",
       "  389.191,199.333 389.296,199.974 389.401,200.615 389.506,201.256 389.611,201.896 389.716,202.536 389.821,203.176 389.926,203.815 390.031,204.455 390.136,205.093 \n",
       "  390.241,205.732 390.346,206.37 390.451,207.008 390.557,207.646 390.662,208.283 390.767,208.92 390.872,209.556 390.977,210.192 391.082,210.828 391.187,211.463 \n",
       "  391.292,212.098 391.397,212.732 391.502,213.366 391.607,213.999 391.712,214.632 391.817,215.265 391.922,215.897 392.027,216.528 392.132,217.159 392.237,217.79 \n",
       "  392.342,218.42 392.447,219.049 392.552,219.678 392.657,220.307 392.762,220.934 392.867,221.562 392.972,222.188 393.077,222.814 393.182,223.44 393.287,224.064 \n",
       "  393.392,224.688 393.497,225.312 393.602,225.935 393.707,226.557 393.812,227.179 393.917,227.799 394.022,228.42 394.127,229.039 394.232,229.658 394.337,230.276 \n",
       "  394.442,230.893 394.547,231.51 394.652,232.126 394.757,232.741 394.862,233.355 394.967,233.969 395.072,234.582 395.177,235.194 395.282,235.805 395.387,236.415 \n",
       "  395.492,237.025 395.597,237.633 395.702,238.241 395.807,238.848 395.912,239.455 396.017,240.06 396.122,240.664 396.227,241.268 396.332,241.871 396.437,242.472 \n",
       "  396.542,243.073 396.647,243.673 396.752,244.272 396.857,244.87 396.962,245.468 397.067,246.064 397.172,246.659 397.277,247.253 397.382,247.847 397.487,248.439 \n",
       "  397.592,249.03 397.697,249.621 397.802,250.21 397.907,250.798 398.012,251.385 398.117,251.972 398.222,252.557 398.327,253.141 398.432,253.724 398.537,254.306 \n",
       "  398.643,254.887 398.748,255.467 398.853,256.045 398.958,256.623 399.063,257.199 399.168,257.775 399.273,258.349 399.378,258.922 399.483,259.494 399.588,260.065 \n",
       "  399.693,260.635 399.798,261.203 399.903,261.771 400.008,262.337 400.113,262.902 400.218,263.466 400.323,264.028 400.428,264.59 400.533,265.15 400.638,265.709 \n",
       "  400.743,266.267 400.848,266.823 400.953,267.378 401.058,267.933 401.163,268.485 401.268,269.037 401.373,269.587 401.478,270.136 401.583,270.684 401.688,271.23 \n",
       "  401.793,271.775 401.898,272.319 402.003,272.861 402.108,273.402 402.213,273.942 402.318,274.481 402.423,275.018 402.528,275.554 402.633,276.088 402.738,276.621 \n",
       "  402.843,277.153 402.948,277.684 403.053,278.213 403.158,278.74 403.263,279.266 403.368,279.791 403.473,280.315 403.578,280.837 403.683,281.357 403.788,281.877 \n",
       "  403.893,282.395 403.998,282.911 404.103,283.426 404.208,283.939 404.313,284.452 404.418,284.962 404.523,285.471 404.628,285.979 404.733,286.485 404.838,286.99 \n",
       "  404.943,287.493 405.048,287.995 405.153,288.496 405.258,288.995 405.363,289.492 405.468,289.988 405.573,290.482 405.678,290.975 405.783,291.466 405.888,291.956 \n",
       "  405.993,292.444 406.098,292.931 406.203,293.416 406.308,293.9 406.413,294.382 406.518,294.863 406.623,295.342 406.728,295.82 406.834,296.295 406.939,296.77 \n",
       "  407.044,297.243 407.149,297.714 407.254,298.183 407.359,298.652 407.464,299.118 407.569,299.583 407.674,300.046 407.779,300.508 407.884,300.968 407.989,301.426 \n",
       "  408.094,301.883 408.199,302.339 408.304,302.792 408.409,303.244 408.514,303.695 408.619,304.143 408.724,304.59 408.829,305.036 408.934,305.48 409.039,305.922 \n",
       "  409.144,306.363 409.249,306.801 409.354,307.239 409.459,307.674 409.564,308.108 409.669,308.54 409.774,308.971 409.879,309.4 409.984,309.827 410.089,310.253 \n",
       "  410.194,310.677 410.299,311.099 410.404,311.519 410.509,311.938 410.614,312.355 410.719,312.771 410.824,313.184 410.929,313.596 411.034,314.007 411.139,314.415 \n",
       "  411.244,314.822 411.349,315.227 411.454,315.631 411.559,316.032 411.664,316.432 411.769,316.831 411.874,317.227 411.979,317.622 412.084,318.015 412.189,318.407 \n",
       "  412.294,318.796 412.399,319.184 412.504,319.57 412.609,319.955 412.714,320.337 412.819,320.718 412.924,321.097 413.029,321.475 413.134,321.85 413.239,322.224 \n",
       "  413.344,322.596 413.449,322.967 413.554,323.335 413.659,323.702 413.764,324.067 413.869,324.43 413.974,324.792 414.079,325.152 414.184,325.51 414.289,325.866 \n",
       "  414.394,326.22 414.499,326.573 414.604,326.924 414.709,327.273 414.814,327.62 414.92,327.965 415.025,328.309 415.13,328.651 415.235,328.991 415.34,329.329 \n",
       "  415.445,329.666 415.55,330 415.655,330.333 415.76,330.664 415.865,330.994 415.97,331.321 416.075,331.647 416.18,331.971 416.285,332.293 416.39,332.613 \n",
       "  416.495,332.931 416.6,333.248 416.705,333.563 416.81,333.876 416.915,334.187 417.02,334.496 417.125,334.804 417.23,335.109 417.335,335.413 417.44,335.715 \n",
       "  417.545,336.015 417.65,336.314 417.755,336.61 417.86,336.905 417.965,337.198 418.07,337.489 418.175,337.778 418.28,338.066 418.385,338.351 418.49,338.635 \n",
       "  418.595,338.917 418.7,339.197 418.805,339.475 418.91,339.751 419.015,340.026 419.12,340.299 419.225,340.57 419.33,340.839 419.435,341.106 419.54,341.371 \n",
       "  419.645,341.634 419.75,341.896 419.855,342.156 419.96,342.414 420.065,342.67 420.17,342.924 420.275,343.177 420.38,343.427 420.485,343.676 420.59,343.923 \n",
       "  420.695,344.168 420.8,344.411 420.905,344.652 421.01,344.892 421.115,345.129 421.22,345.365 421.325,345.599 421.43,345.831 421.535,346.061 421.64,346.289 \n",
       "  421.745,346.516 421.85,346.74 421.955,346.963 422.06,347.184 422.165,347.403 422.27,347.62 422.375,347.835 422.48,348.049 422.585,348.26 422.69,348.47 \n",
       "  422.795,348.678 422.9,348.884 423.006,349.088 423.111,349.29 423.216,349.49 423.321,349.689 423.426,349.885 423.531,350.08 423.636,350.273 423.741,350.464 \n",
       "  423.846,350.653 423.951,350.841 424.056,351.026 424.161,351.21 424.266,351.391 424.371,351.571 424.476,351.749 424.581,351.925 424.686,352.1 424.791,352.272 \n",
       "  424.896,352.443 425.001,352.611 425.106,352.778 425.211,352.943 425.316,353.106 425.421,353.267 425.526,353.426 425.631,353.584 425.736,353.739 425.841,353.893 \n",
       "  425.946,354.045 426.051,354.195 426.156,354.343 426.261,354.489 426.366,354.633 426.471,354.776 426.576,354.916 426.681,355.055 426.786,355.192 426.891,355.327 \n",
       "  426.996,355.46 427.101,355.591 427.206,355.721 427.311,355.848 427.416,355.974 427.521,356.097 427.626,356.219 427.731,356.339 427.836,356.457 427.941,356.574 \n",
       "  428.046,356.688 428.151,356.801 428.256,356.911 428.361,357.02 428.466,357.127 428.571,357.232 428.676,357.335 428.781,357.436 428.886,357.536 428.991,357.633 \n",
       "  429.096,357.729 429.201,357.822 429.306,357.914 429.411,358.004 429.516,358.092 429.621,358.179 429.726,358.263 429.831,358.346 429.936,358.426 430.041,358.505 \n",
       "  430.146,358.582 430.251,358.657 430.356,358.73 430.461,358.801 430.566,358.871 430.671,358.938 430.776,359.004 430.881,359.068 430.986,359.13 431.092,359.19 \n",
       "  431.197,359.248 431.302,359.304 431.407,359.358 431.512,359.411 431.617,359.462 431.722,359.51 431.827,359.557 431.932,359.602 432.037,359.645 432.142,359.687 \n",
       "  432.247,359.726 432.352,359.764 432.457,359.799 432.562,359.833 432.667,359.865 432.772,359.895 432.877,359.923 432.982,359.949 433.087,359.974 433.192,359.996 \n",
       "  433.297,360.017 433.402,360.036 433.507,360.053 433.612,360.068 433.717,360.081 433.822,360.092 433.927,360.102 434.032,360.109 434.137,360.115 434.242,360.118 \n",
       "  434.347,360.12 434.452,360.12 434.557,360.119 434.662,360.115 434.767,360.109 434.872,360.102 434.977,360.092 435.082,360.081 435.187,360.068 435.292,360.053 \n",
       "  435.397,360.036 435.502,360.018 435.607,359.997 435.712,359.975 435.817,359.95 435.922,359.924 436.027,359.896 436.132,359.866 436.237,359.834 436.342,359.8 \n",
       "  436.447,359.765 436.552,359.727 436.657,359.688 436.762,359.647 436.867,359.604 436.972,359.559 437.077,359.512 437.182,359.463 437.287,359.413 437.392,359.36 \n",
       "  437.497,359.306 437.602,359.25 437.707,359.192 437.812,359.132 437.917,359.07 438.022,359.006 438.127,358.94 438.232,358.873 438.337,358.804 438.442,358.732 \n",
       "  438.547,358.659 438.652,358.584 438.757,358.508 438.862,358.429 438.967,358.348 439.072,358.266 439.178,358.182 439.283,358.095 439.388,358.007 439.493,357.917 \n",
       "  439.598,357.825 439.703,357.732 439.808,357.636 439.913,357.539 440.018,357.439 440.123,357.338 440.228,357.235 440.333,357.13 440.438,357.023 440.543,356.915 \n",
       "  440.648,356.804 440.753,356.692 440.858,356.577 440.963,356.461 441.068,356.343 441.173,356.223 441.278,356.101 441.383,355.978 441.488,355.852 441.593,355.725 \n",
       "  441.698,355.596 441.803,355.464 441.908,355.331 442.013,355.196 442.118,355.06 442.223,354.921 442.328,354.781 442.433,354.638 442.538,354.494 442.643,354.348 \n",
       "  442.748,354.2 442.853,354.05 442.958,353.898 443.063,353.744 443.168,353.589 443.273,353.432 443.378,353.272 443.483,353.111 443.588,352.948 443.693,352.783 \n",
       "  443.798,352.617 443.903,352.448 444.008,352.278 444.113,352.105 444.218,351.931 444.323,351.755 444.428,351.577 444.533,351.397 444.638,351.216 444.743,351.032 \n",
       "  444.848,350.847 444.953,350.66 445.058,350.471 445.163,350.28 445.268,350.087 445.373,349.892 445.478,349.695 445.583,349.497 445.688,349.297 445.793,349.094 \n",
       "  445.898,348.89 446.003,348.684 446.108,348.477 446.213,348.267 446.318,348.056 446.423,347.842 446.528,347.627 446.633,347.41 446.738,347.191 446.843,346.97 \n",
       "  446.948,346.748 447.053,346.523 447.158,346.297 447.264,346.068 447.369,345.838 447.474,345.606 447.579,345.373 447.684,345.137 447.789,344.899 447.894,344.66 \n",
       "  447.999,344.419 448.104,344.176 448.209,343.931 448.314,343.684 448.419,343.435 448.524,343.185 448.629,342.933 448.734,342.678 448.839,342.422 448.944,342.164 \n",
       "  449.049,341.905 449.154,341.643 449.259,341.38 449.364,341.114 449.469,340.847 449.574,340.578 449.679,340.308 449.784,340.035 449.889,339.761 449.994,339.484 \n",
       "  450.099,339.206 450.204,338.926 450.309,338.644 450.414,338.361 450.519,338.075 450.624,337.788 450.729,337.499 450.834,337.208 450.939,336.915 451.044,336.62 \n",
       "  451.149,336.324 451.254,336.025 451.359,335.725 451.464,335.423 451.569,335.119 451.674,334.814 451.779,334.506 451.884,334.197 451.989,333.886 452.094,333.573 \n",
       "  452.199,333.258 452.304,332.942 452.409,332.623 452.514,332.303 452.619,331.981 452.724,331.657 452.829,331.332 452.934,331.004 453.039,330.675 453.144,330.344 \n",
       "  453.249,330.011 453.354,329.677 453.459,329.34 453.564,329.002 453.669,328.662 453.774,328.32 453.879,327.977 453.984,327.631 454.089,327.284 454.194,326.935 \n",
       "  454.299,326.584 454.404,326.232 454.509,325.877 454.614,325.521 454.719,325.163 454.824,324.804 454.929,324.442 455.034,324.079 455.139,323.714 455.244,323.347 \n",
       "  455.35,322.979 455.455,322.609 455.56,322.237 455.665,321.863 455.77,321.487 455.875,321.11 455.98,320.731 456.085,320.35 456.19,319.967 456.295,319.583 \n",
       "  456.4,319.197 456.505,318.809 456.61,318.42 456.715,318.028 456.82,317.635 456.925,317.24 457.03,316.844 457.135,316.446 457.24,316.046 457.345,315.644 \n",
       "  457.45,315.241 457.555,314.836 457.66,314.429 457.765,314.02 457.87,313.61 457.975,313.198 458.08,312.784 458.185,312.369 458.29,311.952 458.395,311.533 \n",
       "  458.5,311.113 458.605,310.691 458.71,310.267 458.815,309.841 458.92,309.414 459.025,308.985 459.13,308.555 459.235,308.122 459.34,307.689 459.445,307.253 \n",
       "  459.55,306.816 459.655,306.377 459.76,305.937 459.865,305.494 459.97,305.051 460.075,304.605 460.18,304.158 460.285,303.709 460.39,303.259 460.495,302.807 \n",
       "  460.6,302.354 460.705,301.898 460.81,301.442 460.915,300.983 461.02,300.523 461.125,300.061 461.23,299.598 461.335,299.133 461.44,298.667 461.545,298.199 \n",
       "  461.65,297.729 461.755,297.258 461.86,296.785 461.965,296.311 462.07,295.835 462.175,295.358 462.28,294.879 462.385,294.398 462.49,293.916 462.595,293.432 \n",
       "  462.7,292.947 462.805,292.461 462.91,291.972 463.015,291.483 463.12,290.991 463.225,290.498 463.33,290.004 463.436,289.508 463.541,289.011 463.646,288.512 \n",
       "  463.751,288.012 463.856,287.51 463.961,287.007 464.066,286.502 464.171,285.996 464.276,285.488 464.381,284.979 464.486,284.468 464.591,283.956 464.696,283.443 \n",
       "  464.801,282.928 464.906,282.412 465.011,281.894 465.116,281.375 465.221,280.854 465.326,280.332 465.431,279.809 465.536,279.284 465.641,278.758 465.746,278.23 \n",
       "  465.851,277.701 465.956,277.171 466.061,276.639 466.166,276.106 466.271,275.571 466.376,275.036 466.481,274.499 466.586,273.96 466.691,273.42 466.796,272.879 \n",
       "  466.901,272.337 467.006,271.793 467.111,271.248 467.216,270.702 467.321,270.154 467.426,269.605 467.531,269.055 467.636,268.503 467.741,267.951 467.846,267.397 \n",
       "  467.951,266.842 468.056,266.285 468.161,265.727 468.266,265.168 468.371,264.608 468.476,264.047 468.581,263.484 468.686,262.921 468.791,262.356 468.896,261.789 \n",
       "  469.001,261.222 469.106,260.654 469.211,260.084 469.316,259.513 469.421,258.941 469.526,258.368 469.631,257.794 469.736,257.218 469.841,256.642 469.946,256.064 \n",
       "  470.051,255.486 470.156,254.906 470.261,254.325 470.366,253.743 470.471,253.16 470.576,252.576 470.681,251.991 470.786,251.405 470.891,250.818 470.996,250.229 \n",
       "  471.101,249.64 471.206,249.05 471.311,248.458 471.416,247.866 471.522,247.273 471.627,246.679 471.732,246.083 471.837,245.487 471.942,244.89 472.047,244.292 \n",
       "  472.152,243.693 472.257,243.093 472.362,242.492 472.467,241.891 472.572,241.288 472.677,240.684 472.782,240.08 472.887,239.475 472.992,238.868 473.097,238.261 \n",
       "  473.202,237.653 473.307,237.045 473.412,236.435 473.517,235.825 473.622,235.214 473.727,234.602 473.832,233.989 473.937,233.375 474.042,232.761 474.147,232.146 \n",
       "  474.252,231.53 474.357,230.914 474.462,230.296 474.567,229.678 474.672,229.06 474.777,228.44 474.882,227.82 474.987,227.199 475.092,226.578 475.197,225.955 \n",
       "  475.302,225.333 475.407,224.709 475.512,224.085 475.617,223.46 475.722,222.835 475.827,222.209 475.932,221.582 476.037,220.955 476.142,220.327 476.247,219.699 \n",
       "  476.352,219.07 476.457,218.441 476.562,217.811 476.667,217.18 476.772,216.549 476.877,215.918 476.982,215.286 477.087,214.653 477.192,214.02 477.297,213.387 \n",
       "  477.402,212.753 477.507,212.119 477.612,211.484 477.717,210.849 477.822,210.213 477.927,209.577 478.032,208.941 478.137,208.304 478.242,207.667 478.347,207.029 \n",
       "  478.452,206.391 478.557,205.753 478.662,205.114 478.767,204.476 478.872,203.836 478.977,203.197 479.082,202.557 479.187,201.917 479.292,201.277 479.397,200.636 \n",
       "  479.502,199.995 479.608,199.354 479.713,198.713 479.818,198.072 479.923,197.43 480.028,196.788 480.133,196.146 480.238,195.504 480.343,194.861 480.448,194.219 \n",
       "  480.553,193.576 480.658,192.933 480.763,192.29 480.868,191.647 480.973,191.004 481.078,190.361 481.183,189.718 481.288,189.074 481.393,188.431 481.498,187.788 \n",
       "  481.603,187.144 481.708,186.501 481.813,185.857 481.918,185.214 482.023,184.57 482.128,183.927 482.233,183.283 482.338,182.64 482.443,181.997 482.548,181.353 \n",
       "  482.653,180.71 482.758,180.067 482.863,179.424 482.968,178.781 483.073,178.138 483.178,177.496 483.283,176.853 483.388,176.211 483.493,175.569 483.598,174.927 \n",
       "  483.703,174.285 483.808,173.643 483.913,173.002 484.018,172.361 484.123,171.72 484.228,171.079 484.333,170.438 484.438,169.798 484.543,169.158 484.648,168.519 \n",
       "  484.753,167.879 484.858,167.24 484.963,166.601 485.068,165.963 485.173,165.325 485.278,164.687 485.383,164.05 485.488,163.413 485.593,162.776 485.698,162.14 \n",
       "  485.803,161.504 485.908,160.868 486.013,160.233 486.118,159.599 486.223,158.964 486.328,158.331 486.433,157.697 486.538,157.065 486.643,156.432 486.748,155.8 \n",
       "  486.853,155.169 486.958,154.538 487.063,153.908 487.168,153.278 487.273,152.649 487.378,152.02 487.483,151.392 487.588,150.765 487.694,150.138 487.799,149.511 \n",
       "  487.904,148.886 488.009,148.26 488.114,147.636 488.219,147.012 488.324,146.389 488.429,145.766 488.534,145.144 488.639,144.523 488.744,143.902 488.849,143.282 \n",
       "  488.954,142.663 489.059,142.044 489.164,141.427 489.269,140.81 489.374,140.193 489.479,139.578 489.584,138.963 489.689,138.349 489.794,137.736 489.899,137.123 \n",
       "  490.004,136.511 490.109,135.9 490.214,135.29 490.319,134.681 490.424,134.073 490.529,133.465 490.634,132.858 490.739,132.252 490.844,131.647 490.949,131.043 \n",
       "  491.054,130.44 491.159,129.838 491.264,129.236 491.369,128.636 491.474,128.036 491.579,127.437 491.684,126.84 491.789,126.243 491.894,125.647 491.999,125.052 \n",
       "  492.104,124.458 492.209,123.865 492.314,123.273 492.419,122.682 492.524,122.092 492.629,121.504 492.734,120.916 492.839,120.329 492.944,119.743 493.049,119.158 \n",
       "  493.154,118.574 493.259,117.992 493.364,117.41 493.469,116.83 493.574,116.25 493.679,115.672 493.784,115.095 493.889,114.519 493.994,113.944 494.099,113.37 \n",
       "  494.204,112.797 494.309,112.226 494.414,111.655 494.519,111.086 494.624,110.518 494.729,109.951 494.834,109.385 494.939,108.82 495.044,108.257 495.149,107.695 \n",
       "  495.254,107.134 495.359,106.574 495.464,106.016 495.569,105.458 495.674,104.902 495.78,104.348 495.885,103.794 495.99,103.242 496.095,102.691 496.2,102.141 \n",
       "  496.305,101.592 496.41,101.045 496.515,100.499 496.62,99.9548 496.725,99.4115 496.83,98.8695 496.935,98.3288 497.04,97.7895 497.145,97.2515 497.25,96.7148 \n",
       "  497.355,96.1795 497.46,95.6455 497.565,95.1129 497.67,94.5817 497.775,94.0518 497.88,93.5233 497.985,92.9961 498.09,92.4704 498.195,91.9461 498.3,91.4231 \n",
       "  498.405,90.9016 498.51,90.3814 498.615,89.8627 498.72,89.3454 498.825,88.8295 498.93,88.3151 499.035,87.8021 499.14,87.2906 499.245,86.7805 499.35,86.2718 \n",
       "  499.455,85.7646 499.56,85.2589 499.665,84.7547 499.77,84.2519 499.875,83.7506 499.98,83.2508 500.085,82.7525 500.19,82.2557 500.295,81.7603 500.4,81.2665 \n",
       "  500.505,80.7742 500.61,80.2835 500.715,79.7942 500.82,79.3065 500.925,78.8203 501.03,78.3356 501.135,77.8525 501.24,77.3709 501.345,76.8909 501.45,76.4124 \n",
       "  501.555,75.9355 501.66,75.4601 501.765,74.9863 501.87,74.5141 501.975,74.0435 502.08,73.5744 502.185,73.1069 502.29,72.641 502.395,72.1767 502.5,71.714 \n",
       "  502.605,71.2529 502.71,70.7935 502.815,70.3356 502.92,69.8793 503.025,69.4246 503.13,68.9716 503.235,68.5202 503.34,68.0704 503.445,67.6223 503.55,67.1758 \n",
       "  503.655,66.7309 503.76,66.2877 503.866,65.8461 503.971,65.4061 504.076,64.9679 504.181,64.5312 504.286,64.0963 504.391,63.663 504.496,63.2313 504.601,62.8014 \n",
       "  504.706,62.3731 504.811,61.9465 504.916,61.5216 505.021,61.0983 505.126,60.6767 505.231,60.2569 505.336,59.8387 505.441,59.4222 505.546,59.0074 505.651,58.5943 \n",
       "  505.756,58.183 505.861,57.7733 505.966,57.3653 506.071,56.9591 506.176,56.5545 506.281,56.1517 506.386,55.7506 506.491,55.3513 506.596,54.9536 506.701,54.5577 \n",
       "  506.806,54.1635 506.911,53.7711 507.016,53.3803 507.121,52.9914 507.226,52.6041 507.331,52.2186 507.436,51.8349 507.541,51.4529 507.646,51.0727 507.751,50.6942 \n",
       "  507.856,50.3174 507.961,49.9424 508.066,49.5692 508.171,49.1978 508.276,48.8281 508.381,48.4601 508.486,48.094 508.591,47.7296 508.696,47.367 508.801,47.0061 \n",
       "  508.906,46.6471 509.011,46.2898 509.116,45.9343 509.221,45.5805 509.326,45.2286 509.431,44.8784 509.536,44.5301 509.641,44.1835 509.746,43.8387 509.851,43.4957 \n",
       "  509.956,43.1545 510.061,42.8151 510.166,42.4775 510.271,42.1417 510.376,41.8077 510.481,41.4754 510.586,41.145 510.691,40.8164 510.796,40.4896 510.901,40.1647 \n",
       "  511.006,39.8415 511.111,39.5201 511.216,39.2006 511.321,38.8828 511.426,38.5669 511.531,38.2528 511.636,37.9405 511.741,37.63 511.846,37.3214 511.952,37.0145 \n",
       "  512.057,36.7095 512.162,36.4063 512.267,36.105 512.372,35.8055 512.477,35.5078 512.582,35.2119 512.687,34.9178 512.792,34.6256 512.897,34.3352 513.002,34.0467 \n",
       "  513.107,33.76 513.212,33.4751 513.317,33.192 513.422,32.9108 513.527,32.6314 513.632,32.3539 513.737,32.0782 513.842,31.8044 513.947,31.5323 514.052,31.2622 \n",
       "  514.157,30.9938 514.262,30.7274 514.367,30.4627 514.472,30.1999 514.577,29.939 514.682,29.6799 514.787,29.4226 514.892,29.1672 514.997,28.9136 515.102,28.6619 \n",
       "  515.207,28.4121 515.312,28.1641 515.417,27.9179 515.522,27.6736 515.627,27.4312 515.732,27.1906 515.837,26.9518 515.942,26.7149 516.047,26.4799 516.152,26.2467 \n",
       "  516.257,26.0154 516.362,25.7859 516.467,25.5583 516.572,25.3326 516.677,25.1087 516.782,24.8867 516.887,24.6665 516.992,24.4482 517.097,24.2318 517.202,24.0172 \n",
       "  517.307,23.8044 517.412,23.5936 517.517,23.3846 517.622,23.1774 517.727,22.9722 517.832,22.7687 517.937,22.5672 518.042,22.3675 518.147,22.1697 518.252,21.9737 \n",
       "  518.357,21.7796 518.462,21.5874 518.567,21.397 518.672,21.2086 518.777,21.0219 518.882,20.8372 518.987,20.6543 519.092,20.4732 519.197,20.2941 519.302,20.1168 \n",
       "  519.407,19.9414 519.512,19.7678 519.617,19.5961 519.722,19.4263 519.827,19.2584 519.932,19.0923 520.038,18.9281 520.143,18.7657 520.248,18.6053 520.353,18.4467 \n",
       "  520.458,18.2899 520.563,18.1351 520.668,17.9821 520.773,17.831 520.878,17.6817 520.983,17.5344 521.088,17.3889 521.193,17.2452 521.298,17.1035 521.403,16.9636 \n",
       "  521.508,16.8256 521.613,16.6894 521.718,16.5551 521.823,16.4227 521.928,16.2922 522.033,16.1635 522.138,16.0368 522.243,15.9119 522.348,15.7888 522.453,15.6676 \n",
       "  522.558,15.5484 522.663,15.4309 522.768,15.3154 522.873,15.2017 522.978,15.0899 523.083,14.98 523.188,14.8719 523.293,14.7658 523.398,14.6614 523.503,14.559 \n",
       "  523.608,14.4585 523.713,14.3598 523.818,14.263 523.923,14.168 524.028,14.075 524.133,13.9838 524.238,13.8945 524.343,13.807 524.448,13.7214 524.553,13.6378 \n",
       "  524.658,13.5559 524.763,13.476 524.868,13.3979 524.973,13.3217 525.078,13.2474 525.183,13.175 525.288,13.1044 525.393,13.0357 525.498,12.9689 525.603,12.9039 \n",
       "  525.708,12.8408 525.813,12.7796 525.918,12.7203 526.023,12.6629 526.128,12.6073 526.233,12.5536 526.338,12.5017 526.443,12.4518 526.548,12.4037 526.653,12.3575 \n",
       "  526.758,12.3132 526.863,12.2707 526.968,12.2301 527.073,12.1914 527.178,12.1546 527.283,12.1197 527.388,12.0866 527.493,12.0554 527.598,12.026 527.703,11.9986 \n",
       "  527.808,11.973 527.913,11.9493 528.018,11.9275 528.124,11.9075 528.229,11.8894 528.334,11.8732 528.439,11.8589 528.544,11.8464 528.649,11.8358 528.754,11.8271 \n",
       "  528.859,11.8203 528.964,11.8153 529.069,11.8122 529.174,11.811 529.279,11.8117 529.384,11.8142 529.489,11.8186 529.594,11.8249 529.699,11.8331 529.804,11.8431 \n",
       "  529.909,11.8551 530.014,11.8688 530.119,11.8845 530.224,11.902 530.329,11.9215 530.434,11.9427 530.539,11.9659 530.644,11.9909 530.749,12.0178 530.854,12.0466 \n",
       "  530.959,12.0773 531.064,12.1098 531.169,12.1442 531.274,12.1805 531.379,12.2187 531.484,12.2587 531.589,12.3006 531.694,12.3444 531.799,12.3901 531.904,12.4376 \n",
       "  532.009,12.487 532.114,12.5383 532.219,12.5914 532.324,12.6465 532.429,12.7034 532.534,12.7622 532.639,12.8228 532.744,12.8853 532.849,12.9497 532.954,13.016 \n",
       "  533.059,13.0842 533.164,13.1542 533.269,13.2261 533.374,13.2999 533.479,13.3755 533.584,13.4531 533.689,13.5325 533.794,13.6137 533.899,13.6969 534.004,13.7819 \n",
       "  534.109,13.8688 534.214,13.9576 534.319,14.0482 534.424,14.1407 534.529,14.2351 534.634,14.3314 534.739,14.4295 534.844,14.5295 534.949,14.6314 535.054,14.7352 \n",
       "  535.159,14.8408 535.264,14.9483 535.369,15.0577 535.474,15.169 535.579,15.2821 535.684,15.3971 535.789,15.514 535.894,15.6327 535.999,15.7533 536.104,15.8758 \n",
       "  536.21,16.0002 536.315,16.1264 536.42,16.2545 536.525,16.3845 536.63,16.5164 536.735,16.6501 536.84,16.7857 536.945,16.9232 537.05,17.0625 537.155,17.2037 \n",
       "  537.26,17.3468 537.365,17.4918 537.47,17.6386 537.575,17.7873 537.68,17.9379 537.785,18.0903 537.89,18.2446 537.995,18.4008 538.1,18.5589 538.205,18.7188 \n",
       "  538.31,18.8806 538.415,19.0443 538.52,19.2098 538.625,19.3772 538.73,19.5465 538.835,19.7176 538.94,19.8906 539.045,20.0655 539.15,20.2423 539.255,20.4209 \n",
       "  539.36,20.6014 539.465,20.7837 539.57,20.9679 539.675,21.154 539.78,21.342 539.885,21.5318 539.99,21.7235 540.095,21.917 540.2,22.1124 540.305,22.3097 \n",
       "  540.41,22.5088 540.515,22.7098 540.62,22.9127 540.725,23.1174 540.83,23.324 540.935,23.5325 541.04,23.7428 541.145,23.955 541.25,24.1691 541.355,24.385 \n",
       "  541.46,24.6027 541.565,24.8224 541.67,25.0438 541.775,25.2672 541.88,25.4924 541.985,25.7195 542.09,25.9484 542.195,26.1792 542.3,26.4118 542.405,26.6463 \n",
       "  542.51,26.8826 542.615,27.1208 542.72,27.3609 542.825,27.6028 542.93,27.8466 543.035,28.0922 543.14,28.3396 543.245,28.589 543.35,28.8401 543.455,29.0932 \n",
       "  543.56,29.348 543.665,29.6047 543.77,29.8633 543.875,30.1237 543.98,30.386 544.085,30.6501 544.19,30.916 544.296,31.1838 544.401,31.4535 544.506,31.7249 \n",
       "  544.611,31.9983 544.716,32.2734 544.821,32.5504 544.926,32.8293 545.031,33.1099 545.136,33.3924 545.241,33.6768 545.346,33.963 545.451,34.251 545.556,34.5408 \n",
       "  545.661,34.8325 545.766,35.126 545.871,35.4214 545.976,35.7186 546.081,36.0176 546.186,36.3184 546.291,36.621 546.396,36.9255 546.501,37.2318 546.606,37.5399 \n",
       "  546.711,37.8499 546.816,38.1616 546.921,38.4752 547.026,38.7906 547.131,39.1078 547.236,39.4269 547.341,39.7477 547.446,40.0703 547.551,40.3948 547.656,40.7211 \n",
       "  547.761,41.0491 547.866,41.379 547.971,41.7107 548.076,42.0442 548.181,42.3795 548.286,42.7166 548.391,43.0555 548.496,43.3961 548.601,43.7386 548.706,44.0829 \n",
       "  548.811,44.4289 548.916,44.7768 549.021,45.1264 549.126,45.4779 549.231,45.8311 549.336,46.1861 549.441,46.5428 549.546,46.9014 549.651,47.2617 549.756,47.6238 \n",
       "  549.861,47.9877 549.966,48.3533 550.071,48.7207 550.176,49.0899 550.281,49.4609 550.386,49.8336 550.491,50.208 550.596,50.5843 550.701,50.9622 550.806,51.342 \n",
       "  550.911,51.7235 551.016,52.1067 551.121,52.4917 551.226,52.8784 551.331,53.2669 551.436,53.6571 551.541,54.049 551.646,54.4427 551.751,54.8381 551.856,55.2353 \n",
       "  551.961,55.6341 552.066,56.0347 552.171,56.437 552.276,56.8411 552.382,57.2468 552.487,57.6543 552.592,58.0635 552.697,58.4743 552.802,58.8869 552.907,59.3012 \n",
       "  553.012,59.7172 553.117,60.1349 553.222,60.5543 553.327,60.9753 553.432,61.3981 553.537,61.8225 553.642,62.2487 553.747,62.6765 553.852,63.1059 553.957,63.5371 \n",
       "  554.062,63.9699 554.167,64.4044 554.272,64.8405 554.377,65.2783 554.482,65.7178 554.587,66.1589 554.692,66.6016 554.797,67.046 554.902,67.4921 555.007,67.9397 \n",
       "  555.112,68.389 555.217,68.84 555.322,69.2925 555.427,69.7467 555.532,70.2025 555.637,70.6599 555.742,71.119 555.847,71.5796 555.952,72.0418 556.057,72.5056 \n",
       "  556.162,72.9711 556.267,73.4381 556.372,73.9067 556.477,74.3769 556.582,74.8486 556.687,75.322 556.792,75.7969 556.897,76.2733 557.002,76.7513 557.107,77.2309 \n",
       "  557.212,77.712 557.317,78.1947 557.422,78.6789 557.527,79.1647 557.632,79.652 557.737,80.1408 557.842,80.6311 557.947,81.123 558.052,81.6164 558.157,82.1112 \n",
       "  558.262,82.6076 558.367,83.1055 558.472,83.6049 558.577,84.1057 558.682,84.6081 558.787,85.1119 558.892,85.6172 558.997,86.1239 559.102,86.6322 559.207,87.1418 \n",
       "  559.312,87.653 559.417,88.1655 559.522,88.6796 559.627,89.195 559.732,89.7119 559.837,90.2302 559.942,90.7499 560.047,91.2711 560.152,91.7936 560.257,92.3175 \n",
       "  560.362,92.8429 560.468,93.3696 560.573,93.8977 560.678,94.4272 560.783,94.958 560.888,95.4903 560.993,96.0238 561.098,96.5588 561.203,97.095 561.308,97.6327 \n",
       "  561.413,98.1716 561.518,98.7119 561.623,99.2535 561.728,99.7964 561.833,100.341 561.938,100.886 562.043,101.433 562.148,101.981 562.253,102.53 562.358,103.081 \n",
       "  562.463,103.633 562.568,104.186 562.673,104.741 562.778,105.296 562.883,105.853 562.988,106.411 563.093,106.971 563.198,107.531 563.303,108.093 563.408,108.656 \n",
       "  563.513,109.22 563.618,109.786 563.723,110.352 563.828,110.92 563.933,111.489 564.038,112.059 564.143,112.63 564.248,113.203 564.353,113.776 564.458,114.351 \n",
       "  564.563,114.927 564.668,115.504 564.773,116.082 564.878,116.661 564.983,117.241 565.088,117.822 565.193,118.405 565.298,118.988 565.403,119.573 565.508,120.158 \n",
       "  565.613,120.745 565.718,121.332 565.823,121.921 565.928,122.51 566.033,123.101 566.138,123.693 566.243,124.285 566.348,124.879 566.453,125.474 566.558,126.069 \n",
       "  566.663,126.666 566.768,127.263 566.873,127.862 566.978,128.461 567.083,129.061 567.188,129.662 567.293,130.265 567.398,130.868 567.503,131.471 567.608,132.076 \n",
       "  567.713,132.682 567.818,133.288 567.923,133.896 568.028,134.504 568.133,135.113 568.238,135.723 568.343,136.333 568.448,136.945 568.554,137.557 568.659,138.17 \n",
       "  568.764,138.784 568.869,139.399 568.974,140.014 569.079,140.63 569.184,141.247 569.289,141.864 569.394,142.483 569.499,143.102 569.604,143.722 569.709,144.342 \n",
       "  569.814,144.963 569.919,145.585 570.024,146.207 570.129,146.83 570.234,147.454 570.339,148.078 570.444,148.703 570.549,149.329 570.654,149.955 570.759,150.582 \n",
       "  570.864,151.209 570.969,151.837 571.074,152.466 571.179,153.095 571.284,153.725 571.389,154.355 571.494,154.985 571.599,155.617 571.704,156.248 571.809,156.88 \n",
       "  571.914,157.513 572.019,158.146 572.124,158.78 572.229,159.414 572.334,160.048 572.439,160.683 572.544,161.319 572.649,161.954 572.754,162.591 572.859,163.227 \n",
       "  572.964,163.864 573.069,164.501 573.174,165.139 573.279,165.777 573.384,166.415 573.489,167.054 573.594,167.693 573.699,168.332 573.804,168.972 573.909,169.612 \n",
       "  574.014,170.252 574.119,170.892 574.224,171.533 574.329,172.174 574.434,172.815 574.539,173.456 574.644,174.098 574.749,174.74 574.854,175.382 574.959,176.024 \n",
       "  575.064,176.666 575.169,177.309 575.274,177.951 575.379,178.594 575.484,179.237 575.589,179.88 575.694,180.523 575.799,181.166 575.904,181.809 576.009,182.452 \n",
       "  576.114,183.096 576.219,183.739 576.324,184.383 576.429,185.026 576.534,185.67 576.64,186.313 576.745,186.957 576.85,187.6 576.955,188.244 577.06,188.887 \n",
       "  577.165,189.53 577.27,190.174 577.375,190.817 577.48,191.46 577.585,192.103 577.69,192.746 577.795,193.389 577.9,194.032 578.005,194.674 578.11,195.317 \n",
       "  578.215,195.959 578.32,196.601 578.425,197.243 578.53,197.885 578.635,198.526 578.74,199.168 578.845,199.809 578.95,200.45 579.055,201.09 579.16,201.731 \n",
       "  579.265,202.371 579.37,203.011 579.475,203.65 579.58,204.289 579.685,204.928 579.79,205.567 579.895,206.205 580,206.843 580.105,207.481 580.21,208.118 \n",
       "  580.315,208.755 \n",
       "  \"/>\n",
       "<polygon clip-path=\"url(#clip5800)\" points=\"\n",
       "484.265,62.931 562.315,62.931 562.315,32.691 484.265,32.691 \n",
       "  \" fill=\"#ffffff\" fill-opacity=\"1\"/>\n",
       "<polyline clip-path=\"url(#clip5800)\" style=\"stroke:#000000; stroke-width:1; stroke-opacity:1; fill:none\" points=\"\n",
       "  484.265,62.931 562.315,62.931 562.315,32.691 484.265,32.691 484.265,62.931 \n",
       "  \"/>\n",
       "<polyline clip-path=\"url(#clip5800)\" style=\"stroke:#009af9; stroke-width:1; stroke-opacity:1; fill:none\" points=\"\n",
       "  490.265,47.811 526.265,47.811 \n",
       "  \"/>\n",
       "<g clip-path=\"url(#clip5800)\">\n",
       "<text style=\"fill:#000000; fill-opacity:1; font-family:Arial,Helvetica Neue,Helvetica,sans-serif; font-size:12; text-anchor:start;\" transform=\"rotate(0, 532.265, 52.311)\" x=\"532.265\" y=\"52.311\">Hip</text>\n",
       "</g>\n",
       "</svg>\n"
      ]
     },
     "execution_count": 12,
     "metadata": {},
     "output_type": "execute_result"
    }
   ],
   "source": [
    "elbow_angles = collect(q[1] for q in qs)\n",
    "plot(ts, elbow_angles, \n",
    "    xlabel = \"Time [s]\", \n",
    "    ylabel = \"Angle [rad]\", \n",
    "    label = \"Hip\")"
   ]
  },
  {
   "cell_type": "markdown",
   "metadata": {},
   "source": [
    "# The basic design of  `Mechanism` and `MechanismState`"
   ]
  },
  {
   "cell_type": "markdown",
   "metadata": {},
   "source": [
    "A `Mechanism` is an interconnection of rigid bodies and joints, without any state information:"
   ]
  },
  {
   "cell_type": "code",
   "execution_count": 13,
   "metadata": {},
   "outputs": [
    {
     "data": {
      "text/plain": [
       "6-element Array{RigidBodyDynamics.RigidBody{Float64},1}:\n",
       " world      \n",
       " base_link  \n",
       " right_thigh\n",
       " left_thigh \n",
       " right_shank\n",
       " left_shank "
      ]
     },
     "execution_count": 13,
     "metadata": {},
     "output_type": "execute_result"
    }
   ],
   "source": [
    "bodies(cycling)"
   ]
  },
  {
   "cell_type": "code",
   "execution_count": 14,
   "metadata": {},
   "outputs": [
    {
     "data": {
      "text/plain": [
       "5-element Array{RigidBodyDynamics.Joint{Float64,JT} where JT<:RigidBodyDynamics.JointType{Float64},1}:\n",
       " base_link_to_world\n",
       " right_hip         \n",
       " left_hip          \n",
       " right_knee        \n",
       " left_knee         "
      ]
     },
     "execution_count": 14,
     "metadata": {},
     "output_type": "execute_result"
    }
   ],
   "source": [
    "joints(cycling)"
   ]
  },
  {
   "cell_type": "markdown",
   "metadata": {},
   "source": [
    "You can unpack the list of joints into separate variables as follows:"
   ]
  },
  {
   "cell_type": "code",
   "execution_count": 15,
   "metadata": {},
   "outputs": [
    {
     "name": "stdout",
     "output_type": "stream",
     "text": [
      "(fixedjoint, Rhip, Lhip, Rknee, Lknee) = (Joint \"base_link_to_world\": Fixed joint, Joint \"right_hip\": Revolute joint with axis [0.0, 1.0, 0.0], Joint \"left_hip\": Revolute joint with axis [0.0, 1.0, 0.0], Joint \"right_knee\": Revolute joint with axis [0.0, 1.0, 0.0], Joint \"left_knee\": Revolute joint with axis [0.0, 1.0, 0.0])\n"
     ]
    }
   ],
   "source": [
    "fixedjoint, Rhip, Lhip, Rknee,  Lknee = joints(cycling)\n",
    "@show fixedjoint, Rhip, Lhip, Rknee, Lknee;"
   ]
  },
  {
   "cell_type": "markdown",
   "metadata": {},
   "source": [
    "A `MechanismState` has all the state information, e.g. the configurations and velocities of all the joints:"
   ]
  },
  {
   "cell_type": "code",
   "execution_count": 16,
   "metadata": {},
   "outputs": [
    {
     "name": "stdout",
     "output_type": "stream",
     "text": [
      "q = [-0.204137, -0.0538685, 0.534137, 0.0538685]\n",
      "v = [-5.70339, 1.6133, 5.70339, -1.6133]\n"
     ]
    }
   ],
   "source": [
    "q = configuration(state)\n",
    "v = velocity(state)\n",
    "@show q v;"
   ]
  },
  {
   "cell_type": "markdown",
   "metadata": {},
   "source": [
    "You can index into these vectors either using integer indices:"
   ]
  },
  {
   "cell_type": "code",
   "execution_count": 17,
   "metadata": {},
   "outputs": [
    {
     "data": {
      "text/plain": [
       "-0.20413679183696756"
      ]
     },
     "execution_count": 17,
     "metadata": {},
     "output_type": "execute_result"
    }
   ],
   "source": [
    "q[1]"
   ]
  },
  {
   "cell_type": "markdown",
   "metadata": {},
   "source": [
    "But also using joints:"
   ]
  },
  {
   "cell_type": "code",
   "execution_count": 18,
   "metadata": {},
   "outputs": [
    {
     "data": {
      "text/plain": [
       "1-element SubArray{Float64,1,Array{Float64,1},Tuple{UnitRange{Int64}},true}:\n",
       " -0.204137"
      ]
     },
     "execution_count": 18,
     "metadata": {},
     "output_type": "execute_result"
    }
   ],
   "source": [
    "q[Rhip]"
   ]
  },
  {
   "cell_type": "markdown",
   "metadata": {},
   "source": [
    "A `MechanismState` also has various cached computation results meant to reduce double work while computing various kinematic/dynamic quantities."
   ]
  },
  {
   "cell_type": "markdown",
   "metadata": {},
   "source": [
    "# Inverse Kinematics"
   ]
  },
  {
   "cell_type": "markdown",
   "metadata": {},
   "source": [
    "Many objects have frame annotations in the form of `CartesianFrame3D` objects:"
   ]
  },
  {
   "cell_type": "code",
   "execution_count": 19,
   "metadata": {},
   "outputs": [
    {
     "data": {
      "text/plain": [
       "Point3D in \"after_left_knee\": [0.0, 0.0, -0.4]"
      ]
     },
     "execution_count": 19,
     "metadata": {},
     "output_type": "execute_result"
    }
   ],
   "source": [
    "const body1 = findbody(cycling, \"right_shank\")\n",
    "const body2 = findbody(cycling, \"left_shank\")\n",
    "const point1 = Point3D(default_frame(body1), 0., 0, -0.4)\n",
    "const point2 = Point3D(default_frame(body2), 0., 0, -0.4)"
   ]
  },
  {
   "cell_type": "markdown",
   "metadata": {},
   "source": [
    "Here's how you create a point in the frame after the elbow joint:"
   ]
  },
  {
   "cell_type": "code",
   "execution_count": 20,
   "metadata": {},
   "outputs": [
    {
     "data": {
      "text/html": [
       "<div class='display:none'></div><unsafe-script style='display:none'>\n",
       "WebIO.mount(this.previousSibling,{&quot;props&quot;:{},&quot;nodeType&quot;:&quot;Scope&quot;,&quot;type&quot;:&quot;node&quot;,&quot;instanceArgs&quot;:{&quot;imports&quot;:{&quot;data&quot;:[],&quot;type&quot;:&quot;async_block&quot;},&quot;id&quot;:&quot;scope-7f5a8e7f-1447-41f9-9313-8f74d88ff6e1&quot;,&quot;handlers&quot;:{&quot;_promises&quot;:{&quot;importsLoaded&quot;:[function () {\n",
       "    var frame = this.dom.querySelector(&quot;#ifr&quot;);\n",
       "    var doc = frame.contentDocument\n",
       "    var win = frame.contentWindow\n",
       "\n",
       "    // Determine if we&#39;re running on a Jupyter hosting service\n",
       "    // that requires a base URL when retrieving assets\n",
       "    var curMatch =\n",
       "        window.location.href\n",
       "        .match(/(.*?)\\/notebooks\\/.*\\.ipynb/);\n",
       "    curMatch = curMatch ||\n",
       "        window.location.href\n",
       "        .match(/(.*?)\\/apps\\/.*\\.ipynb/);\n",
       "    if (curMatch) {\n",
       "        var base = doc.createElement(&quot;base&quot;);\n",
       "        base.setAttribute(&quot;href&quot;, curMatch[1] + &#39;/&#39;);\n",
       "        doc.head.appendChild(base);\n",
       "    }\n",
       "\n",
       "    var webio = doc.createElement(&quot;script&quot;)\n",
       "    webio.src = &quot;pkg/WebIO/webio/dist/bundle.js&quot;\n",
       "    var parent = window\n",
       "\n",
       "    function resizeIframe() {\n",
       "        doc.body.style.padding = &#39;0&#39;\n",
       "        doc.body.style.margin = &#39;0&#39;\n",
       "        doc.documentElement.height = &#39;100%&#39;\n",
       "        doc.body.height = &#39;100%&#39;\n",
       "    }\n",
       "\n",
       "    webio.onload = function () {\n",
       "        win.WebIO.sendCallback = parent.WebIO.sendCallback; // Share stuff\n",
       "        win.WebIO.scopes = parent.WebIO.scopes\n",
       "        win.WebIO.obsscopes = parent.WebIO.obsscopes\n",
       "        win.WebIO._connected = true\n",
       "        doc.body.innerHTML = &quot;&lt;html&gt;&lt;body&gt;&quot; + &quot;&lt;div class=&#39;display:none&#39;&gt;&lt;/div&gt;&lt;unsafe-script style=&#39;display:none&#39;&gt;\\nWebIO.mount(this.previousSibling,{&amp;quot;props&amp;quot;:{},&amp;quot;nodeType&amp;quot;:&amp;quot;Scope&amp;quot;,&amp;quot;type&amp;quot;:&amp;quot;node&amp;quot;,&amp;quot;instanceArgs&amp;quot;:{&amp;quot;imports&amp;quot;:{&amp;quot;data&amp;quot;:[{&amp;quot;name&amp;quot;:null,&amp;quot;type&amp;quot;:&amp;quot;js&amp;quot;,&amp;quot;url&amp;quot;:&amp;quot;pkg/MeshCat/meshcat/dist/main.min.js&amp;quot;}],&amp;quot;type&amp;quot;:&amp;quot;async_block&amp;quot;},&amp;quot;id&amp;quot;:&amp;quot;scope-ea0b3184-43b4-4e0c-8d93-4871fb64f900&amp;quot;,&amp;quot;handlers&amp;quot;:{&amp;quot;meshcat-command&amp;quot;:[(function (val){return this.viewer.handle_command_message({&amp;quot;data&amp;quot;:val})})],&amp;quot;_promises&amp;quot;:{&amp;quot;importsLoaded&amp;quot;:[(function (mc){var element=this.dom.children[0]; this.viewer=new mc.Viewer(element); WebIO.setval({&amp;quot;name&amp;quot;:&amp;quot;meshcat-request&amp;quot;,&amp;quot;scope&amp;quot;:&amp;quot;scope-ea0b3184-43b4-4e0c-8d93-4871fb64f900&amp;quot;,&amp;quot;id&amp;quot;:&amp;quot;ob_02&amp;quot;,&amp;quot;type&amp;quot;:&amp;quot;observable&amp;quot;},String(Date.now())); return window.document.body.style.margin=&amp;quot;0&amp;quot;})]}},&amp;quot;systemjs_options&amp;quot;:null,&amp;quot;observables&amp;quot;:{&amp;quot;meshcat-command&amp;quot;:{&amp;quot;sync&amp;quot;:false,&amp;quot;id&amp;quot;:&amp;quot;ob_01&amp;quot;,&amp;quot;value&amp;quot;:[131,166,111,98,106,101,99,116,132,170,103,101,111,109,101,116,114,105,101,115,145,133,174,104,101,105,103,104,116,83,101,103,109,101,110,116,115,20,164,117,117,105,100,218,0,36,97,57,100,100,55,54,55,52,45,98,102,53,55,45,49,49,101,56,45,48,100,57,57,45,50,98,50,97,102,57,57,54,48,55,100,54,166,114,97,100,105,117,115,203,63,177,235,133,30,184,81,236,164,116,121,112,101,174,83,112,104,101,114,101,71,101,111,109,101,116,114,121,173,119,105,100,116,104,83,101,103,109,101,110,116,115,20,166,111,98,106,101,99,116,133,168,109,97,116,101,114,105,97,108,218,0,36,97,57,100,100,55,54,57,99,45,98,102,53,55,45,49,49,101,56,45,51,100,101,54,45,57,55,50,55,49,99,100,101,53,57,50,55,164,117,117,105,100,218,0,36,97,57,100,100,55,53,51,101,45,98,102,53,55,45,49,49,101,56,45,51,49,49,97,45,55,100,100,49,97,56,101,53,98,98,48,51,168,103,101,111,109,101,116,114,121,218,0,36,97,57,100,100,55,54,55,52,45,98,102,53,55,45,49,49,101,56,45,48,100,57,57,45,50,98,50,97,102,57,57,54,48,55,100,54,166,109,97,116,114,105,120,220,0,16,203,63,240,0,0,0,0,0,0,203,0,0,0,0,0,0,0,0,203,0,0,0,0,0,0,0,0,203,0,0,0,0,0,0,0,0,203,0,0,0,0,0,0,0,0,203,63,240,0,0,0,0,0,0,203,0,0,0,0,0,0,0,0,203,0,0,0,0,0,0,0,0,203,0,0,0,0,0,0,0,0,203,0,0,0,0,0,0,0,0,203,63,240,0,0,0,0,0,0,203,0,0,0,0,0,0,0,0,203,0,0,0,0,0,0,0,0,203,0,0,0,0,0,0,0,0,203,191,217,153,153,153,153,153,154,203,63,240,0,0,0,0,0,0,164,116,121,112,101,164,77,101,115,104,169,109,97,116,101,114,105,97,108,115,145,138,169,100,101,112,116,104,84,101,115,116,195,172,118,101,114,116,101,120,67,111,108,111,114,115,0,164,115,105,100,101,2,164,117,117,105,100,218,0,36,97,57,100,100,55,54,57,99,45,98,102,53,55,45,49,49,101,56,45,51,100,101,54,45,57,55,50,55,49,99,100,101,53,57,50,55,165,99,111,108,111,114,168,48,120,70,70,70,70,70,70,171,116,114,97,110,115,112,97,114,101,110,116,194,169,100,101,112,116,104,70,117,110,99,3,164,116,121,112,101,179,77,101,115,104,76,97,109,98,101,114,116,77,97,116,101,114,105,97,108,167,111,112,97,99,105,116,121,202,63,128,0,0,170,100,101,112,116,104,87,114,105,116,101,195,168,109,101,116,97,100,97,116,97,130,167,118,101,114,115,105,111,110,203,64,18,0,0,0,0,0,0,164,116,121,112,101,166,79,98,106,101,99,116,164,116,121,112,101,170,115,101,116,95,111,98,106,101,99,116,164,112,97,116,104,218,0,72,47,109,101,115,104,99,97,116,47,119,111,114,108,100,47,98,97,115,101,95,108,105,110,107,47,108,101,102,116,95,116,104,105,103,104,47,108,101,102,116,95,115,104,97,110,107,47,97,102,116,101,114,95,108,101,102,116,95,107,110,101,101,47,60,101,108,101,109,101,110,116,62]},&amp;quot;meshcat-controls&amp;quot;:{&amp;quot;sync&amp;quot;:true,&amp;quot;id&amp;quot;:&amp;quot;ob_03&amp;quot;,&amp;quot;value&amp;quot;:[]},&amp;quot;meshcat-request&amp;quot;:{&amp;quot;sync&amp;quot;:true,&amp;quot;id&amp;quot;:&amp;quot;ob_02&amp;quot;,&amp;quot;value&amp;quot;:&amp;quot;1537724225221&amp;quot;}}},&amp;quot;children&amp;quot;:[{&amp;quot;props&amp;quot;:{&amp;quot;className&amp;quot;:&amp;quot;meshcat-viewer&amp;quot;,&amp;quot;style&amp;quot;:{&amp;quot;left&amp;quot;:0,&amp;quot;right&amp;quot;:0,&amp;quot;overflow&amp;quot;:&amp;quot;hidden&amp;quot;,&amp;quot;position&amp;quot;:&amp;quot;absolute&amp;quot;,&amp;quot;height&amp;quot;:&amp;quot;100vh&amp;quot;,&amp;quot;margin&amp;quot;:0,&amp;quot;width&amp;quot;:&amp;quot;100vw&amp;quot;}},&amp;quot;nodeType&amp;quot;:&amp;quot;DOM&amp;quot;,&amp;quot;type&amp;quot;:&amp;quot;node&amp;quot;,&amp;quot;instanceArgs&amp;quot;:{&amp;quot;namespace&amp;quot;:&amp;quot;html&amp;quot;,&amp;quot;tag&amp;quot;:&amp;quot;div&amp;quot;},&amp;quot;children&amp;quot;:[]}]})&lt;/unsafe-script&gt;&quot; + &quot;&lt;/body&gt;&lt;/html&gt;&quot;;\n",
       "        setTimeout(function () { resizeIframe() }, 0)\n",
       "    }\n",
       "\n",
       "    doc.body.appendChild(webio)\n",
       "},(function (){return this.dom.style.height=&quot;100%&quot;})]}},&quot;systemjs_options&quot;:null,&quot;observables&quot;:{}},&quot;children&quot;:[{&quot;props&quot;:{&quot;style&quot;:{&quot;flexDirection&quot;:&quot;column&quot;,&quot;height&quot;:&quot;100%&quot;,&quot;minHeight&quot;:&quot;400px&quot;,&quot;display&quot;:&quot;flex&quot;,&quot;width&quot;:&quot;100%&quot;,&quot;overflow&quot;:&quot;hidden&quot;}},&quot;nodeType&quot;:&quot;DOM&quot;,&quot;type&quot;:&quot;node&quot;,&quot;instanceArgs&quot;:{&quot;namespace&quot;:&quot;html&quot;,&quot;tag&quot;:&quot;div&quot;},&quot;children&quot;:[{&quot;props&quot;:{&quot;attributes&quot;:{&quot;height&quot;:&quot;100%&quot;,&quot;scrolling&quot;:&quot;no&quot;,&quot;src&quot;:&quot;javascript:void(0)&quot;,&quot;frameborder&quot;:0},&quot;id&quot;:&quot;ifr&quot;,&quot;style&quot;:{&quot;width&quot;:&quot;100%&quot;,&quot;flexGrow&quot;:&quot;1&quot;}},&quot;nodeType&quot;:&quot;DOM&quot;,&quot;type&quot;:&quot;node&quot;,&quot;instanceArgs&quot;:{&quot;namespace&quot;:&quot;html&quot;,&quot;tag&quot;:&quot;iframe&quot;},&quot;children&quot;:[]}]}]})</unsafe-script>"
      ],
      "text/plain": [
       "WebIO.Scope(\"scope-7f5a8e7f-1447-41f9-9313-8f74d88ff6e1\", WebIO.Node{WebIO.DOM}(WebIO.DOM(:html, :div), Any[WebIO.Node{WebIO.DOM}(WebIO.DOM(:html, :iframe), Any[], Dict{Symbol,Any}(Pair{Symbol,Any}(:attributes, Dict{String,Any}(Pair{String,Any}(\"height\", \"100%\"),Pair{String,Any}(\"scrolling\", \"no\"),Pair{String,Any}(\"src\", \"javascript:void(0)\"),Pair{String,Any}(\"frameborder\", 0))),Pair{Symbol,Any}(:id, \"ifr\"),Pair{Symbol,Any}(:style, Dict(\"width\"=>\"100%\",\"flexGrow\"=>\"1\"))), 0)], Dict{Symbol,Any}(Pair{Symbol,Any}(:style, Dict(\"flexDirection\"=>\"column\",\"height\"=>\"100%\",\"minHeight\"=>\"400px\",\"display\"=>\"flex\",\"width\"=>\"100%\",\"overflow\"=>\"hidden\"))), 1), Dict{String,Tuple{Observables.Observable,Union{Bool, Void}}}(), Set{String}(), nothing, Any[], Dict{Any,Any}(Pair{Any,Any}(\"_promises\", Dict{Any,Any}(Pair{Any,Any}(\"importsLoaded\", Any[WebIO.JSString(\"function () {\\n    var frame = this.dom.querySelector(\\\"#ifr\\\");\\n    var doc = frame.contentDocument\\n    var win = frame.contentWindow\\n\\n    // Determine if we're running on a Jupyter hosting service\\n    // that requires a base URL when retrieving assets\\n    var curMatch =\\n        window.location.href\\n        .match(/(.*?)\\\\/notebooks\\\\/.*\\\\.ipynb/);\\n    curMatch = curMatch ||\\n        window.location.href\\n        .match(/(.*?)\\\\/apps\\\\/.*\\\\.ipynb/);\\n    if (curMatch) {\\n        var base = doc.createElement(\\\"base\\\");\\n        base.setAttribute(\\\"href\\\", curMatch[1] + '/');\\n        doc.head.appendChild(base);\\n    }\\n\\n    var webio = doc.createElement(\\\"script\\\")\\n    webio.src = \\\"pkg/WebIO/webio/dist/bundle.js\\\"\\n    var parent = window\\n\\n    function resizeIframe() {\\n        doc.body.style.padding = '0'\\n        doc.body.style.margin = '0'\\n        doc.documentElement.height = '100%'\\n        doc.body.height = '100%'\\n    }\\n\\n    webio.onload = function () {\\n        win.WebIO.sendCallback = parent.WebIO.sendCallback; // Share stuff\\n        win.WebIO.scopes = parent.WebIO.scopes\\n        win.WebIO.obsscopes = parent.WebIO.obsscopes\\n        win.WebIO._connected = true\\n        doc.body.innerHTML = \\\"<html><body>\\\" + \\\"<div class='display:none'></div><unsafe-script style='display:none'>\\\\nWebIO.mount(this.previousSibling,{&quot;props&quot;:{},&quot;nodeType&quot;:&quot;Scope&quot;,&quot;type&quot;:&quot;node&quot;,&quot;instanceArgs&quot;:{&quot;imports&quot;:{&quot;data&quot;:[{&quot;name&quot;:null,&quot;type&quot;:&quot;js&quot;,&quot;url&quot;:&quot;pkg/MeshCat/meshcat/dist/main.min.js&quot;}],&quot;type&quot;:&quot;async_block&quot;},&quot;id&quot;:&quot;scope-ea0b3184-43b4-4e0c-8d93-4871fb64f900&quot;,&quot;handlers&quot;:{&quot;meshcat-command&quot;:[(function (val){return this.viewer.handle_command_message({&quot;data&quot;:val})})],&quot;_promises&quot;:{&quot;importsLoaded&quot;:[(function (mc){var element=this.dom.children[0]; this.viewer=new mc.Viewer(element); WebIO.setval({&quot;name&quot;:&quot;meshcat-request&quot;,&quot;scope&quot;:&quot;scope-ea0b3184-43b4-4e0c-8d93-4871fb64f900&quot;,&quot;id&quot;:&quot;ob_02&quot;,&quot;type&quot;:&quot;observable&quot;},String(Date.now())); return window.document.body.style.margin=&quot;0&quot;})]}},&quot;systemjs_options&quot;:null,&quot;observables&quot;:{&quot;meshcat-command&quot;:{&quot;sync&quot;:false,&quot;id&quot;:&quot;ob_01&quot;,&quot;value&quot;:[131,166,111,98,106,101,99,116,132,170,103,101,111,109,101,116,114,105,101,115,145,133,174,104,101,105,103,104,116,83,101,103,109,101,110,116,115,20,164,117,117,105,100,218,0,36,97,57,100,100,55,54,55,52,45,98,102,53,55,45,49,49,101,56,45,48,100,57,57,45,50,98,50,97,102,57,57,54,48,55,100,54,166,114,97,100,105,117,115,203,63,177,235,133,30,184,81,236,164,116,121,112,101,174,83,112,104,101,114,101,71,101,111,109,101,116,114,121,173,119,105,100,116,104,83,101,103,109,101,110,116,115,20,166,111,98,106,101,99,116,133,168,109,97,116,101,114,105,97,108,218,0,36,97,57,100,100,55,54,57,99,45,98,102,53,55,45,49,49,101,56,45,51,100,101,54,45,57,55,50,55,49,99,100,101,53,57,50,55,164,117,117,105,100,218,0,36,97,57,100,100,55,53,51,101,45,98,102,53,55,45,49,49,101,56,45,51,49,49,97,45,55,100,100,49,97,56,101,53,98,98,48,51,168,103,101,111,109,101,116,114,121,218,0,36,97,57,100,100,55,54,55,52,45,98,102,53,55,45,49,49,101,56,45,48,100,57,57,45,50,98,50,97,102,57,57,54,48,55,100,54,166,109,97,116,114,105,120,220,0,16,203,63,240,0,0,0,0,0,0,203,0,0,0,0,0,0,0,0,203,0,0,0,0,0,0,0,0,203,0,0,0,0,0,0,0,0,203,0,0,0,0,0,0,0,0,203,63,240,0,0,0,0,0,0,203,0,0,0,0,0,0,0,0,203,0,0,0,0,0,0,0,0,203,0,0,0,0,0,0,0,0,203,0,0,0,0,0,0,0,0,203,63,240,0,0,0,0,0,0,203,0,0,0,0,0,0,0,0,203,0,0,0,0,0,0,0,0,203,0,0,0,0,0,0,0,0,203,191,217,153,153,153,153,153,154,203,63,240,0,0,0,0,0,0,164,116,121,112,101,164,77,101,115,104,169,109,97,116,101,114,105,97,108,115,145,138,169,100,101,112,116,104,84,101,115,116,195,172,118,101,114,116,101,120,67,111,108,111,114,115,0,164,115,105,100,101,2,164,117,117,105,100,218,0,36,97,57,100,100,55,54,57,99,45,98,102,53,55,45,49,49,101,56,45,51,100,101,54,45,57,55,50,55,49,99,100,101,53,57,50,55,165,99,111,108,111,114,168,48,120,70,70,70,70,70,70,171,116,114,97,110,115,112,97,114,101,110,116,194,169,100,101,112,116,104,70,117,110,99,3,164,116,121,112,101,179,77,101,115,104,76,97,109,98,101,114,116,77,97,116,101,114,105,97,108,167,111,112,97,99,105,116,121,202,63,128,0,0,170,100,101,112,116,104,87,114,105,116,101,195,168,109,101,116,97,100,97,116,97,130,167,118,101,114,115,105,111,110,203,64,18,0,0,0,0,0,0,164,116,121,112,101,166,79,98,106,101,99,116,164,116,121,112,101,170,115,101,116,95,111,98,106,101,99,116,164,112,97,116,104,218,0,72,47,109,101,115,104,99,97,116,47,119,111,114,108,100,47,98,97,115,101,95,108,105,110,107,47,108,101,102,116,95,116,104,105,103,104,47,108,101,102,116,95,115,104,97,110,107,47,97,102,116,101,114,95,108,101,102,116,95,107,110,101,101,47,60,101,108,101,109,101,110,116,62]},&quot;meshcat-controls&quot;:{&quot;sync&quot;:true,&quot;id&quot;:&quot;ob_03&quot;,&quot;value&quot;:[]},&quot;meshcat-request&quot;:{&quot;sync&quot;:true,&quot;id&quot;:&quot;ob_02&quot;,&quot;value&quot;:&quot;1537724225221&quot;}}},&quot;children&quot;:[{&quot;props&quot;:{&quot;className&quot;:&quot;meshcat-viewer&quot;,&quot;style&quot;:{&quot;left&quot;:0,&quot;right&quot;:0,&quot;overflow&quot;:&quot;hidden&quot;,&quot;position&quot;:&quot;absolute&quot;,&quot;height&quot;:&quot;100vh&quot;,&quot;margin&quot;:0,&quot;width&quot;:&quot;100vw&quot;}},&quot;nodeType&quot;:&quot;DOM&quot;,&quot;type&quot;:&quot;node&quot;,&quot;instanceArgs&quot;:{&quot;namespace&quot;:&quot;html&quot;,&quot;tag&quot;:&quot;div&quot;},&quot;children&quot;:[]}]})</unsafe-script>\\\" + \\\"</body></html>\\\";\\n        setTimeout(function () { resizeIframe() }, 0)\\n    }\\n\\n    doc.body.appendChild(webio)\\n}\"), WebIO.JSString(\"(function (){return this.dom.style.height=\\\"100%\\\"})\")])))), WebIO.ConnectionPool(Channel{Any}(sz_max:9223372036854775807,sz_curr:0), Set{WebIO.AbstractConnection}(), Channel{WebIO.AbstractConnection}(sz_max:32,sz_curr:0)))"
      ]
     },
     "execution_count": 20,
     "metadata": {},
     "output_type": "execute_result"
    }
   ],
   "source": [
    "setelement!(vis, point1, 0.07)\n",
    "setelement!(vis, point2, 0.07)\n",
    "# Open the visualizer in a new Blink window\n",
    "IJuliaCell(vis)"
   ]
  },
  {
   "cell_type": "markdown",
   "metadata": {},
   "source": [
    "Inverse Kinematics\n",
    "\n",
    "First, let's use the point jacobian to solve a simple inverse kinematics problem. Given a target location desired expressed in world frame, we want to find the joint angles q such that the point attached to the robot is at the desired location.\n",
    "\n",
    "To do that, we'll iteratively update q by applying:\n",
    "\n",
    "Δq=αJ⊤pΔp\n",
    "Δq=αJp⊤Δp\n",
    "\n",
    "where αα is our step size (equivalent to a learning rate in gradient descent) and ΔpΔp is the error in the position of our target point."
   ]
  },
  {
   "cell_type": "code",
   "execution_count": 21,
   "metadata": {},
   "outputs": [
    {
     "data": {
      "text/plain": [
       "jacobian_transpose_ik! (generic function with 1 method)"
      ]
     },
     "execution_count": 21,
     "metadata": {},
     "output_type": "execute_result"
    }
   ],
   "source": [
    "function jacobian_transpose_ik!(state::MechanismState,\n",
    "                               body::RigidBody,\n",
    "                               point::Point3D,\n",
    "                               desired::Point3D;\n",
    "                               α=0.1,\n",
    "                               iterations=100)\n",
    "    mechanism = state.mechanism\n",
    "    world = root_frame(mechanism)\n",
    "    \n",
    "    # Compute the joint path from world to our target body\n",
    "    p = path(mechanism, root_body(mechanism), body)\n",
    "    # Allocate the point jacobian (we'll update this in-place later)\n",
    "    Jp = point_jacobian(state, p, transform(state, point, world))\n",
    "    \n",
    "    q = copy(configuration(state))\n",
    "    \n",
    "    for i in 1:iterations\n",
    "        # Update the position of the point\n",
    "        point_in_world = transform(state, point, world)\n",
    "        # Update the point's jacobian\n",
    "        point_jacobian!(Jp, state, p, point_in_world)\n",
    "        # Compute an update in joint coordinates using the jacobian transpose\n",
    "        Δq = α * Array(Jp)' * (transform(state, desired, world) - point_in_world).v\n",
    "        # Apply the update\n",
    "        q .= configuration(state) .+ Δq\n",
    "        set_configuration!(state, q)\n",
    "    end\n",
    "    state\n",
    "end"
   ]
  },
  {
   "cell_type": "markdown",
   "metadata": {},
   "source": [
    "To use our IK method, we just have to set our current state and choose a desired location for the tip of the robot's arm: "
   ]
  },
  {
   "cell_type": "code",
   "execution_count": 22,
   "metadata": {},
   "outputs": [
    {
     "data": {
      "text/plain": [
       "true"
      ]
     },
     "execution_count": 22,
     "metadata": {},
     "output_type": "execute_result"
    }
   ],
   "source": [
    "rand!(state)"
   ]
  },
  {
   "cell_type": "code",
   "execution_count": 23,
   "metadata": {},
   "outputs": [],
   "source": [
    "#NBSKIP\n",
    "set_configuration!(vis, configuration(state))"
   ]
  },
  {
   "cell_type": "markdown",
   "metadata": {},
   "source": [
    "Now here is one issue that point_jacobian cannot be loaded"
   ]
  },
  {
   "cell_type": "code",
   "execution_count": 26,
   "metadata": {},
   "outputs": [
    {
     "ename": "LoadError",
     "evalue": "\u001b[91mUndefVarError: point_jacobian not defined\u001b[39m",
     "output_type": "error",
     "traceback": [
      "\u001b[91mUndefVarError: point_jacobian not defined\u001b[39m",
      "",
      "Stacktrace:",
      " [1] \u001b[1m#jacobian_transpose_ik!#3\u001b[22m\u001b[22m\u001b[1m(\u001b[22m\u001b[22m::Float64, ::Int64, ::Function, ::RigidBodyDynamics.MechanismState{Float64,Float64,Float64,TypeSortedCollections.TypeSortedCollection{Tuple{Array{RigidBodyDynamics.Joint{Float64,RigidBodyDynamics.Fixed{Float64}},1},Array{RigidBodyDynamics.Joint{Float64,RigidBodyDynamics.Revolute{Float64}},1}},2},TypeSortedCollections.TypeSortedCollection{Tuple{Array{RigidBodyDynamics.Spatial.GeometricJacobian{StaticArrays.SArray{Tuple{3,0},Float64,2,0}},1},Array{RigidBodyDynamics.Spatial.GeometricJacobian{StaticArrays.SArray{Tuple{3,1},Float64,2,3}},1}},2},TypeSortedCollections.TypeSortedCollection{Tuple{Array{RigidBodyDynamics.Spatial.WrenchMatrix{StaticArrays.SArray{Tuple{3,6},Float64,2,18}},1},Array{RigidBodyDynamics.Spatial.WrenchMatrix{StaticArrays.SArray{Tuple{3,5},Float64,2,15}},1}},2}}, ::RigidBodyDynamics.RigidBody{Float64}, ::RigidBodyDynamics.Spatial.Point3D{StaticArrays.SArray{Tuple{3},Float64,1,3}}, ::RigidBodyDynamics.Spatial.Point3D{StaticArrays.SArray{Tuple{3},Float64,1,3}}\u001b[1m)\u001b[22m\u001b[22m at \u001b[1m./In[21]:13\u001b[22m\u001b[22m",
      " [2] \u001b[1mjacobian_transpose_ik!\u001b[22m\u001b[22m\u001b[1m(\u001b[22m\u001b[22m::RigidBodyDynamics.MechanismState{Float64,Float64,Float64,TypeSortedCollections.TypeSortedCollection{Tuple{Array{RigidBodyDynamics.Joint{Float64,RigidBodyDynamics.Fixed{Float64}},1},Array{RigidBodyDynamics.Joint{Float64,RigidBodyDynamics.Revolute{Float64}},1}},2},TypeSortedCollections.TypeSortedCollection{Tuple{Array{RigidBodyDynamics.Spatial.GeometricJacobian{StaticArrays.SArray{Tuple{3,0},Float64,2,0}},1},Array{RigidBodyDynamics.Spatial.GeometricJacobian{StaticArrays.SArray{Tuple{3,1},Float64,2,3}},1}},2},TypeSortedCollections.TypeSortedCollection{Tuple{Array{RigidBodyDynamics.Spatial.WrenchMatrix{StaticArrays.SArray{Tuple{3,6},Float64,2,18}},1},Array{RigidBodyDynamics.Spatial.WrenchMatrix{StaticArrays.SArray{Tuple{3,5},Float64,2,15}},1}},2}}, ::RigidBodyDynamics.RigidBody{Float64}, ::RigidBodyDynamics.Spatial.Point3D{StaticArrays.SArray{Tuple{3},Float64,1,3}}, ::RigidBodyDynamics.Spatial.Point3D{StaticArrays.SArray{Tuple{3},Float64,1,3}}\u001b[1m)\u001b[22m\u001b[22m at \u001b[1m./In[21]:7\u001b[22m\u001b[22m"
     ]
    }
   ],
   "source": [
    "# Choose a desired location. We'll move the tip of the arm to\n",
    "# [0.5, 0, 2]\n",
    "desired_tip_location = Point3D(root_frame(cycling), 0.2, -0.1, 0.3)\n",
    "# Run the IK, updating `state` in place\n",
    "jacobian_transpose_ik!(state, body1, point1, desired_tip_location)"
   ]
  },
  {
   "cell_type": "markdown",
   "metadata": {},
   "source": [
    "# Dynamics"
   ]
  },
  {
   "cell_type": "markdown",
   "metadata": {},
   "source": [
    "A `MechanismState` can also be used to compute quantities related to the dynamics of the `Mechanism`. Here we compute the mass matrix:"
   ]
  },
  {
   "cell_type": "code",
   "execution_count": 115,
   "metadata": {
    "scrolled": true
   },
   "outputs": [
    {
     "data": {
      "text/plain": [
       "4×4 Symmetric{Float64,Array{Float64,2}}:\n",
       " 6.25  0.0   2.0  0.0\n",
       " 0.0   6.25  0.0  2.0\n",
       " 2.0   0.0   2.0  0.0\n",
       " 0.0   2.0   0.0  2.0"
      ]
     },
     "execution_count": 115,
     "metadata": {},
     "output_type": "execute_result"
    }
   ],
   "source": [
    "M = mass_matrix(state)"
   ]
  },
  {
   "cell_type": "markdown",
   "metadata": {},
   "source": [
    "Here's the documentation for `mass_matrix` by the way:"
   ]
  },
  {
   "cell_type": "code",
   "execution_count": 33,
   "metadata": {},
   "outputs": [
    {
     "name": "stdout",
     "output_type": "stream",
     "text": [
      "search: \u001b[1mm\u001b[22m\u001b[1ma\u001b[22m\u001b[1ms\u001b[22m\u001b[1ms\u001b[22m\u001b[1m_\u001b[22m\u001b[1mm\u001b[22m\u001b[1ma\u001b[22m\u001b[1mt\u001b[22m\u001b[1mr\u001b[22m\u001b[1mi\u001b[22m\u001b[1mx\u001b[22m \u001b[1mm\u001b[22m\u001b[1ma\u001b[22m\u001b[1ms\u001b[22m\u001b[1ms\u001b[22m\u001b[1m_\u001b[22m\u001b[1mm\u001b[22m\u001b[1ma\u001b[22m\u001b[1mt\u001b[22m\u001b[1mr\u001b[22m\u001b[1mi\u001b[22m\u001b[1mx\u001b[22m!\n",
      "\n"
     ]
    },
    {
     "data": {
      "text/markdown": [
       "```julia\n",
       "mass_matrix(state)\n",
       "\n",
       "```\n",
       "\n",
       "Compute the joint-space mass matrix (also known as the inertia matrix) of the `Mechanism` in the given state, i.e., the matrix $M(q)$ in the unconstrained joint-space equations of motion\n",
       "\n",
       "$$\n",
       "M(q) \\dot{v} + c(q, v, w_\\text{ext}) = \\tau\n",
       "$$\n",
       "\n",
       "This method implements the composite rigid body algorithm.\n"
      ],
      "text/plain": [
       "```julia\n",
       "mass_matrix(state)\n",
       "\n",
       "```\n",
       "\n",
       "Compute the joint-space mass matrix (also known as the inertia matrix) of the `Mechanism` in the given state, i.e., the matrix $M(q)$ in the unconstrained joint-space equations of motion\n",
       "\n",
       "$$\n",
       "M(q) \\dot{v} + c(q, v, w_\\text{ext}) = \\tau\n",
       "$$\n",
       "\n",
       "This method implements the composite rigid body algorithm.\n"
      ]
     },
     "execution_count": 33,
     "metadata": {},
     "output_type": "execute_result"
    }
   ],
   "source": [
    "?mass_matrix"
   ]
  },
  {
   "cell_type": "markdown",
   "metadata": {},
   "source": [
    "Note that there is also a zero-allocation version, `mass_matrix!`:"
   ]
  },
  {
   "cell_type": "code",
   "execution_count": 116,
   "metadata": {},
   "outputs": [
    {
     "data": {
      "text/plain": [
       "4×4 Symmetric{Float64,Array{Float64,2}}:\n",
       " 6.25  0.0   2.0  0.0\n",
       " 0.0   6.25  0.0  2.0\n",
       " 2.0   0.0   2.0  0.0\n",
       " 0.0   2.0   0.0  2.0"
      ]
     },
     "execution_count": 116,
     "metadata": {},
     "output_type": "execute_result"
    }
   ],
   "source": [
    "mass_matrix!(M, state)"
   ]
  },
  {
   "cell_type": "markdown",
   "metadata": {},
   "source": [
    "(the `!` at the end of a method is a Julia convention signifying that the function is 'in-place', i.e. modifies its input data)"
   ]
  },
  {
   "cell_type": "code",
   "execution_count": 117,
   "metadata": {},
   "outputs": [
    {
     "name": "stdout",
     "output_type": "stream",
     "text": [
      "  2.555 μs (0 allocations: 0 bytes)\n"
     ]
    },
    {
     "data": {
      "text/plain": [
       "4×4 Symmetric{Float64,Array{Float64,2}}:\n",
       " 6.25  0.0   2.0  0.0\n",
       " 0.0   6.25  0.0  2.0\n",
       " 2.0   0.0   2.0  0.0\n",
       " 0.0   2.0   0.0  2.0"
      ]
     },
     "execution_count": 117,
     "metadata": {},
     "output_type": "execute_result"
    }
   ],
   "source": [
    "using BenchmarkTools\n",
    "@btime (setdirty!($state); mass_matrix!($M, $state))"
   ]
  },
  {
   "cell_type": "markdown",
   "metadata": {},
   "source": [
    "*Note*: see http://www.juliarobotics.org/RigidBodyDynamics.jl/stable/benchmarks.html for tips on how to get maximal performance."
   ]
  },
  {
   "cell_type": "markdown",
   "metadata": {},
   "source": [
    "We can do inverse dynamics as follows (note again that there is a non-allocating version of this method as well):"
   ]
  },
  {
   "cell_type": "code",
   "execution_count": 121,
   "metadata": {},
   "outputs": [
    {
     "name": "stdout",
     "output_type": "stream",
     "text": [
      "τ = [36.8369, 15.2077, 6.0, 10.0]\n"
     ]
    }
   ],
   "source": [
    "v̇ = similar(velocity(state))\n",
    "v̇ .= [2.; 3.; 1.; 2.] # the joint acceleration vector, i.e., the time derivative of the joint velocity vector v\n",
    "τ = inverse_dynamics(state, v̇)\n",
    "@show τ;"
   ]
  },
  {
   "cell_type": "markdown",
   "metadata": {},
   "source": [
    "For forward dynamics, one first creates a `DynamicsResult` object, which preallocates a bunch of stuff:"
   ]
  },
  {
   "cell_type": "code",
   "execution_count": 123,
   "metadata": {},
   "outputs": [],
   "source": [
    "result = DynamicsResult{Float64}(cycling);"
   ]
  },
  {
   "cell_type": "code",
   "execution_count": 124,
   "metadata": {},
   "outputs": [],
   "source": [
    "dynamics!(result, state)"
   ]
  },
  {
   "cell_type": "code",
   "execution_count": 125,
   "metadata": {},
   "outputs": [
    {
     "name": "stdout",
     "output_type": "stream",
     "text": [
      "result.v̇ = [-5.25575, 1.77467, 5.25575, -1.77467]\n"
     ]
    }
   ],
   "source": [
    "@show result.v̇;"
   ]
  },
  {
   "cell_type": "markdown",
   "metadata": {},
   "source": [
    "# Combining RigidBodyDynamics with Other Tools\n",
    "\n",
    "RigidBodyDynamics.jl is a good component for robotics development, but it becomes much more useful when we compose it with other Julia tools. Julia makes it very easy to create generic types and functions that work well with types and functions from other packages to create new behaviors. \n",
    "\n",
    "To demonstrate this flexibility, we'll try doing the following:\n",
    "\n",
    "* Computing symbolic quantities with SymPy.jl\n",
    "* Revisiting automatic differentiation with ForwardDiff.jl\n",
    "* Propagating uncertainty with Measurements.jl (see the next notebook)"
   ]
  },
  {
   "cell_type": "markdown",
   "metadata": {},
   "source": [
    "## Symbolic Quantities\n",
    "\n",
    "We can get symbolic representations of the kinematics and dynamics of a robot by simply constructing an appropriate mechanism or state. In this case, we'll use [SymPy.jl](https://github.com/JuliaPy/SymPy.jl) which is simply a nice Julia wrapper around the SymPy Python package. "
   ]
  },
  {
   "cell_type": "markdown",
   "metadata": {},
   "source": [
    "## Setup"
   ]
  },
  {
   "cell_type": "markdown",
   "metadata": {},
   "source": [
    "SymPy is a wrapper around a Python package, and installing Python packages can be [complicated](https://xkcd.com/1987/). If SymPy plays poorly with your current Python installation, you can ask Julia to use a private, self-contained version of Python powered by [Conda](https://github.com/JuliaPy/Conda.jl). To do that, you can just run: "
   ]
  },
  {
   "cell_type": "code",
   "execution_count": 134,
   "metadata": {},
   "outputs": [
    {
     "name": "stderr",
     "output_type": "stream",
     "text": [
      "\u001b[1m\u001b[36mINFO: \u001b[39m\u001b[22m\u001b[36mBuilding SpecialFunctions\n",
      "\u001b[39m\u001b[1m\u001b[36mINFO: \u001b[39m\u001b[22m\u001b[36mBuilding Conda\n",
      "\u001b[39m\u001b[1m\u001b[36mINFO: \u001b[39m\u001b[22m\u001b[36mBuilding PyCall\n",
      "\u001b[39m\u001b[1m\u001b[36mInfo: \u001b[39m\u001b[22m\u001b[36mNo system-wide Python was found; got the following error:\n",
      "could not spawn setenv(`/home/huawei/anaconda3/lib -c \"import distutils.sysconfig; print(distutils.sysconfig.get_config_var('VERSION'))\"`,String[\"PATH=/home/huawei/anaconda3/bin:/opt/ros/melodic/bin:/home/huawei/julia-1.0.0/bin:/home/huawei/anaconda3/bin:/home/huawei/anaconda3/bin:/home/huawei/.local/bin:/usr/local/sbin:/usr/local/bin:/usr/sbin:/usr/bin:/sbin:/bin:/usr/games:/usr/local/games:/snap/bin\", \"TEXTDOMAIN=im-config\", \"ROS_DISTRO=melodic\", \"DEFAULTS_PATH=/usr/share/gconf/ubuntu.default.path\", \"JUPYTER=/home/huawei/.local/bin/jupyter\", \"QT_ACCESSIBILITY=1\", \"LD_LIBRARY_PATH=/opt/ros/melodic/lib:/home/huawei/Ipopt-3.12.10/build/lib\", \"MKL_INTERFACE_LAYER=ILP64\", \"DBUS_SESSION_BUS_ADDRESS=unix:path=/run/user/1000/bus\", \"GKS_USE_CAIRO_PNG=true\", \"ROS_ROOT=/opt/ros/melodic/share/ros\", \"XDG_SESSION_DESKTOP=ubuntu\", \"SSH_AGENT_PID=1416\", \"XDG_SESSION_TYPE=x11\", \"ROSLISP_PACKAGE_DIRECTORIES=\", \"ROS_ETC_DIR=/opt/ros/melodic/etc/ros\", \"USER=huawei\", \"QT_IM_MODULE=ibus\", \"LESSCLOSE=/usr/bin/lesspipe %s %s\", \"XDG_CONFIG_DIRS=/etc/xdg/xdg-ubuntu:/etc/xdg\", \"GKSwstype=svg\", \"GNOME_SHELL_SESSION_MODE=ubuntu\", \"USERNAME=huawei\", \"GDMSESSION=ubuntu\", \"COLUMNS=80\", \"CLUTTER_IM_MODULE=xim\", \"CMAKE_PREFIX_PATH=/opt/ros/melodic\", \"XDG_DATA_DIRS=/usr/share/ubuntu:/usr/local/share:/usr/share:/var/lib/snapd/desktop\", \"LESSOPEN=| /usr/bin/lesspipe %s\", \"SHELL=/bin/bash\", \"GJS_DEBUG_OUTPUT=stderr\", \"XDG_SEAT=seat0\", \"XAUTHORITY=/run/user/1000/gdm/Xauthority\", \"XDG_MENU_PREFIX=gnome-\", \"GTK_MODULES=gail:atk-bridge\", \"GTK_IM_MODULE=ibus\", \"SESSION_MANAGER=local/huawei-HP-EliteBook-2570p:@/tmp/.ICE-unix/1320,unix/huawei-HP-EliteBook-2570p:/tmp/.ICE-unix/1320\", \"XMODIFIERS=@im=ibus\", \"GADFLY_THEME=dark\", \"LINES=30\", \"MPLBACKEND=Agg\", \"HOME=/home/huawei\", \"TERM=xterm-256color\", \"COLORTERM=truecolor\", \"PYTHONIOENCODING=UTF-8\", \"VTE_VERSION=5202\", \"PYTHON=/home/huawei/anaconda3/lib\", \"ROS_MASTER_URI=http://localhost:11311\", \"IM_CONFIG_PHASE=2\", \"XDG_CURRENT_DESKTOP=ubuntu:GNOME\", \"ROS_PACKAGE_PATH=/opt/ros/melodic/share\", \"LANG=en_US.UTF-8\", \"SHLVL=1\", \"GNOME_DESKTOP_SESSION_ID=this-is-deprecated\", \"LOGNAME=huawei\", \"XDG_RUNTIME_DIR=/run/user/1000\", \"SSH_AUTH_SOCK=/tmp/ssh-eDayHF2NW56T/agent.1320\", \"DESKTOP_SESSION=ubuntu\", \"__KMP_REGISTERED_LIB_9643=0x7f6e2d3eb4d0-cafe4546-libiomp5.so\", \"_=/home/huawei/anaconda3/bin/jupyter\", \"GPG_AGENT_INFO=/run/user/1000/gnupg/S.gpg-agent:0:1\", \"GKS_FILEPATH=/tmp/juliaaG4EjR.svg\", \"GNOME_TERMINAL_SCREEN=/org/gnome/Terminal/screen/ebc5205a_bc77_403f_976e_e772514246b8\", \"GNOME_TERMINAL_SERVICE=:1.159\", \"PWD=/home/huawei\", \"JULIA_PKGDIR=/home/huawei/JuliaPro/JuliaPro-0.6.3.1/JuliaPro/pkgs-0.6.3.1\", \"DISPLAY=:0\", \"GRDIR=/home/huawei/JuliaPro/JuliaPro-0.6.3.1/JuliaPro/pkgs-0.6.3.1/v0.6/GR/src/../deps/gr\", \"PYTHONPATH=/opt/ros/melodic/lib/python2.7/dist-packages\", \"GJS_DEBUG_TOPICS=JS ERROR;JS LOG\", \"JPY_PARENT_PID=9618\", \"GKS_FONTPATH=/home/huawei/JuliaPro/JuliaPro-0.6.3.1/JuliaPro/pkgs-0.6.3.1/v0.6/GR/src/../deps/gr\", \"XDG_VTNR=2\", \"MANDATORY_PATH=/usr/share/gconf/ubuntu.mandatory.path\", \"XDG_SESSION_ID=2\", \"TEXTDOMAINDIR=/usr/share/locale/\", \"ROS_VERSION=1\", \"ROS_PYTHON_VERSION=2\", \"PKG_CONFIG_PATH=/opt/ros/melodic/lib/pkgconfig\", \"QT4_IM_MODULE=xim\", \"WINDOWPATH=2\", \"LS_COLORS=rs=0:di=01;34:ln=01;36:mh=00:pi=40;33:so=01;35:do=01;35:bd=40;33;01:cd=40;33;01:or=40;31;01:mi=00:su=37;41:sg=30;43:ca=30;41:tw=30;42:ow=34;42:st=37;44:ex=01;32:*.tar=01;31:*.tgz=01;31:*.arc=01;31:*.arj=01;31:*.taz=01;31:*.lha=01;31:*.lz4=01;31:*.lzh=01;31:*.lzma=01;31:*.tlz=01;31:*.txz=01;31:*.tzo=01;31:*.t7z=01;31:*.zip=01;31:*.z=01;31:*.Z=01;31:*.dz=01;31:*.gz=01;31:*.lrz=01;31:*.lz=01;31:*.lzo=01;31:*.xz=01;31:*.zst=01;31:*.tzst=01;31:*.bz2=01;31:*.bz=01;31:*.tbz=01;31:*.tbz2=01;31:*.tz=01;31:*.deb=01;31:*.rpm=01;31:*.jar=01;31:*.war=01;31:*.ear=01;31:*.sar=01;31:*.rar=01;31:*.alz=01;31:*.ace=01;31:*.zoo=01;31:*.cpio=01;31:*.7z=01;31:*.rz=01;31:*.cab=01;31:*.wim=01;31:*.swm=01;31:*.dwm=01;31:*.esd=01;31:*.jpg=01;35:*.jpeg=01;35:*.mjpg=01;35:*.mjpeg=01;35:*.gif=01;35:*.bmp=01;35:*.pbm=01;35:*.pgm=01;35:*.ppm=01;35:*.tga=01;35:*.xbm=01;35:*.xpm=01;35:*.tif=01;35:*.tiff=01;35:*.png=01;35:*.svg=01;35:*.svgz=01;35:*.mng=01;35:*.pcx=01;35:*.mov=01;35:*.mpg=01;35:*.mpeg=01;35:*.m2v=01;35:*.mkv=01;35:*.webm=01;35:*.ogm=01;35:*.mp4=01;35:*.m4v=01;35:*.mp4v=01;35:*.vob=01;35:*.qt=01;35:*.nuv=01;35:*.wmv=01;35:*.asf=01;35:*.rm=01;35:*.rmvb=01;35:*.flc=01;35:*.avi=01;35:*.fli=01;35:*.flv=01;35:*.gl=01;35:*.dl=01;35:*.xcf=01;35:*.xwd=01;35:*.yuv=01;35:*.cgm=01;35:*.emf=01;35:*.ogv=01;35:*.ogx=01;35:*.aac=00;36:*.au=00;36:*.flac=00;36:*.m4a=00;36:*.mid=00;36:*.midi=00;36:*.mka=00;36:*.mp3=00;36:*.mpc=00;36:*.ogg=00;36:*.ra=00;36:*.wav=00;36:*.oga=00;36:*.opus=00;36:*.spx=00;36:*.xspf=00;36:\", \"OPENBLAS_MAIN_FREE=1\"]): permission denied (EACCES)\n",
      "using the Python distribution in the Conda package\n",
      "\u001b[39m"
     ]
    },
    {
     "name": "stdout",
     "output_type": "stream",
     "text": [
      "Solving environment: ...working... done\n",
      "\n",
      "# All requested packages already installed.\n",
      "\n"
     ]
    },
    {
     "name": "stderr",
     "output_type": "stream",
     "text": [
      "\u001b[1m\u001b[36mInfo: \u001b[39m\u001b[22m\u001b[36mPyCall is using /home/huawei/JuliaPro/JuliaPro-0.6.3.1/JuliaPro/pkgs-0.6.3.1/v0.6/Conda/deps/usr/bin/python (Python 2.7.15) at /home/huawei/JuliaPro/JuliaPro-0.6.3.1/JuliaPro/pkgs-0.6.3.1/v0.6/Conda/deps/usr/bin/python, libpython = /home/huawei/JuliaPro/JuliaPro-0.6.3.1/JuliaPro/pkgs-0.6.3.1/v0.6/Conda/deps/usr/lib/libpython2.7\n",
      "\u001b[39m\u001b[1m\u001b[36mInfo: \u001b[39m\u001b[22m\u001b[36m/home/huawei/JuliaPro/JuliaPro-0.6.3.1/JuliaPro/pkgs-0.6.3.1/v0.6/PyCall/deps/deps.jl has not changed\n",
      "\u001b[39m\u001b[1m\u001b[36mInfo: \u001b[39m\u001b[22m\u001b[36m/home/huawei/JuliaPro/JuliaPro-0.6.3.1/JuliaPro/pkgs-0.6.3.1/v0.6/PyCall/deps/PYTHON has not changed\n",
      "\u001b[39m"
     ]
    }
   ],
   "source": [
    "# Make SymPy use version of Python downloaded through Julia's package system instead of system Python\n",
    "ENV[\"PYTHON\"]=\"/home/huawei/anaconda3/lib\"\n",
    "Pkg.build(\"SymPy\")"
   ]
  },
  {
   "cell_type": "markdown",
   "metadata": {},
   "source": [
    "With Python successfully self-contained, we can now import the SymPy.jl package:"
   ]
  },
  {
   "cell_type": "code",
   "execution_count": 135,
   "metadata": {},
   "outputs": [],
   "source": [
    "using SymPy"
   ]
  },
  {
   "cell_type": "markdown",
   "metadata": {},
   "source": [
    "To get a symbolic expression for the mass matrix of the double pendulum in terms of its configuration and velociy, we simply need to create symbolic quantities for q and v: "
   ]
  },
  {
   "cell_type": "code",
   "execution_count": 136,
   "metadata": {},
   "outputs": [
    {
     "data": {
      "text/plain": [
       "(v1, v2, v3, v4)"
      ]
     },
     "execution_count": 136,
     "metadata": {},
     "output_type": "execute_result"
    }
   ],
   "source": [
    "@syms q1 q2 q3 q4 real=true\n",
    "@syms v1 v2 v3 v4 real=true"
   ]
  },
  {
   "cell_type": "code",
   "execution_count": 138,
   "metadata": {},
   "outputs": [
    {
     "data": {
      "text/latex": [
       "\\begin{bmatrix}6.25&0&2.0&0\\\\0&6.25&0&2.0\\\\2.0&0&2.0&0\\\\0&2.0&0&2.0\\end{bmatrix}"
      ],
      "text/plain": [
       "4×4 Array{SymPy.Sym,2}:\n",
       " 6.25000000000000                 0  2.00000000000000                 0\n",
       "                0  6.25000000000000                 0  2.00000000000000\n",
       " 2.00000000000000                 0  2.00000000000000                 0\n",
       "                0  2.00000000000000                 0  2.00000000000000"
      ]
     },
     "execution_count": 138,
     "metadata": {},
     "output_type": "execute_result"
    }
   ],
   "source": [
    "q = [q1, q2, q3, q4]\n",
    "v = [v1, v2, v3, v4]\n",
    "\n",
    "simplify.(mass_matrix(MechanismState(cycling, q, v)))"
   ]
  },
  {
   "cell_type": "markdown",
   "metadata": {},
   "source": [
    "*Note*: you can also have symbolic parameters (masses, lengths, etc.). See [this notebook](https://github.com/JuliaRobotics/RigidBodyDynamics.jl/blob/master/notebooks/Symbolic%20double%20pendulum.ipynb)."
   ]
  },
  {
   "cell_type": "markdown",
   "metadata": {},
   "source": [
    "## Automatic Differentiation\n",
    "\n",
    "A very common task in robotics is computing the derivative, gradient, or Jacobian of some quantity with respect to some other quantity. \n",
    "\n",
    "For example, suppose we want the Jacobian of momentum with respect to the joint velocity vector $v$. We can do this using the `ForwardDiff.Dual` type and the `ForwardDiff.jacobian` function.\n",
    "\n",
    "First, we need to write a function that computes the quantity we're interested in, as a function of $v$: "
   ]
  },
  {
   "cell_type": "code",
   "execution_count": 139,
   "metadata": {},
   "outputs": [
    {
     "data": {
      "text/plain": [
       "mom (generic function with 1 method)"
      ]
     },
     "execution_count": 139,
     "metadata": {},
     "output_type": "execute_result"
    }
   ],
   "source": [
    "q = configuration(state)\n",
    "v = velocity(state)\n",
    "\n",
    "function mom(v::AbstractVector)\n",
    "    # create a `MechanismState` that can handle the element type of `v` (which will be some `ForwardDiff.Dual`):\n",
    "    state = MechanismState{eltype(v)}(cycling)\n",
    "    \n",
    "    # set the state variables:\n",
    "    set_configuration!(state, q)\n",
    "    set_velocity!(state, v)\n",
    "    \n",
    "    # return momentum converted to an `Array` (as this is the format that ForwardDiff expects)\n",
    "    Array(momentum(state))\n",
    "end"
   ]
  },
  {
   "cell_type": "markdown",
   "metadata": {},
   "source": [
    "First, let's test `mom()` against the existing `momentum` function: "
   ]
  },
  {
   "cell_type": "code",
   "execution_count": 140,
   "metadata": {},
   "outputs": [
    {
     "data": {
      "text/plain": [
       "\u001b[1m\u001b[32mTest Passed\u001b[39m\u001b[22m"
      ]
     },
     "execution_count": 140,
     "metadata": {},
     "output_type": "execute_result"
    }
   ],
   "source": [
    "@test mom(v) == Array(momentum(state))"
   ]
  },
  {
   "cell_type": "markdown",
   "metadata": {},
   "source": [
    "Computing the Jacobian is just a matter of calling `ForwardDiff.jacobian`: "
   ]
  },
  {
   "cell_type": "code",
   "execution_count": 141,
   "metadata": {},
   "outputs": [],
   "source": [
    "using ForwardDiff"
   ]
  },
  {
   "cell_type": "code",
   "execution_count": 142,
   "metadata": {},
   "outputs": [
    {
     "data": {
      "text/plain": [
       "6×4 Array{Float64,2}:\n",
       " -0.227695  -0.0768842  -2.77556e-17  0.0\n",
       "  5.21778    3.87116     2.0          2.0\n",
       " -0.103222   0.237884    0.0          0.0\n",
       " -1.03222   -2.37884     0.0          0.0\n",
       "  0.0        0.0         0.0          0.0\n",
       "  2.27695   -0.768842    0.0          0.0"
      ]
     },
     "execution_count": 142,
     "metadata": {},
     "output_type": "execute_result"
    }
   ],
   "source": [
    "J = ForwardDiff.jacobian(mom, v)"
   ]
  },
  {
   "cell_type": "markdown",
   "metadata": {},
   "source": [
    "At this point we note that the matrix $J$ is simply the momentum matrix (in world frame) of the Mechanism. In this case, [RigidBodyDynamics.jl](https://github.com/JuliaRobotics/RigidBodyDynamics.jl) has a specialized algorithm for computing this matrix, so let's verify the results:"
   ]
  },
  {
   "cell_type": "code",
   "execution_count": 143,
   "metadata": {},
   "outputs": [
    {
     "data": {
      "text/plain": [
       "\u001b[1m\u001b[32mTest Passed\u001b[39m\u001b[22m"
      ]
     },
     "execution_count": 143,
     "metadata": {},
     "output_type": "execute_result"
    }
   ],
   "source": [
    "@test J ≈ Array(momentum_matrix(state)) atol = 1e-12"
   ]
  },
  {
   "cell_type": "markdown",
   "metadata": {},
   "source": [
    "### Improving Performance\n",
    "\n",
    "The naive implementation of `mom()` above will be somewhat slow, in part because it will construct a brand-new MechanismState every time. To learn more about improving performance of ForwardDiff with RigidBodyDynamics, see: https://github.com/JuliaRobotics/RigidBodyDynamics.jl/blob/master/notebooks/Derivatives%20and%20gradients%20using%20ForwardDiff.ipynb"
   ]
  },
  {
   "cell_type": "markdown",
   "metadata": {},
   "source": [
    "Now we've covered symbolics and autodiff. For a demonstration of uncertainty propagation, check out the next notebook..."
   ]
  },
  {
   "cell_type": "markdown",
   "metadata": {},
   "source": [
    "# More info"
   ]
  },
  {
   "cell_type": "markdown",
   "metadata": {},
   "source": [
    "Documentation is available at http://www.juliarobotics.org/RigidBodyDynamics.jl/stable/.\n",
    "\n",
    "More example notebooks can be found [here](https://github.com/JuliaRobotics/RigidBodyDynamics.jl/tree/master/notebooks). These examples include:\n",
    "\n",
    "* creating a four-bar linkage (kinematic loops implemented using Lagrange multipliers)\n",
    "* basic simulation with a controller in the loop (but see [RigidBodySim.jl](https://github.com/JuliaRobotics/RigidBodySim.jl) for a more full-fledged implementation).\n",
    "* computing guaranteed error bounds by combining RigidBodyDynamics.jl with [IntervalArithmetic.jl](https://github.com/JuliaIntervals/IntervalArithmetic.jl)."
   ]
  }
 ],
 "metadata": {
  "kernelspec": {
   "display_name": "Julia 0.6.3",
   "language": "julia",
   "name": "julia-0.6"
  },
  "language_info": {
   "file_extension": ".jl",
   "mimetype": "application/julia",
   "name": "julia",
   "version": "0.6.3"
  }
 },
 "nbformat": 4,
 "nbformat_minor": 1
}
